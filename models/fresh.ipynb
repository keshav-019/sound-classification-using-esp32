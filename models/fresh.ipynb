{
 "cells": [
  {
   "cell_type": "code",
   "execution_count": 1,
   "id": "946ad9e8",
   "metadata": {},
   "outputs": [],
   "source": [
    "# loading the processed dataframe\n",
    "import pandas as pd\n",
    "\n",
    "columns = ['Data'+str(i) for i in range(1,1025)]\n",
    "columns.append(\"Class\")\n",
    "\n",
    "df = pd.read_csv('recorded/all_data.csv',names=columns, header=None)"
   ]
  },
  {
   "cell_type": "code",
   "execution_count": 2,
   "id": "bb1a25a1",
   "metadata": {},
   "outputs": [
    {
     "data": {
      "text/html": [
       "<div>\n",
       "<style scoped>\n",
       "    .dataframe tbody tr th:only-of-type {\n",
       "        vertical-align: middle;\n",
       "    }\n",
       "\n",
       "    .dataframe tbody tr th {\n",
       "        vertical-align: top;\n",
       "    }\n",
       "\n",
       "    .dataframe thead th {\n",
       "        text-align: right;\n",
       "    }\n",
       "</style>\n",
       "<table border=\"1\" class=\"dataframe\">\n",
       "  <thead>\n",
       "    <tr style=\"text-align: right;\">\n",
       "      <th></th>\n",
       "      <th>Data1</th>\n",
       "      <th>Data2</th>\n",
       "      <th>Data3</th>\n",
       "      <th>Data4</th>\n",
       "      <th>Data5</th>\n",
       "      <th>Data6</th>\n",
       "      <th>Data7</th>\n",
       "      <th>Data8</th>\n",
       "      <th>Data9</th>\n",
       "      <th>Data10</th>\n",
       "      <th>...</th>\n",
       "      <th>Data1016</th>\n",
       "      <th>Data1017</th>\n",
       "      <th>Data1018</th>\n",
       "      <th>Data1019</th>\n",
       "      <th>Data1020</th>\n",
       "      <th>Data1021</th>\n",
       "      <th>Data1022</th>\n",
       "      <th>Data1023</th>\n",
       "      <th>Data1024</th>\n",
       "      <th>Class</th>\n",
       "    </tr>\n",
       "  </thead>\n",
       "  <tbody>\n",
       "    <tr>\n",
       "      <th>0</th>\n",
       "      <td>1051</td>\n",
       "      <td>1047</td>\n",
       "      <td>1043</td>\n",
       "      <td>1033</td>\n",
       "      <td>1030</td>\n",
       "      <td>1025</td>\n",
       "      <td>1018</td>\n",
       "      <td>1015</td>\n",
       "      <td>1015</td>\n",
       "      <td>1012</td>\n",
       "      <td>...</td>\n",
       "      <td>1068</td>\n",
       "      <td>1066</td>\n",
       "      <td>1067</td>\n",
       "      <td>1062</td>\n",
       "      <td>1051</td>\n",
       "      <td>1040</td>\n",
       "      <td>1033</td>\n",
       "      <td>1036</td>\n",
       "      <td>1040</td>\n",
       "      <td>BELL</td>\n",
       "    </tr>\n",
       "    <tr>\n",
       "      <th>1</th>\n",
       "      <td>1043</td>\n",
       "      <td>1057</td>\n",
       "      <td>1069</td>\n",
       "      <td>1081</td>\n",
       "      <td>1083</td>\n",
       "      <td>1072</td>\n",
       "      <td>1068</td>\n",
       "      <td>1070</td>\n",
       "      <td>1069</td>\n",
       "      <td>1079</td>\n",
       "      <td>...</td>\n",
       "      <td>1071</td>\n",
       "      <td>1055</td>\n",
       "      <td>1049</td>\n",
       "      <td>1056</td>\n",
       "      <td>1066</td>\n",
       "      <td>1065</td>\n",
       "      <td>1065</td>\n",
       "      <td>1065</td>\n",
       "      <td>1057</td>\n",
       "      <td>BELL</td>\n",
       "    </tr>\n",
       "    <tr>\n",
       "      <th>2</th>\n",
       "      <td>1049</td>\n",
       "      <td>1058</td>\n",
       "      <td>1048</td>\n",
       "      <td>1056</td>\n",
       "      <td>1058</td>\n",
       "      <td>1062</td>\n",
       "      <td>1060</td>\n",
       "      <td>1059</td>\n",
       "      <td>1058</td>\n",
       "      <td>1053</td>\n",
       "      <td>...</td>\n",
       "      <td>1042</td>\n",
       "      <td>1038</td>\n",
       "      <td>1028</td>\n",
       "      <td>1026</td>\n",
       "      <td>1023</td>\n",
       "      <td>1025</td>\n",
       "      <td>1021</td>\n",
       "      <td>1017</td>\n",
       "      <td>1009</td>\n",
       "      <td>BELL</td>\n",
       "    </tr>\n",
       "    <tr>\n",
       "      <th>3</th>\n",
       "      <td>1021</td>\n",
       "      <td>1025</td>\n",
       "      <td>1019</td>\n",
       "      <td>997</td>\n",
       "      <td>989</td>\n",
       "      <td>997</td>\n",
       "      <td>1009</td>\n",
       "      <td>1022</td>\n",
       "      <td>1037</td>\n",
       "      <td>1049</td>\n",
       "      <td>...</td>\n",
       "      <td>1046</td>\n",
       "      <td>1047</td>\n",
       "      <td>1047</td>\n",
       "      <td>1039</td>\n",
       "      <td>1031</td>\n",
       "      <td>1034</td>\n",
       "      <td>1039</td>\n",
       "      <td>1049</td>\n",
       "      <td>1054</td>\n",
       "      <td>BELL</td>\n",
       "    </tr>\n",
       "    <tr>\n",
       "      <th>4</th>\n",
       "      <td>1052</td>\n",
       "      <td>1060</td>\n",
       "      <td>1066</td>\n",
       "      <td>1063</td>\n",
       "      <td>1055</td>\n",
       "      <td>1040</td>\n",
       "      <td>1025</td>\n",
       "      <td>1017</td>\n",
       "      <td>1014</td>\n",
       "      <td>1018</td>\n",
       "      <td>...</td>\n",
       "      <td>1077</td>\n",
       "      <td>1074</td>\n",
       "      <td>1065</td>\n",
       "      <td>1050</td>\n",
       "      <td>1041</td>\n",
       "      <td>1039</td>\n",
       "      <td>1030</td>\n",
       "      <td>1024</td>\n",
       "      <td>1019</td>\n",
       "      <td>BELL</td>\n",
       "    </tr>\n",
       "    <tr>\n",
       "      <th>5</th>\n",
       "      <td>995</td>\n",
       "      <td>988</td>\n",
       "      <td>980</td>\n",
       "      <td>977</td>\n",
       "      <td>978</td>\n",
       "      <td>975</td>\n",
       "      <td>976</td>\n",
       "      <td>981</td>\n",
       "      <td>992</td>\n",
       "      <td>998</td>\n",
       "      <td>...</td>\n",
       "      <td>1057</td>\n",
       "      <td>1066</td>\n",
       "      <td>1074</td>\n",
       "      <td>1078</td>\n",
       "      <td>1078</td>\n",
       "      <td>1067</td>\n",
       "      <td>1056</td>\n",
       "      <td>1051</td>\n",
       "      <td>1049</td>\n",
       "      <td>BELL</td>\n",
       "    </tr>\n",
       "    <tr>\n",
       "      <th>6</th>\n",
       "      <td>1031</td>\n",
       "      <td>1035</td>\n",
       "      <td>1037</td>\n",
       "      <td>1036</td>\n",
       "      <td>1036</td>\n",
       "      <td>1040</td>\n",
       "      <td>1049</td>\n",
       "      <td>1056</td>\n",
       "      <td>1065</td>\n",
       "      <td>1067</td>\n",
       "      <td>...</td>\n",
       "      <td>1048</td>\n",
       "      <td>1053</td>\n",
       "      <td>1057</td>\n",
       "      <td>1053</td>\n",
       "      <td>1052</td>\n",
       "      <td>1050</td>\n",
       "      <td>1044</td>\n",
       "      <td>1050</td>\n",
       "      <td>1061</td>\n",
       "      <td>BELL</td>\n",
       "    </tr>\n",
       "    <tr>\n",
       "      <th>7</th>\n",
       "      <td>1051</td>\n",
       "      <td>1048</td>\n",
       "      <td>1041</td>\n",
       "      <td>1035</td>\n",
       "      <td>1029</td>\n",
       "      <td>1029</td>\n",
       "      <td>1031</td>\n",
       "      <td>1027</td>\n",
       "      <td>1020</td>\n",
       "      <td>1026</td>\n",
       "      <td>...</td>\n",
       "      <td>1050</td>\n",
       "      <td>1044</td>\n",
       "      <td>1041</td>\n",
       "      <td>1046</td>\n",
       "      <td>1054</td>\n",
       "      <td>1064</td>\n",
       "      <td>1073</td>\n",
       "      <td>1076</td>\n",
       "      <td>1072</td>\n",
       "      <td>BELL</td>\n",
       "    </tr>\n",
       "    <tr>\n",
       "      <th>8</th>\n",
       "      <td>1000</td>\n",
       "      <td>998</td>\n",
       "      <td>1003</td>\n",
       "      <td>1000</td>\n",
       "      <td>999</td>\n",
       "      <td>999</td>\n",
       "      <td>1007</td>\n",
       "      <td>1010</td>\n",
       "      <td>1016</td>\n",
       "      <td>1021</td>\n",
       "      <td>...</td>\n",
       "      <td>1050</td>\n",
       "      <td>1049</td>\n",
       "      <td>1052</td>\n",
       "      <td>1055</td>\n",
       "      <td>1049</td>\n",
       "      <td>1044</td>\n",
       "      <td>1034</td>\n",
       "      <td>1029</td>\n",
       "      <td>1041</td>\n",
       "      <td>BELL</td>\n",
       "    </tr>\n",
       "    <tr>\n",
       "      <th>9</th>\n",
       "      <td>1040</td>\n",
       "      <td>1038</td>\n",
       "      <td>1045</td>\n",
       "      <td>1053</td>\n",
       "      <td>1054</td>\n",
       "      <td>1063</td>\n",
       "      <td>1066</td>\n",
       "      <td>1063</td>\n",
       "      <td>1063</td>\n",
       "      <td>1063</td>\n",
       "      <td>...</td>\n",
       "      <td>1071</td>\n",
       "      <td>1078</td>\n",
       "      <td>1080</td>\n",
       "      <td>1077</td>\n",
       "      <td>1072</td>\n",
       "      <td>1066</td>\n",
       "      <td>1052</td>\n",
       "      <td>1043</td>\n",
       "      <td>1041</td>\n",
       "      <td>BELL</td>\n",
       "    </tr>\n",
       "  </tbody>\n",
       "</table>\n",
       "<p>10 rows × 1025 columns</p>\n",
       "</div>"
      ],
      "text/plain": [
       "   Data1  Data2  Data3  Data4  Data5  Data6  Data7  Data8  Data9  Data10  ...  \\\n",
       "0   1051   1047   1043   1033   1030   1025   1018   1015   1015    1012  ...   \n",
       "1   1043   1057   1069   1081   1083   1072   1068   1070   1069    1079  ...   \n",
       "2   1049   1058   1048   1056   1058   1062   1060   1059   1058    1053  ...   \n",
       "3   1021   1025   1019    997    989    997   1009   1022   1037    1049  ...   \n",
       "4   1052   1060   1066   1063   1055   1040   1025   1017   1014    1018  ...   \n",
       "5    995    988    980    977    978    975    976    981    992     998  ...   \n",
       "6   1031   1035   1037   1036   1036   1040   1049   1056   1065    1067  ...   \n",
       "7   1051   1048   1041   1035   1029   1029   1031   1027   1020    1026  ...   \n",
       "8   1000    998   1003   1000    999    999   1007   1010   1016    1021  ...   \n",
       "9   1040   1038   1045   1053   1054   1063   1066   1063   1063    1063  ...   \n",
       "\n",
       "   Data1016  Data1017  Data1018  Data1019  Data1020  Data1021  Data1022  \\\n",
       "0      1068      1066      1067      1062      1051      1040      1033   \n",
       "1      1071      1055      1049      1056      1066      1065      1065   \n",
       "2      1042      1038      1028      1026      1023      1025      1021   \n",
       "3      1046      1047      1047      1039      1031      1034      1039   \n",
       "4      1077      1074      1065      1050      1041      1039      1030   \n",
       "5      1057      1066      1074      1078      1078      1067      1056   \n",
       "6      1048      1053      1057      1053      1052      1050      1044   \n",
       "7      1050      1044      1041      1046      1054      1064      1073   \n",
       "8      1050      1049      1052      1055      1049      1044      1034   \n",
       "9      1071      1078      1080      1077      1072      1066      1052   \n",
       "\n",
       "   Data1023  Data1024  Class  \n",
       "0      1036      1040   BELL  \n",
       "1      1065      1057   BELL  \n",
       "2      1017      1009   BELL  \n",
       "3      1049      1054   BELL  \n",
       "4      1024      1019   BELL  \n",
       "5      1051      1049   BELL  \n",
       "6      1050      1061   BELL  \n",
       "7      1076      1072   BELL  \n",
       "8      1029      1041   BELL  \n",
       "9      1043      1041   BELL  \n",
       "\n",
       "[10 rows x 1025 columns]"
      ]
     },
     "execution_count": 2,
     "metadata": {},
     "output_type": "execute_result"
    }
   ],
   "source": [
    "df.head(10)"
   ]
  },
  {
   "cell_type": "code",
   "execution_count": 3,
   "id": "f87cf823",
   "metadata": {},
   "outputs": [
    {
     "data": {
      "text/plain": [
       "(164994, 1025)"
      ]
     },
     "execution_count": 3,
     "metadata": {},
     "output_type": "execute_result"
    }
   ],
   "source": [
    "df.shape"
   ]
  },
  {
   "cell_type": "code",
   "execution_count": 4,
   "id": "c53d73a6",
   "metadata": {},
   "outputs": [
    {
     "data": {
      "text/plain": [
       "Class\n",
       "BELL           27499\n",
       "NOISE          27499\n",
       "CRYING_BABY    27499\n",
       "ALARM          27499\n",
       "RAIN           27499\n",
       "ROOSTER        27499\n",
       "Name: count, dtype: int64"
      ]
     },
     "execution_count": 4,
     "metadata": {},
     "output_type": "execute_result"
    }
   ],
   "source": [
    "df['Class'].value_counts()"
   ]
  },
  {
   "cell_type": "code",
   "execution_count": 2,
   "id": "330fe92f",
   "metadata": {},
   "outputs": [],
   "source": [
    "# removing these 7443 rows with all zero except the class\n",
    "df = df[df.apply(lambda row: (row == 0).sum() <= 0, axis=1)]"
   ]
  },
  {
   "cell_type": "code",
   "execution_count": 6,
   "id": "4cfce853",
   "metadata": {},
   "outputs": [
    {
     "data": {
      "text/plain": [
       "Class\n",
       "NOISE          27499\n",
       "BELL           26987\n",
       "RAIN           26813\n",
       "ROOSTER        26669\n",
       "ALARM          26574\n",
       "CRYING_BABY    26163\n",
       "Name: count, dtype: int64"
      ]
     },
     "execution_count": 6,
     "metadata": {},
     "output_type": "execute_result"
    }
   ],
   "source": [
    "df['Class'].value_counts()"
   ]
  },
  {
   "cell_type": "code",
   "execution_count": 2,
   "id": "79c8e55c",
   "metadata": {},
   "outputs": [
    {
     "name": "stderr",
     "output_type": "stream",
     "text": [
      "2025-05-08 18:29:47.639675: I external/local_xla/xla/tsl/cuda/cudart_stub.cc:32] Could not find cuda drivers on your machine, GPU will not be used.\n",
      "2025-05-08 18:29:47.643614: I external/local_xla/xla/tsl/cuda/cudart_stub.cc:32] Could not find cuda drivers on your machine, GPU will not be used.\n",
      "2025-05-08 18:29:47.652248: E external/local_xla/xla/stream_executor/cuda/cuda_fft.cc:467] Unable to register cuFFT factory: Attempting to register factory for plugin cuFFT when one has already been registered\n",
      "WARNING: All log messages before absl::InitializeLog() is called are written to STDERR\n",
      "E0000 00:00:1746709187.665674   23304 cuda_dnn.cc:8579] Unable to register cuDNN factory: Attempting to register factory for plugin cuDNN when one has already been registered\n",
      "E0000 00:00:1746709187.669519   23304 cuda_blas.cc:1407] Unable to register cuBLAS factory: Attempting to register factory for plugin cuBLAS when one has already been registered\n",
      "W0000 00:00:1746709187.680418   23304 computation_placer.cc:177] computation placer already registered. Please check linkage and avoid linking the same target more than once.\n",
      "W0000 00:00:1746709187.680438   23304 computation_placer.cc:177] computation placer already registered. Please check linkage and avoid linking the same target more than once.\n",
      "W0000 00:00:1746709187.680440   23304 computation_placer.cc:177] computation placer already registered. Please check linkage and avoid linking the same target more than once.\n",
      "W0000 00:00:1746709187.680442   23304 computation_placer.cc:177] computation placer already registered. Please check linkage and avoid linking the same target more than once.\n",
      "2025-05-08 18:29:47.684023: I tensorflow/core/platform/cpu_feature_guard.cc:210] This TensorFlow binary is optimized to use available CPU instructions in performance-critical operations.\n",
      "To enable the following instructions: AVX2 FMA, in other operations, rebuild TensorFlow with the appropriate compiler flags.\n"
     ]
    }
   ],
   "source": [
    "import pandas as pd\n",
    "import numpy as np\n",
    "from sklearn.preprocessing import LabelEncoder, MinMaxScaler\n",
    "from sklearn.model_selection import train_test_split\n",
    "from tensorflow.keras.utils import to_categorical\n",
    "\n",
    "# Separate features and labels\n",
    "X = df.iloc[:, :-1].values  # all rows, all columns except the last\n",
    "y = df.iloc[:, -1].values   # class labels\n",
    "\n",
    "# Normalize features\n",
    "scaler = MinMaxScaler()\n",
    "X_scaled = scaler.fit_transform(X)\n",
    "\n",
    "# Reshape for RNN input: (samples, timesteps, features)\n",
    "# Assuming each sound sample is already flattened and needs to be reshaped\n",
    "# e.g., 1000 samples, 100 timesteps, 1 feature -> reshape accordingly\n",
    "\n",
    "# Encode labels\n",
    "encoder = LabelEncoder()\n",
    "y_encoded = encoder.fit_transform(y)\n",
    "y_categorical = to_categorical(y_encoded, num_classes=6)\n",
    "\n",
    "# Split the dataset\n",
    "X_train, X_test, y_train, y_test = train_test_split(X_scaled, y_categorical, test_size=0.2, random_state=42)\n"
   ]
  },
  {
   "cell_type": "code",
   "execution_count": 8,
   "id": "c2980dbb",
   "metadata": {},
   "outputs": [
    {
     "name": "stdout",
     "output_type": "stream",
     "text": [
      "{'ALARM': 0, 'BELL': 1, 'CRYING_BABY': 2, 'NOISE': 3, 'RAIN': 4, 'ROOSTER': 5}\n"
     ]
    }
   ],
   "source": [
    "# Print the mapping of labels to encoded numbers\n",
    "label_mapping = dict(zip(encoder.classes_, range(len(encoder.classes_))))\n",
    "print(label_mapping)"
   ]
  },
  {
   "cell_type": "code",
   "execution_count": 9,
   "id": "42c26516",
   "metadata": {},
   "outputs": [
    {
     "data": {
      "text/plain": [
       "(160705, 1025)"
      ]
     },
     "execution_count": 9,
     "metadata": {},
     "output_type": "execute_result"
    }
   ],
   "source": [
    "df.shape"
   ]
  },
  {
   "cell_type": "code",
   "execution_count": 10,
   "id": "306eb26e",
   "metadata": {},
   "outputs": [
    {
     "data": {
      "text/plain": [
       "(160705, 1024)"
      ]
     },
     "execution_count": 10,
     "metadata": {},
     "output_type": "execute_result"
    }
   ],
   "source": [
    "X.shape"
   ]
  },
  {
   "cell_type": "markdown",
   "id": "9de7ab46",
   "metadata": {},
   "source": [
    "# Model with size < 200 KB"
   ]
  },
  {
   "cell_type": "code",
   "execution_count": 18,
   "id": "272ba0c1",
   "metadata": {},
   "outputs": [
    {
     "name": "stderr",
     "output_type": "stream",
     "text": [
      "/home/sumanshu/MtechProject/sound_manipulation/env/lib/python3.12/site-packages/keras/src/layers/core/input_layer.py:27: UserWarning: Argument `input_shape` is deprecated. Use `shape` instead.\n",
      "  warnings.warn(\n"
     ]
    },
    {
     "data": {
      "text/html": [
       "<pre style=\"white-space:pre;overflow-x:auto;line-height:normal;font-family:Menlo,'DejaVu Sans Mono',consolas,'Courier New',monospace\"><span style=\"font-weight: bold\">Model: \"sequential_3\"</span>\n",
       "</pre>\n"
      ],
      "text/plain": [
       "\u001b[1mModel: \"sequential_3\"\u001b[0m\n"
      ]
     },
     "metadata": {},
     "output_type": "display_data"
    },
    {
     "data": {
      "text/html": [
       "<pre style=\"white-space:pre;overflow-x:auto;line-height:normal;font-family:Menlo,'DejaVu Sans Mono',consolas,'Courier New',monospace\">┏━━━━━━━━━━━━━━━━━━━━━━━━━━━━━━━━━┳━━━━━━━━━━━━━━━━━━━━━━━━┳━━━━━━━━━━━━━━━┓\n",
       "┃<span style=\"font-weight: bold\"> Layer (type)                    </span>┃<span style=\"font-weight: bold\"> Output Shape           </span>┃<span style=\"font-weight: bold\">       Param # </span>┃\n",
       "┡━━━━━━━━━━━━━━━━━━━━━━━━━━━━━━━━━╇━━━━━━━━━━━━━━━━━━━━━━━━╇━━━━━━━━━━━━━━━┩\n",
       "│ conv1d (<span style=\"color: #0087ff; text-decoration-color: #0087ff\">Conv1D</span>)                 │ (<span style=\"color: #00d7ff; text-decoration-color: #00d7ff\">None</span>, <span style=\"color: #00af00; text-decoration-color: #00af00\">1024</span>, <span style=\"color: #00af00; text-decoration-color: #00af00\">16</span>)       │            <span style=\"color: #00af00; text-decoration-color: #00af00\">64</span> │\n",
       "├─────────────────────────────────┼────────────────────────┼───────────────┤\n",
       "│ depthwise_conv1d                │ (<span style=\"color: #00d7ff; text-decoration-color: #00d7ff\">None</span>, <span style=\"color: #00af00; text-decoration-color: #00af00\">1024</span>, <span style=\"color: #00af00; text-decoration-color: #00af00\">16</span>)       │            <span style=\"color: #00af00; text-decoration-color: #00af00\">64</span> │\n",
       "│ (<span style=\"color: #0087ff; text-decoration-color: #0087ff\">DepthwiseConv1D</span>)               │                        │               │\n",
       "├─────────────────────────────────┼────────────────────────┼───────────────┤\n",
       "│ max_pooling1d (<span style=\"color: #0087ff; text-decoration-color: #0087ff\">MaxPooling1D</span>)    │ (<span style=\"color: #00d7ff; text-decoration-color: #00d7ff\">None</span>, <span style=\"color: #00af00; text-decoration-color: #00af00\">512</span>, <span style=\"color: #00af00; text-decoration-color: #00af00\">16</span>)        │             <span style=\"color: #00af00; text-decoration-color: #00af00\">0</span> │\n",
       "├─────────────────────────────────┼────────────────────────┼───────────────┤\n",
       "│ conv1d_1 (<span style=\"color: #0087ff; text-decoration-color: #0087ff\">Conv1D</span>)               │ (<span style=\"color: #00d7ff; text-decoration-color: #00d7ff\">None</span>, <span style=\"color: #00af00; text-decoration-color: #00af00\">512</span>, <span style=\"color: #00af00; text-decoration-color: #00af00\">16</span>)        │           <span style=\"color: #00af00; text-decoration-color: #00af00\">784</span> │\n",
       "├─────────────────────────────────┼────────────────────────┼───────────────┤\n",
       "│ depthwise_conv1d_1              │ (<span style=\"color: #00d7ff; text-decoration-color: #00d7ff\">None</span>, <span style=\"color: #00af00; text-decoration-color: #00af00\">512</span>, <span style=\"color: #00af00; text-decoration-color: #00af00\">16</span>)        │            <span style=\"color: #00af00; text-decoration-color: #00af00\">64</span> │\n",
       "│ (<span style=\"color: #0087ff; text-decoration-color: #0087ff\">DepthwiseConv1D</span>)               │                        │               │\n",
       "├─────────────────────────────────┼────────────────────────┼───────────────┤\n",
       "│ max_pooling1d_1 (<span style=\"color: #0087ff; text-decoration-color: #0087ff\">MaxPooling1D</span>)  │ (<span style=\"color: #00d7ff; text-decoration-color: #00d7ff\">None</span>, <span style=\"color: #00af00; text-decoration-color: #00af00\">256</span>, <span style=\"color: #00af00; text-decoration-color: #00af00\">16</span>)        │             <span style=\"color: #00af00; text-decoration-color: #00af00\">0</span> │\n",
       "├─────────────────────────────────┼────────────────────────┼───────────────┤\n",
       "│ conv1d_2 (<span style=\"color: #0087ff; text-decoration-color: #0087ff\">Conv1D</span>)               │ (<span style=\"color: #00d7ff; text-decoration-color: #00d7ff\">None</span>, <span style=\"color: #00af00; text-decoration-color: #00af00\">256</span>, <span style=\"color: #00af00; text-decoration-color: #00af00\">16</span>)        │           <span style=\"color: #00af00; text-decoration-color: #00af00\">784</span> │\n",
       "├─────────────────────────────────┼────────────────────────┼───────────────┤\n",
       "│ depthwise_conv1d_2              │ (<span style=\"color: #00d7ff; text-decoration-color: #00d7ff\">None</span>, <span style=\"color: #00af00; text-decoration-color: #00af00\">256</span>, <span style=\"color: #00af00; text-decoration-color: #00af00\">16</span>)        │            <span style=\"color: #00af00; text-decoration-color: #00af00\">64</span> │\n",
       "│ (<span style=\"color: #0087ff; text-decoration-color: #0087ff\">DepthwiseConv1D</span>)               │                        │               │\n",
       "├─────────────────────────────────┼────────────────────────┼───────────────┤\n",
       "│ max_pooling1d_2 (<span style=\"color: #0087ff; text-decoration-color: #0087ff\">MaxPooling1D</span>)  │ (<span style=\"color: #00d7ff; text-decoration-color: #00d7ff\">None</span>, <span style=\"color: #00af00; text-decoration-color: #00af00\">128</span>, <span style=\"color: #00af00; text-decoration-color: #00af00\">16</span>)        │             <span style=\"color: #00af00; text-decoration-color: #00af00\">0</span> │\n",
       "├─────────────────────────────────┼────────────────────────┼───────────────┤\n",
       "│ flatten_3 (<span style=\"color: #0087ff; text-decoration-color: #0087ff\">Flatten</span>)             │ (<span style=\"color: #00d7ff; text-decoration-color: #00d7ff\">None</span>, <span style=\"color: #00af00; text-decoration-color: #00af00\">2048</span>)           │             <span style=\"color: #00af00; text-decoration-color: #00af00\">0</span> │\n",
       "├─────────────────────────────────┼────────────────────────┼───────────────┤\n",
       "│ dense_6 (<span style=\"color: #0087ff; text-decoration-color: #0087ff\">Dense</span>)                 │ (<span style=\"color: #00d7ff; text-decoration-color: #00d7ff\">None</span>, <span style=\"color: #00af00; text-decoration-color: #00af00\">64</span>)             │       <span style=\"color: #00af00; text-decoration-color: #00af00\">131,136</span> │\n",
       "├─────────────────────────────────┼────────────────────────┼───────────────┤\n",
       "│ dense_7 (<span style=\"color: #0087ff; text-decoration-color: #0087ff\">Dense</span>)                 │ (<span style=\"color: #00d7ff; text-decoration-color: #00d7ff\">None</span>, <span style=\"color: #00af00; text-decoration-color: #00af00\">6</span>)              │           <span style=\"color: #00af00; text-decoration-color: #00af00\">390</span> │\n",
       "└─────────────────────────────────┴────────────────────────┴───────────────┘\n",
       "</pre>\n"
      ],
      "text/plain": [
       "┏━━━━━━━━━━━━━━━━━━━━━━━━━━━━━━━━━┳━━━━━━━━━━━━━━━━━━━━━━━━┳━━━━━━━━━━━━━━━┓\n",
       "┃\u001b[1m \u001b[0m\u001b[1mLayer (type)                   \u001b[0m\u001b[1m \u001b[0m┃\u001b[1m \u001b[0m\u001b[1mOutput Shape          \u001b[0m\u001b[1m \u001b[0m┃\u001b[1m \u001b[0m\u001b[1m      Param #\u001b[0m\u001b[1m \u001b[0m┃\n",
       "┡━━━━━━━━━━━━━━━━━━━━━━━━━━━━━━━━━╇━━━━━━━━━━━━━━━━━━━━━━━━╇━━━━━━━━━━━━━━━┩\n",
       "│ conv1d (\u001b[38;5;33mConv1D\u001b[0m)                 │ (\u001b[38;5;45mNone\u001b[0m, \u001b[38;5;34m1024\u001b[0m, \u001b[38;5;34m16\u001b[0m)       │            \u001b[38;5;34m64\u001b[0m │\n",
       "├─────────────────────────────────┼────────────────────────┼───────────────┤\n",
       "│ depthwise_conv1d                │ (\u001b[38;5;45mNone\u001b[0m, \u001b[38;5;34m1024\u001b[0m, \u001b[38;5;34m16\u001b[0m)       │            \u001b[38;5;34m64\u001b[0m │\n",
       "│ (\u001b[38;5;33mDepthwiseConv1D\u001b[0m)               │                        │               │\n",
       "├─────────────────────────────────┼────────────────────────┼───────────────┤\n",
       "│ max_pooling1d (\u001b[38;5;33mMaxPooling1D\u001b[0m)    │ (\u001b[38;5;45mNone\u001b[0m, \u001b[38;5;34m512\u001b[0m, \u001b[38;5;34m16\u001b[0m)        │             \u001b[38;5;34m0\u001b[0m │\n",
       "├─────────────────────────────────┼────────────────────────┼───────────────┤\n",
       "│ conv1d_1 (\u001b[38;5;33mConv1D\u001b[0m)               │ (\u001b[38;5;45mNone\u001b[0m, \u001b[38;5;34m512\u001b[0m, \u001b[38;5;34m16\u001b[0m)        │           \u001b[38;5;34m784\u001b[0m │\n",
       "├─────────────────────────────────┼────────────────────────┼───────────────┤\n",
       "│ depthwise_conv1d_1              │ (\u001b[38;5;45mNone\u001b[0m, \u001b[38;5;34m512\u001b[0m, \u001b[38;5;34m16\u001b[0m)        │            \u001b[38;5;34m64\u001b[0m │\n",
       "│ (\u001b[38;5;33mDepthwiseConv1D\u001b[0m)               │                        │               │\n",
       "├─────────────────────────────────┼────────────────────────┼───────────────┤\n",
       "│ max_pooling1d_1 (\u001b[38;5;33mMaxPooling1D\u001b[0m)  │ (\u001b[38;5;45mNone\u001b[0m, \u001b[38;5;34m256\u001b[0m, \u001b[38;5;34m16\u001b[0m)        │             \u001b[38;5;34m0\u001b[0m │\n",
       "├─────────────────────────────────┼────────────────────────┼───────────────┤\n",
       "│ conv1d_2 (\u001b[38;5;33mConv1D\u001b[0m)               │ (\u001b[38;5;45mNone\u001b[0m, \u001b[38;5;34m256\u001b[0m, \u001b[38;5;34m16\u001b[0m)        │           \u001b[38;5;34m784\u001b[0m │\n",
       "├─────────────────────────────────┼────────────────────────┼───────────────┤\n",
       "│ depthwise_conv1d_2              │ (\u001b[38;5;45mNone\u001b[0m, \u001b[38;5;34m256\u001b[0m, \u001b[38;5;34m16\u001b[0m)        │            \u001b[38;5;34m64\u001b[0m │\n",
       "│ (\u001b[38;5;33mDepthwiseConv1D\u001b[0m)               │                        │               │\n",
       "├─────────────────────────────────┼────────────────────────┼───────────────┤\n",
       "│ max_pooling1d_2 (\u001b[38;5;33mMaxPooling1D\u001b[0m)  │ (\u001b[38;5;45mNone\u001b[0m, \u001b[38;5;34m128\u001b[0m, \u001b[38;5;34m16\u001b[0m)        │             \u001b[38;5;34m0\u001b[0m │\n",
       "├─────────────────────────────────┼────────────────────────┼───────────────┤\n",
       "│ flatten_3 (\u001b[38;5;33mFlatten\u001b[0m)             │ (\u001b[38;5;45mNone\u001b[0m, \u001b[38;5;34m2048\u001b[0m)           │             \u001b[38;5;34m0\u001b[0m │\n",
       "├─────────────────────────────────┼────────────────────────┼───────────────┤\n",
       "│ dense_6 (\u001b[38;5;33mDense\u001b[0m)                 │ (\u001b[38;5;45mNone\u001b[0m, \u001b[38;5;34m64\u001b[0m)             │       \u001b[38;5;34m131,136\u001b[0m │\n",
       "├─────────────────────────────────┼────────────────────────┼───────────────┤\n",
       "│ dense_7 (\u001b[38;5;33mDense\u001b[0m)                 │ (\u001b[38;5;45mNone\u001b[0m, \u001b[38;5;34m6\u001b[0m)              │           \u001b[38;5;34m390\u001b[0m │\n",
       "└─────────────────────────────────┴────────────────────────┴───────────────┘\n"
      ]
     },
     "metadata": {},
     "output_type": "display_data"
    },
    {
     "data": {
      "text/html": [
       "<pre style=\"white-space:pre;overflow-x:auto;line-height:normal;font-family:Menlo,'DejaVu Sans Mono',consolas,'Courier New',monospace\"><span style=\"font-weight: bold\"> Total params: </span><span style=\"color: #00af00; text-decoration-color: #00af00\">133,350</span> (520.90 KB)\n",
       "</pre>\n"
      ],
      "text/plain": [
       "\u001b[1m Total params: \u001b[0m\u001b[38;5;34m133,350\u001b[0m (520.90 KB)\n"
      ]
     },
     "metadata": {},
     "output_type": "display_data"
    },
    {
     "data": {
      "text/html": [
       "<pre style=\"white-space:pre;overflow-x:auto;line-height:normal;font-family:Menlo,'DejaVu Sans Mono',consolas,'Courier New',monospace\"><span style=\"font-weight: bold\"> Trainable params: </span><span style=\"color: #00af00; text-decoration-color: #00af00\">133,350</span> (520.90 KB)\n",
       "</pre>\n"
      ],
      "text/plain": [
       "\u001b[1m Trainable params: \u001b[0m\u001b[38;5;34m133,350\u001b[0m (520.90 KB)\n"
      ]
     },
     "metadata": {},
     "output_type": "display_data"
    },
    {
     "data": {
      "text/html": [
       "<pre style=\"white-space:pre;overflow-x:auto;line-height:normal;font-family:Menlo,'DejaVu Sans Mono',consolas,'Courier New',monospace\"><span style=\"font-weight: bold\"> Non-trainable params: </span><span style=\"color: #00af00; text-decoration-color: #00af00\">0</span> (0.00 B)\n",
       "</pre>\n"
      ],
      "text/plain": [
       "\u001b[1m Non-trainable params: \u001b[0m\u001b[38;5;34m0\u001b[0m (0.00 B)\n"
      ]
     },
     "metadata": {},
     "output_type": "display_data"
    }
   ],
   "source": [
    "from tensorflow.keras import layers, models\n",
    "\n",
    "model = models.Sequential([\n",
    "    layers.InputLayer(input_shape=(1024,1)),\n",
    "\n",
    "    layers.Conv1D(16, 3, activation='relu', padding='same'),\n",
    "    layers.DepthwiseConv1D(3, activation='relu', padding='same'),\n",
    "    layers.MaxPooling1D(pool_size=2),\n",
    "\n",
    "    layers.Conv1D(16, 3, activation='relu', padding='same'),\n",
    "    layers.DepthwiseConv1D(3, activation='relu', padding='same'),\n",
    "    layers.MaxPooling1D(pool_size=2),\n",
    "\n",
    "    layers.Conv1D(16, 3, activation='relu', padding='same'),\n",
    "    layers.DepthwiseConv1D(3, activation='relu', padding='same'),\n",
    "    layers.MaxPooling1D(pool_size=2),\n",
    "\n",
    "    layers.Flatten(),\n",
    "\n",
    "    layers.Dense(64, activation='relu'),\n",
    "    layers.Dense(6, activation='softmax')\n",
    "])\n",
    "\n",
    "model.compile(optimizer='adam', loss='categorical_crossentropy', metrics=['accuracy'])\n",
    "\n",
    "model.summary()"
   ]
  },
  {
   "cell_type": "code",
   "execution_count": null,
   "id": "486a3d10",
   "metadata": {},
   "outputs": [
    {
     "data": {
      "text/html": [
       "<pre style=\"white-space:pre;overflow-x:auto;line-height:normal;font-family:Menlo,'DejaVu Sans Mono',consolas,'Courier New',monospace\"><span style=\"font-weight: bold\">Model: \"sequential_8\"</span>\n",
       "</pre>\n"
      ],
      "text/plain": [
       "\u001b[1mModel: \"sequential_8\"\u001b[0m\n"
      ]
     },
     "metadata": {},
     "output_type": "display_data"
    },
    {
     "data": {
      "text/html": [
       "<pre style=\"white-space:pre;overflow-x:auto;line-height:normal;font-family:Menlo,'DejaVu Sans Mono',consolas,'Courier New',monospace\">┏━━━━━━━━━━━━━━━━━━━━━━━━━━━━━━━━━┳━━━━━━━━━━━━━━━━━━━━━━━━┳━━━━━━━━━━━━━━━┓\n",
       "┃<span style=\"font-weight: bold\"> Layer (type)                    </span>┃<span style=\"font-weight: bold\"> Output Shape           </span>┃<span style=\"font-weight: bold\">       Param # </span>┃\n",
       "┡━━━━━━━━━━━━━━━━━━━━━━━━━━━━━━━━━╇━━━━━━━━━━━━━━━━━━━━━━━━╇━━━━━━━━━━━━━━━┩\n",
       "│ reshape_6 (<span style=\"color: #0087ff; text-decoration-color: #0087ff\">Reshape</span>)             │ (<span style=\"color: #00d7ff; text-decoration-color: #00d7ff\">None</span>, <span style=\"color: #00af00; text-decoration-color: #00af00\">32</span>, <span style=\"color: #00af00; text-decoration-color: #00af00\">32</span>, <span style=\"color: #00af00; text-decoration-color: #00af00\">1</span>)      │             <span style=\"color: #00af00; text-decoration-color: #00af00\">0</span> │\n",
       "├─────────────────────────────────┼────────────────────────┼───────────────┤\n",
       "│ conv2d_24 (<span style=\"color: #0087ff; text-decoration-color: #0087ff\">Conv2D</span>)              │ (<span style=\"color: #00d7ff; text-decoration-color: #00d7ff\">None</span>, <span style=\"color: #00af00; text-decoration-color: #00af00\">32</span>, <span style=\"color: #00af00; text-decoration-color: #00af00\">32</span>, <span style=\"color: #00af00; text-decoration-color: #00af00\">32</span>)     │           <span style=\"color: #00af00; text-decoration-color: #00af00\">320</span> │\n",
       "├─────────────────────────────────┼────────────────────────┼───────────────┤\n",
       "│ max_pooling2d_18 (<span style=\"color: #0087ff; text-decoration-color: #0087ff\">MaxPooling2D</span>) │ (<span style=\"color: #00d7ff; text-decoration-color: #00d7ff\">None</span>, <span style=\"color: #00af00; text-decoration-color: #00af00\">16</span>, <span style=\"color: #00af00; text-decoration-color: #00af00\">16</span>, <span style=\"color: #00af00; text-decoration-color: #00af00\">32</span>)     │             <span style=\"color: #00af00; text-decoration-color: #00af00\">0</span> │\n",
       "├─────────────────────────────────┼────────────────────────┼───────────────┤\n",
       "│ conv2d_25 (<span style=\"color: #0087ff; text-decoration-color: #0087ff\">Conv2D</span>)              │ (<span style=\"color: #00d7ff; text-decoration-color: #00d7ff\">None</span>, <span style=\"color: #00af00; text-decoration-color: #00af00\">16</span>, <span style=\"color: #00af00; text-decoration-color: #00af00\">16</span>, <span style=\"color: #00af00; text-decoration-color: #00af00\">64</span>)     │        <span style=\"color: #00af00; text-decoration-color: #00af00\">18,496</span> │\n",
       "├─────────────────────────────────┼────────────────────────┼───────────────┤\n",
       "│ max_pooling2d_19 (<span style=\"color: #0087ff; text-decoration-color: #0087ff\">MaxPooling2D</span>) │ (<span style=\"color: #00d7ff; text-decoration-color: #00d7ff\">None</span>, <span style=\"color: #00af00; text-decoration-color: #00af00\">8</span>, <span style=\"color: #00af00; text-decoration-color: #00af00\">8</span>, <span style=\"color: #00af00; text-decoration-color: #00af00\">64</span>)       │             <span style=\"color: #00af00; text-decoration-color: #00af00\">0</span> │\n",
       "├─────────────────────────────────┼────────────────────────┼───────────────┤\n",
       "│ conv2d_26 (<span style=\"color: #0087ff; text-decoration-color: #0087ff\">Conv2D</span>)              │ (<span style=\"color: #00d7ff; text-decoration-color: #00d7ff\">None</span>, <span style=\"color: #00af00; text-decoration-color: #00af00\">8</span>, <span style=\"color: #00af00; text-decoration-color: #00af00\">8</span>, <span style=\"color: #00af00; text-decoration-color: #00af00\">128</span>)      │        <span style=\"color: #00af00; text-decoration-color: #00af00\">73,856</span> │\n",
       "├─────────────────────────────────┼────────────────────────┼───────────────┤\n",
       "│ max_pooling2d_20 (<span style=\"color: #0087ff; text-decoration-color: #0087ff\">MaxPooling2D</span>) │ (<span style=\"color: #00d7ff; text-decoration-color: #00d7ff\">None</span>, <span style=\"color: #00af00; text-decoration-color: #00af00\">4</span>, <span style=\"color: #00af00; text-decoration-color: #00af00\">4</span>, <span style=\"color: #00af00; text-decoration-color: #00af00\">128</span>)      │             <span style=\"color: #00af00; text-decoration-color: #00af00\">0</span> │\n",
       "├─────────────────────────────────┼────────────────────────┼───────────────┤\n",
       "│ reshape_7 (<span style=\"color: #0087ff; text-decoration-color: #0087ff\">Reshape</span>)             │ (<span style=\"color: #00d7ff; text-decoration-color: #00d7ff\">None</span>, <span style=\"color: #00af00; text-decoration-color: #00af00\">2048</span>)           │             <span style=\"color: #00af00; text-decoration-color: #00af00\">0</span> │\n",
       "├─────────────────────────────────┼────────────────────────┼───────────────┤\n",
       "│ dense_16 (<span style=\"color: #0087ff; text-decoration-color: #0087ff\">Dense</span>)                │ (<span style=\"color: #00d7ff; text-decoration-color: #00d7ff\">None</span>, <span style=\"color: #00af00; text-decoration-color: #00af00\">128</span>)            │       <span style=\"color: #00af00; text-decoration-color: #00af00\">262,272</span> │\n",
       "├─────────────────────────────────┼────────────────────────┼───────────────┤\n",
       "│ dropout_2 (<span style=\"color: #0087ff; text-decoration-color: #0087ff\">Dropout</span>)             │ (<span style=\"color: #00d7ff; text-decoration-color: #00d7ff\">None</span>, <span style=\"color: #00af00; text-decoration-color: #00af00\">128</span>)            │             <span style=\"color: #00af00; text-decoration-color: #00af00\">0</span> │\n",
       "├─────────────────────────────────┼────────────────────────┼───────────────┤\n",
       "│ dense_17 (<span style=\"color: #0087ff; text-decoration-color: #0087ff\">Dense</span>)                │ (<span style=\"color: #00d7ff; text-decoration-color: #00d7ff\">None</span>, <span style=\"color: #00af00; text-decoration-color: #00af00\">6</span>)              │           <span style=\"color: #00af00; text-decoration-color: #00af00\">774</span> │\n",
       "└─────────────────────────────────┴────────────────────────┴───────────────┘\n",
       "</pre>\n"
      ],
      "text/plain": [
       "┏━━━━━━━━━━━━━━━━━━━━━━━━━━━━━━━━━┳━━━━━━━━━━━━━━━━━━━━━━━━┳━━━━━━━━━━━━━━━┓\n",
       "┃\u001b[1m \u001b[0m\u001b[1mLayer (type)                   \u001b[0m\u001b[1m \u001b[0m┃\u001b[1m \u001b[0m\u001b[1mOutput Shape          \u001b[0m\u001b[1m \u001b[0m┃\u001b[1m \u001b[0m\u001b[1m      Param #\u001b[0m\u001b[1m \u001b[0m┃\n",
       "┡━━━━━━━━━━━━━━━━━━━━━━━━━━━━━━━━━╇━━━━━━━━━━━━━━━━━━━━━━━━╇━━━━━━━━━━━━━━━┩\n",
       "│ reshape_6 (\u001b[38;5;33mReshape\u001b[0m)             │ (\u001b[38;5;45mNone\u001b[0m, \u001b[38;5;34m32\u001b[0m, \u001b[38;5;34m32\u001b[0m, \u001b[38;5;34m1\u001b[0m)      │             \u001b[38;5;34m0\u001b[0m │\n",
       "├─────────────────────────────────┼────────────────────────┼───────────────┤\n",
       "│ conv2d_24 (\u001b[38;5;33mConv2D\u001b[0m)              │ (\u001b[38;5;45mNone\u001b[0m, \u001b[38;5;34m32\u001b[0m, \u001b[38;5;34m32\u001b[0m, \u001b[38;5;34m32\u001b[0m)     │           \u001b[38;5;34m320\u001b[0m │\n",
       "├─────────────────────────────────┼────────────────────────┼───────────────┤\n",
       "│ max_pooling2d_18 (\u001b[38;5;33mMaxPooling2D\u001b[0m) │ (\u001b[38;5;45mNone\u001b[0m, \u001b[38;5;34m16\u001b[0m, \u001b[38;5;34m16\u001b[0m, \u001b[38;5;34m32\u001b[0m)     │             \u001b[38;5;34m0\u001b[0m │\n",
       "├─────────────────────────────────┼────────────────────────┼───────────────┤\n",
       "│ conv2d_25 (\u001b[38;5;33mConv2D\u001b[0m)              │ (\u001b[38;5;45mNone\u001b[0m, \u001b[38;5;34m16\u001b[0m, \u001b[38;5;34m16\u001b[0m, \u001b[38;5;34m64\u001b[0m)     │        \u001b[38;5;34m18,496\u001b[0m │\n",
       "├─────────────────────────────────┼────────────────────────┼───────────────┤\n",
       "│ max_pooling2d_19 (\u001b[38;5;33mMaxPooling2D\u001b[0m) │ (\u001b[38;5;45mNone\u001b[0m, \u001b[38;5;34m8\u001b[0m, \u001b[38;5;34m8\u001b[0m, \u001b[38;5;34m64\u001b[0m)       │             \u001b[38;5;34m0\u001b[0m │\n",
       "├─────────────────────────────────┼────────────────────────┼───────────────┤\n",
       "│ conv2d_26 (\u001b[38;5;33mConv2D\u001b[0m)              │ (\u001b[38;5;45mNone\u001b[0m, \u001b[38;5;34m8\u001b[0m, \u001b[38;5;34m8\u001b[0m, \u001b[38;5;34m128\u001b[0m)      │        \u001b[38;5;34m73,856\u001b[0m │\n",
       "├─────────────────────────────────┼────────────────────────┼───────────────┤\n",
       "│ max_pooling2d_20 (\u001b[38;5;33mMaxPooling2D\u001b[0m) │ (\u001b[38;5;45mNone\u001b[0m, \u001b[38;5;34m4\u001b[0m, \u001b[38;5;34m4\u001b[0m, \u001b[38;5;34m128\u001b[0m)      │             \u001b[38;5;34m0\u001b[0m │\n",
       "├─────────────────────────────────┼────────────────────────┼───────────────┤\n",
       "│ reshape_7 (\u001b[38;5;33mReshape\u001b[0m)             │ (\u001b[38;5;45mNone\u001b[0m, \u001b[38;5;34m2048\u001b[0m)           │             \u001b[38;5;34m0\u001b[0m │\n",
       "├─────────────────────────────────┼────────────────────────┼───────────────┤\n",
       "│ dense_16 (\u001b[38;5;33mDense\u001b[0m)                │ (\u001b[38;5;45mNone\u001b[0m, \u001b[38;5;34m128\u001b[0m)            │       \u001b[38;5;34m262,272\u001b[0m │\n",
       "├─────────────────────────────────┼────────────────────────┼───────────────┤\n",
       "│ dropout_2 (\u001b[38;5;33mDropout\u001b[0m)             │ (\u001b[38;5;45mNone\u001b[0m, \u001b[38;5;34m128\u001b[0m)            │             \u001b[38;5;34m0\u001b[0m │\n",
       "├─────────────────────────────────┼────────────────────────┼───────────────┤\n",
       "│ dense_17 (\u001b[38;5;33mDense\u001b[0m)                │ (\u001b[38;5;45mNone\u001b[0m, \u001b[38;5;34m6\u001b[0m)              │           \u001b[38;5;34m774\u001b[0m │\n",
       "└─────────────────────────────────┴────────────────────────┴───────────────┘\n"
      ]
     },
     "metadata": {},
     "output_type": "display_data"
    },
    {
     "data": {
      "text/html": [
       "<pre style=\"white-space:pre;overflow-x:auto;line-height:normal;font-family:Menlo,'DejaVu Sans Mono',consolas,'Courier New',monospace\"><span style=\"font-weight: bold\"> Total params: </span><span style=\"color: #00af00; text-decoration-color: #00af00\">355,718</span> (1.36 MB)\n",
       "</pre>\n"
      ],
      "text/plain": [
       "\u001b[1m Total params: \u001b[0m\u001b[38;5;34m355,718\u001b[0m (1.36 MB)\n"
      ]
     },
     "metadata": {},
     "output_type": "display_data"
    },
    {
     "data": {
      "text/html": [
       "<pre style=\"white-space:pre;overflow-x:auto;line-height:normal;font-family:Menlo,'DejaVu Sans Mono',consolas,'Courier New',monospace\"><span style=\"font-weight: bold\"> Trainable params: </span><span style=\"color: #00af00; text-decoration-color: #00af00\">355,718</span> (1.36 MB)\n",
       "</pre>\n"
      ],
      "text/plain": [
       "\u001b[1m Trainable params: \u001b[0m\u001b[38;5;34m355,718\u001b[0m (1.36 MB)\n"
      ]
     },
     "metadata": {},
     "output_type": "display_data"
    },
    {
     "data": {
      "text/html": [
       "<pre style=\"white-space:pre;overflow-x:auto;line-height:normal;font-family:Menlo,'DejaVu Sans Mono',consolas,'Courier New',monospace\"><span style=\"font-weight: bold\"> Non-trainable params: </span><span style=\"color: #00af00; text-decoration-color: #00af00\">0</span> (0.00 B)\n",
       "</pre>\n"
      ],
      "text/plain": [
       "\u001b[1m Non-trainable params: \u001b[0m\u001b[38;5;34m0\u001b[0m (0.00 B)\n"
      ]
     },
     "metadata": {},
     "output_type": "display_data"
    }
   ],
   "source": [
    "from tensorflow.keras import layers, models\n",
    "\n",
    "model = models.Sequential([\n",
    "    layers.Input(shape=(1024,)),\n",
    "    layers.Reshape((32, 32, 1)),\n",
    "\n",
    "    # Increase filters from 16 to 32\n",
    "    layers.Conv2D(32, (3, 3), activation='relu', padding='same'),\n",
    "    layers.MaxPooling2D(pool_size=(2, 2)),\n",
    "\n",
    "    # Increase filters from 16 to 64\n",
    "    layers.Conv2D(64, (3, 3), activation='relu', padding='same'),\n",
    "    layers.MaxPooling2D(pool_size=(2, 2)),\n",
    "\n",
    "    # Increase filters from 16 to 128\n",
    "    layers.Conv2D(128, (3, 3), activation='relu', padding='same'),\n",
    "    layers.MaxPooling2D(pool_size=(2, 2)),\n",
    "\n",
    "    layers.Reshape((2048,)),  # 4x4x128 = 2048\n",
    "    layers.Dense(128, activation='relu'),\n",
    "    layers.Dropout(0.3),  # Dropout added for regularization\n",
    "    layers.Dense(6, activation='softmax')\n",
    "])\n",
    "\n",
    "model.compile(optimizer='adam', loss='categorical_crossentropy', metrics=['accuracy'])\n",
    "\n",
    "model.summary()"
   ]
  },
  {
   "cell_type": "code",
   "execution_count": 5,
   "id": "0949a909",
   "metadata": {},
   "outputs": [
    {
     "data": {
      "text/html": [
       "<pre style=\"white-space:pre;overflow-x:auto;line-height:normal;font-family:Menlo,'DejaVu Sans Mono',consolas,'Courier New',monospace\"><span style=\"font-weight: bold\">Model: \"sequential_1\"</span>\n",
       "</pre>\n"
      ],
      "text/plain": [
       "\u001b[1mModel: \"sequential_1\"\u001b[0m\n"
      ]
     },
     "metadata": {},
     "output_type": "display_data"
    },
    {
     "data": {
      "text/html": [
       "<pre style=\"white-space:pre;overflow-x:auto;line-height:normal;font-family:Menlo,'DejaVu Sans Mono',consolas,'Courier New',monospace\">┏━━━━━━━━━━━━━━━━━━━━━━━━━━━━━━━━━┳━━━━━━━━━━━━━━━━━━━━━━━━┳━━━━━━━━━━━━━━━┓\n",
       "┃<span style=\"font-weight: bold\"> Layer (type)                    </span>┃<span style=\"font-weight: bold\"> Output Shape           </span>┃<span style=\"font-weight: bold\">       Param # </span>┃\n",
       "┡━━━━━━━━━━━━━━━━━━━━━━━━━━━━━━━━━╇━━━━━━━━━━━━━━━━━━━━━━━━╇━━━━━━━━━━━━━━━┩\n",
       "│ reshape_2 (<span style=\"color: #0087ff; text-decoration-color: #0087ff\">Reshape</span>)             │ (<span style=\"color: #00d7ff; text-decoration-color: #00d7ff\">None</span>, <span style=\"color: #00af00; text-decoration-color: #00af00\">32</span>, <span style=\"color: #00af00; text-decoration-color: #00af00\">32</span>, <span style=\"color: #00af00; text-decoration-color: #00af00\">1</span>)      │             <span style=\"color: #00af00; text-decoration-color: #00af00\">0</span> │\n",
       "├─────────────────────────────────┼────────────────────────┼───────────────┤\n",
       "│ conv2d_3 (<span style=\"color: #0087ff; text-decoration-color: #0087ff\">Conv2D</span>)               │ (<span style=\"color: #00d7ff; text-decoration-color: #00d7ff\">None</span>, <span style=\"color: #00af00; text-decoration-color: #00af00\">32</span>, <span style=\"color: #00af00; text-decoration-color: #00af00\">32</span>, <span style=\"color: #00af00; text-decoration-color: #00af00\">8</span>)      │            <span style=\"color: #00af00; text-decoration-color: #00af00\">80</span> │\n",
       "├─────────────────────────────────┼────────────────────────┼───────────────┤\n",
       "│ max_pooling2d_3 (<span style=\"color: #0087ff; text-decoration-color: #0087ff\">MaxPooling2D</span>)  │ (<span style=\"color: #00d7ff; text-decoration-color: #00d7ff\">None</span>, <span style=\"color: #00af00; text-decoration-color: #00af00\">16</span>, <span style=\"color: #00af00; text-decoration-color: #00af00\">16</span>, <span style=\"color: #00af00; text-decoration-color: #00af00\">8</span>)      │             <span style=\"color: #00af00; text-decoration-color: #00af00\">0</span> │\n",
       "├─────────────────────────────────┼────────────────────────┼───────────────┤\n",
       "│ conv2d_4 (<span style=\"color: #0087ff; text-decoration-color: #0087ff\">Conv2D</span>)               │ (<span style=\"color: #00d7ff; text-decoration-color: #00d7ff\">None</span>, <span style=\"color: #00af00; text-decoration-color: #00af00\">16</span>, <span style=\"color: #00af00; text-decoration-color: #00af00\">16</span>, <span style=\"color: #00af00; text-decoration-color: #00af00\">16</span>)     │         <span style=\"color: #00af00; text-decoration-color: #00af00\">1,168</span> │\n",
       "├─────────────────────────────────┼────────────────────────┼───────────────┤\n",
       "│ max_pooling2d_4 (<span style=\"color: #0087ff; text-decoration-color: #0087ff\">MaxPooling2D</span>)  │ (<span style=\"color: #00d7ff; text-decoration-color: #00d7ff\">None</span>, <span style=\"color: #00af00; text-decoration-color: #00af00\">8</span>, <span style=\"color: #00af00; text-decoration-color: #00af00\">8</span>, <span style=\"color: #00af00; text-decoration-color: #00af00\">16</span>)       │             <span style=\"color: #00af00; text-decoration-color: #00af00\">0</span> │\n",
       "├─────────────────────────────────┼────────────────────────┼───────────────┤\n",
       "│ conv2d_5 (<span style=\"color: #0087ff; text-decoration-color: #0087ff\">Conv2D</span>)               │ (<span style=\"color: #00d7ff; text-decoration-color: #00d7ff\">None</span>, <span style=\"color: #00af00; text-decoration-color: #00af00\">8</span>, <span style=\"color: #00af00; text-decoration-color: #00af00\">8</span>, <span style=\"color: #00af00; text-decoration-color: #00af00\">32</span>)       │         <span style=\"color: #00af00; text-decoration-color: #00af00\">4,640</span> │\n",
       "├─────────────────────────────────┼────────────────────────┼───────────────┤\n",
       "│ max_pooling2d_5 (<span style=\"color: #0087ff; text-decoration-color: #0087ff\">MaxPooling2D</span>)  │ (<span style=\"color: #00d7ff; text-decoration-color: #00d7ff\">None</span>, <span style=\"color: #00af00; text-decoration-color: #00af00\">4</span>, <span style=\"color: #00af00; text-decoration-color: #00af00\">4</span>, <span style=\"color: #00af00; text-decoration-color: #00af00\">32</span>)       │             <span style=\"color: #00af00; text-decoration-color: #00af00\">0</span> │\n",
       "├─────────────────────────────────┼────────────────────────┼───────────────┤\n",
       "│ reshape_3 (<span style=\"color: #0087ff; text-decoration-color: #0087ff\">Reshape</span>)             │ (<span style=\"color: #00d7ff; text-decoration-color: #00d7ff\">None</span>, <span style=\"color: #00af00; text-decoration-color: #00af00\">512</span>)            │             <span style=\"color: #00af00; text-decoration-color: #00af00\">0</span> │\n",
       "├─────────────────────────────────┼────────────────────────┼───────────────┤\n",
       "│ dense_2 (<span style=\"color: #0087ff; text-decoration-color: #0087ff\">Dense</span>)                 │ (<span style=\"color: #00d7ff; text-decoration-color: #00d7ff\">None</span>, <span style=\"color: #00af00; text-decoration-color: #00af00\">32</span>)             │        <span style=\"color: #00af00; text-decoration-color: #00af00\">16,416</span> │\n",
       "├─────────────────────────────────┼────────────────────────┼───────────────┤\n",
       "│ dropout_1 (<span style=\"color: #0087ff; text-decoration-color: #0087ff\">Dropout</span>)             │ (<span style=\"color: #00d7ff; text-decoration-color: #00d7ff\">None</span>, <span style=\"color: #00af00; text-decoration-color: #00af00\">32</span>)             │             <span style=\"color: #00af00; text-decoration-color: #00af00\">0</span> │\n",
       "├─────────────────────────────────┼────────────────────────┼───────────────┤\n",
       "│ dense_3 (<span style=\"color: #0087ff; text-decoration-color: #0087ff\">Dense</span>)                 │ (<span style=\"color: #00d7ff; text-decoration-color: #00d7ff\">None</span>, <span style=\"color: #00af00; text-decoration-color: #00af00\">6</span>)              │           <span style=\"color: #00af00; text-decoration-color: #00af00\">198</span> │\n",
       "└─────────────────────────────────┴────────────────────────┴───────────────┘\n",
       "</pre>\n"
      ],
      "text/plain": [
       "┏━━━━━━━━━━━━━━━━━━━━━━━━━━━━━━━━━┳━━━━━━━━━━━━━━━━━━━━━━━━┳━━━━━━━━━━━━━━━┓\n",
       "┃\u001b[1m \u001b[0m\u001b[1mLayer (type)                   \u001b[0m\u001b[1m \u001b[0m┃\u001b[1m \u001b[0m\u001b[1mOutput Shape          \u001b[0m\u001b[1m \u001b[0m┃\u001b[1m \u001b[0m\u001b[1m      Param #\u001b[0m\u001b[1m \u001b[0m┃\n",
       "┡━━━━━━━━━━━━━━━━━━━━━━━━━━━━━━━━━╇━━━━━━━━━━━━━━━━━━━━━━━━╇━━━━━━━━━━━━━━━┩\n",
       "│ reshape_2 (\u001b[38;5;33mReshape\u001b[0m)             │ (\u001b[38;5;45mNone\u001b[0m, \u001b[38;5;34m32\u001b[0m, \u001b[38;5;34m32\u001b[0m, \u001b[38;5;34m1\u001b[0m)      │             \u001b[38;5;34m0\u001b[0m │\n",
       "├─────────────────────────────────┼────────────────────────┼───────────────┤\n",
       "│ conv2d_3 (\u001b[38;5;33mConv2D\u001b[0m)               │ (\u001b[38;5;45mNone\u001b[0m, \u001b[38;5;34m32\u001b[0m, \u001b[38;5;34m32\u001b[0m, \u001b[38;5;34m8\u001b[0m)      │            \u001b[38;5;34m80\u001b[0m │\n",
       "├─────────────────────────────────┼────────────────────────┼───────────────┤\n",
       "│ max_pooling2d_3 (\u001b[38;5;33mMaxPooling2D\u001b[0m)  │ (\u001b[38;5;45mNone\u001b[0m, \u001b[38;5;34m16\u001b[0m, \u001b[38;5;34m16\u001b[0m, \u001b[38;5;34m8\u001b[0m)      │             \u001b[38;5;34m0\u001b[0m │\n",
       "├─────────────────────────────────┼────────────────────────┼───────────────┤\n",
       "│ conv2d_4 (\u001b[38;5;33mConv2D\u001b[0m)               │ (\u001b[38;5;45mNone\u001b[0m, \u001b[38;5;34m16\u001b[0m, \u001b[38;5;34m16\u001b[0m, \u001b[38;5;34m16\u001b[0m)     │         \u001b[38;5;34m1,168\u001b[0m │\n",
       "├─────────────────────────────────┼────────────────────────┼───────────────┤\n",
       "│ max_pooling2d_4 (\u001b[38;5;33mMaxPooling2D\u001b[0m)  │ (\u001b[38;5;45mNone\u001b[0m, \u001b[38;5;34m8\u001b[0m, \u001b[38;5;34m8\u001b[0m, \u001b[38;5;34m16\u001b[0m)       │             \u001b[38;5;34m0\u001b[0m │\n",
       "├─────────────────────────────────┼────────────────────────┼───────────────┤\n",
       "│ conv2d_5 (\u001b[38;5;33mConv2D\u001b[0m)               │ (\u001b[38;5;45mNone\u001b[0m, \u001b[38;5;34m8\u001b[0m, \u001b[38;5;34m8\u001b[0m, \u001b[38;5;34m32\u001b[0m)       │         \u001b[38;5;34m4,640\u001b[0m │\n",
       "├─────────────────────────────────┼────────────────────────┼───────────────┤\n",
       "│ max_pooling2d_5 (\u001b[38;5;33mMaxPooling2D\u001b[0m)  │ (\u001b[38;5;45mNone\u001b[0m, \u001b[38;5;34m4\u001b[0m, \u001b[38;5;34m4\u001b[0m, \u001b[38;5;34m32\u001b[0m)       │             \u001b[38;5;34m0\u001b[0m │\n",
       "├─────────────────────────────────┼────────────────────────┼───────────────┤\n",
       "│ reshape_3 (\u001b[38;5;33mReshape\u001b[0m)             │ (\u001b[38;5;45mNone\u001b[0m, \u001b[38;5;34m512\u001b[0m)            │             \u001b[38;5;34m0\u001b[0m │\n",
       "├─────────────────────────────────┼────────────────────────┼───────────────┤\n",
       "│ dense_2 (\u001b[38;5;33mDense\u001b[0m)                 │ (\u001b[38;5;45mNone\u001b[0m, \u001b[38;5;34m32\u001b[0m)             │        \u001b[38;5;34m16,416\u001b[0m │\n",
       "├─────────────────────────────────┼────────────────────────┼───────────────┤\n",
       "│ dropout_1 (\u001b[38;5;33mDropout\u001b[0m)             │ (\u001b[38;5;45mNone\u001b[0m, \u001b[38;5;34m32\u001b[0m)             │             \u001b[38;5;34m0\u001b[0m │\n",
       "├─────────────────────────────────┼────────────────────────┼───────────────┤\n",
       "│ dense_3 (\u001b[38;5;33mDense\u001b[0m)                 │ (\u001b[38;5;45mNone\u001b[0m, \u001b[38;5;34m6\u001b[0m)              │           \u001b[38;5;34m198\u001b[0m │\n",
       "└─────────────────────────────────┴────────────────────────┴───────────────┘\n"
      ]
     },
     "metadata": {},
     "output_type": "display_data"
    },
    {
     "data": {
      "text/html": [
       "<pre style=\"white-space:pre;overflow-x:auto;line-height:normal;font-family:Menlo,'DejaVu Sans Mono',consolas,'Courier New',monospace\"><span style=\"font-weight: bold\"> Total params: </span><span style=\"color: #00af00; text-decoration-color: #00af00\">22,502</span> (87.90 KB)\n",
       "</pre>\n"
      ],
      "text/plain": [
       "\u001b[1m Total params: \u001b[0m\u001b[38;5;34m22,502\u001b[0m (87.90 KB)\n"
      ]
     },
     "metadata": {},
     "output_type": "display_data"
    },
    {
     "data": {
      "text/html": [
       "<pre style=\"white-space:pre;overflow-x:auto;line-height:normal;font-family:Menlo,'DejaVu Sans Mono',consolas,'Courier New',monospace\"><span style=\"font-weight: bold\"> Trainable params: </span><span style=\"color: #00af00; text-decoration-color: #00af00\">22,502</span> (87.90 KB)\n",
       "</pre>\n"
      ],
      "text/plain": [
       "\u001b[1m Trainable params: \u001b[0m\u001b[38;5;34m22,502\u001b[0m (87.90 KB)\n"
      ]
     },
     "metadata": {},
     "output_type": "display_data"
    },
    {
     "data": {
      "text/html": [
       "<pre style=\"white-space:pre;overflow-x:auto;line-height:normal;font-family:Menlo,'DejaVu Sans Mono',consolas,'Courier New',monospace\"><span style=\"font-weight: bold\"> Non-trainable params: </span><span style=\"color: #00af00; text-decoration-color: #00af00\">0</span> (0.00 B)\n",
       "</pre>\n"
      ],
      "text/plain": [
       "\u001b[1m Non-trainable params: \u001b[0m\u001b[38;5;34m0\u001b[0m (0.00 B)\n"
      ]
     },
     "metadata": {},
     "output_type": "display_data"
    }
   ],
   "source": [
    "from tensorflow.keras import layers, models\n",
    "\n",
    "model = models.Sequential([\n",
    "    layers.Input(shape=(1024,)),\n",
    "    layers.Reshape((32, 32, 1)),\n",
    "\n",
    "    layers.Conv2D(8, (3, 3), activation='relu', padding='same'),\n",
    "    layers.MaxPooling2D(pool_size=(2, 2)),  # Output: 16x16x8\n",
    "\n",
    "    layers.Conv2D(16, (3, 3), activation='relu', padding='same'),\n",
    "    layers.MaxPooling2D(pool_size=(2, 2)),  # Output: 8x8x16\n",
    "\n",
    "    layers.Conv2D(32, (3, 3), activation='relu', padding='same'),\n",
    "    layers.MaxPooling2D(pool_size=(2, 2)),  # Output: 4x4x32\n",
    "\n",
    "    layers.Reshape((512,)),  # 4x4x32 = 512\n",
    "    layers.Dense(32, activation='relu'),\n",
    "    layers.Dropout(0.3),\n",
    "    layers.Dense(6, activation='softmax')\n",
    "])\n",
    "\n",
    "model.compile(optimizer='adam', loss='categorical_crossentropy', metrics=['accuracy'])\n",
    "\n",
    "model.summary()"
   ]
  },
  {
   "cell_type": "code",
   "execution_count": 20,
   "id": "8f8ba57e",
   "metadata": {},
   "outputs": [
    {
     "data": {
      "text/html": [
       "<pre style=\"white-space:pre;overflow-x:auto;line-height:normal;font-family:Menlo,'DejaVu Sans Mono',consolas,'Courier New',monospace\"><span style=\"font-weight: bold\">Model: \"sequential_4\"</span>\n",
       "</pre>\n"
      ],
      "text/plain": [
       "\u001b[1mModel: \"sequential_4\"\u001b[0m\n"
      ]
     },
     "metadata": {},
     "output_type": "display_data"
    },
    {
     "data": {
      "text/html": [
       "<pre style=\"white-space:pre;overflow-x:auto;line-height:normal;font-family:Menlo,'DejaVu Sans Mono',consolas,'Courier New',monospace\">┏━━━━━━━━━━━━━━━━━━━━━━━━━━━━━━━━━┳━━━━━━━━━━━━━━━━━━━━━━━━┳━━━━━━━━━━━━━━━┓\n",
       "┃<span style=\"font-weight: bold\"> Layer (type)                    </span>┃<span style=\"font-weight: bold\"> Output Shape           </span>┃<span style=\"font-weight: bold\">       Param # </span>┃\n",
       "┡━━━━━━━━━━━━━━━━━━━━━━━━━━━━━━━━━╇━━━━━━━━━━━━━━━━━━━━━━━━╇━━━━━━━━━━━━━━━┩\n",
       "│ reshape_3 (<span style=\"color: #0087ff; text-decoration-color: #0087ff\">Reshape</span>)             │ (<span style=\"color: #00d7ff; text-decoration-color: #00d7ff\">None</span>, <span style=\"color: #00af00; text-decoration-color: #00af00\">32</span>, <span style=\"color: #00af00; text-decoration-color: #00af00\">32</span>, <span style=\"color: #00af00; text-decoration-color: #00af00\">1</span>)      │             <span style=\"color: #00af00; text-decoration-color: #00af00\">0</span> │\n",
       "├─────────────────────────────────┼────────────────────────┼───────────────┤\n",
       "│ conv2d_3 (<span style=\"color: #0087ff; text-decoration-color: #0087ff\">Conv2D</span>)               │ (<span style=\"color: #00d7ff; text-decoration-color: #00d7ff\">None</span>, <span style=\"color: #00af00; text-decoration-color: #00af00\">32</span>, <span style=\"color: #00af00; text-decoration-color: #00af00\">32</span>, <span style=\"color: #00af00; text-decoration-color: #00af00\">16</span>)     │           <span style=\"color: #00af00; text-decoration-color: #00af00\">160</span> │\n",
       "├─────────────────────────────────┼────────────────────────┼───────────────┤\n",
       "│ max_pooling2d_3 (<span style=\"color: #0087ff; text-decoration-color: #0087ff\">MaxPooling2D</span>)  │ (<span style=\"color: #00d7ff; text-decoration-color: #00d7ff\">None</span>, <span style=\"color: #00af00; text-decoration-color: #00af00\">16</span>, <span style=\"color: #00af00; text-decoration-color: #00af00\">16</span>, <span style=\"color: #00af00; text-decoration-color: #00af00\">16</span>)     │             <span style=\"color: #00af00; text-decoration-color: #00af00\">0</span> │\n",
       "├─────────────────────────────────┼────────────────────────┼───────────────┤\n",
       "│ flatten_4 (<span style=\"color: #0087ff; text-decoration-color: #0087ff\">Flatten</span>)             │ (<span style=\"color: #00d7ff; text-decoration-color: #00d7ff\">None</span>, <span style=\"color: #00af00; text-decoration-color: #00af00\">4096</span>)           │             <span style=\"color: #00af00; text-decoration-color: #00af00\">0</span> │\n",
       "├─────────────────────────────────┼────────────────────────┼───────────────┤\n",
       "│ dense_8 (<span style=\"color: #0087ff; text-decoration-color: #0087ff\">Dense</span>)                 │ (<span style=\"color: #00d7ff; text-decoration-color: #00d7ff\">None</span>, <span style=\"color: #00af00; text-decoration-color: #00af00\">32</span>)             │       <span style=\"color: #00af00; text-decoration-color: #00af00\">131,104</span> │\n",
       "├─────────────────────────────────┼────────────────────────┼───────────────┤\n",
       "│ dense_9 (<span style=\"color: #0087ff; text-decoration-color: #0087ff\">Dense</span>)                 │ (<span style=\"color: #00d7ff; text-decoration-color: #00d7ff\">None</span>, <span style=\"color: #00af00; text-decoration-color: #00af00\">6</span>)              │           <span style=\"color: #00af00; text-decoration-color: #00af00\">198</span> │\n",
       "└─────────────────────────────────┴────────────────────────┴───────────────┘\n",
       "</pre>\n"
      ],
      "text/plain": [
       "┏━━━━━━━━━━━━━━━━━━━━━━━━━━━━━━━━━┳━━━━━━━━━━━━━━━━━━━━━━━━┳━━━━━━━━━━━━━━━┓\n",
       "┃\u001b[1m \u001b[0m\u001b[1mLayer (type)                   \u001b[0m\u001b[1m \u001b[0m┃\u001b[1m \u001b[0m\u001b[1mOutput Shape          \u001b[0m\u001b[1m \u001b[0m┃\u001b[1m \u001b[0m\u001b[1m      Param #\u001b[0m\u001b[1m \u001b[0m┃\n",
       "┡━━━━━━━━━━━━━━━━━━━━━━━━━━━━━━━━━╇━━━━━━━━━━━━━━━━━━━━━━━━╇━━━━━━━━━━━━━━━┩\n",
       "│ reshape_3 (\u001b[38;5;33mReshape\u001b[0m)             │ (\u001b[38;5;45mNone\u001b[0m, \u001b[38;5;34m32\u001b[0m, \u001b[38;5;34m32\u001b[0m, \u001b[38;5;34m1\u001b[0m)      │             \u001b[38;5;34m0\u001b[0m │\n",
       "├─────────────────────────────────┼────────────────────────┼───────────────┤\n",
       "│ conv2d_3 (\u001b[38;5;33mConv2D\u001b[0m)               │ (\u001b[38;5;45mNone\u001b[0m, \u001b[38;5;34m32\u001b[0m, \u001b[38;5;34m32\u001b[0m, \u001b[38;5;34m16\u001b[0m)     │           \u001b[38;5;34m160\u001b[0m │\n",
       "├─────────────────────────────────┼────────────────────────┼───────────────┤\n",
       "│ max_pooling2d_3 (\u001b[38;5;33mMaxPooling2D\u001b[0m)  │ (\u001b[38;5;45mNone\u001b[0m, \u001b[38;5;34m16\u001b[0m, \u001b[38;5;34m16\u001b[0m, \u001b[38;5;34m16\u001b[0m)     │             \u001b[38;5;34m0\u001b[0m │\n",
       "├─────────────────────────────────┼────────────────────────┼───────────────┤\n",
       "│ flatten_4 (\u001b[38;5;33mFlatten\u001b[0m)             │ (\u001b[38;5;45mNone\u001b[0m, \u001b[38;5;34m4096\u001b[0m)           │             \u001b[38;5;34m0\u001b[0m │\n",
       "├─────────────────────────────────┼────────────────────────┼───────────────┤\n",
       "│ dense_8 (\u001b[38;5;33mDense\u001b[0m)                 │ (\u001b[38;5;45mNone\u001b[0m, \u001b[38;5;34m32\u001b[0m)             │       \u001b[38;5;34m131,104\u001b[0m │\n",
       "├─────────────────────────────────┼────────────────────────┼───────────────┤\n",
       "│ dense_9 (\u001b[38;5;33mDense\u001b[0m)                 │ (\u001b[38;5;45mNone\u001b[0m, \u001b[38;5;34m6\u001b[0m)              │           \u001b[38;5;34m198\u001b[0m │\n",
       "└─────────────────────────────────┴────────────────────────┴───────────────┘\n"
      ]
     },
     "metadata": {},
     "output_type": "display_data"
    },
    {
     "data": {
      "text/html": [
       "<pre style=\"white-space:pre;overflow-x:auto;line-height:normal;font-family:Menlo,'DejaVu Sans Mono',consolas,'Courier New',monospace\"><span style=\"font-weight: bold\"> Total params: </span><span style=\"color: #00af00; text-decoration-color: #00af00\">131,462</span> (513.52 KB)\n",
       "</pre>\n"
      ],
      "text/plain": [
       "\u001b[1m Total params: \u001b[0m\u001b[38;5;34m131,462\u001b[0m (513.52 KB)\n"
      ]
     },
     "metadata": {},
     "output_type": "display_data"
    },
    {
     "data": {
      "text/html": [
       "<pre style=\"white-space:pre;overflow-x:auto;line-height:normal;font-family:Menlo,'DejaVu Sans Mono',consolas,'Courier New',monospace\"><span style=\"font-weight: bold\"> Trainable params: </span><span style=\"color: #00af00; text-decoration-color: #00af00\">131,462</span> (513.52 KB)\n",
       "</pre>\n"
      ],
      "text/plain": [
       "\u001b[1m Trainable params: \u001b[0m\u001b[38;5;34m131,462\u001b[0m (513.52 KB)\n"
      ]
     },
     "metadata": {},
     "output_type": "display_data"
    },
    {
     "data": {
      "text/html": [
       "<pre style=\"white-space:pre;overflow-x:auto;line-height:normal;font-family:Menlo,'DejaVu Sans Mono',consolas,'Courier New',monospace\"><span style=\"font-weight: bold\"> Non-trainable params: </span><span style=\"color: #00af00; text-decoration-color: #00af00\">0</span> (0.00 B)\n",
       "</pre>\n"
      ],
      "text/plain": [
       "\u001b[1m Non-trainable params: \u001b[0m\u001b[38;5;34m0\u001b[0m (0.00 B)\n"
      ]
     },
     "metadata": {},
     "output_type": "display_data"
    }
   ],
   "source": [
    "from tensorflow.keras import layers, models\n",
    "\n",
    "model = models.Sequential([\n",
    "    layers.Input(shape=(1024,)),\n",
    "    \n",
    "    # Reshape input to fit into a 2D Conv2D layer\n",
    "    layers.Reshape((32, 32, 1)),  # 1024 becomes 32x32x1\n",
    "    \n",
    "    # One Conv2D + MaxPooling2D layer instead of multiple\n",
    "    layers.Conv2D(16, (3, 3), activation='relu', padding='same'),\n",
    "    layers.MaxPooling2D(pool_size=(2, 2)),  # Output: 16x16x16\n",
    "    \n",
    "    # Flatten and pass through a Dense layer\n",
    "    layers.Flatten(),  # Flatten the 16x16x16 output to 4096\n",
    "    layers.Dense(32, activation='relu'),  # Smaller dense layer\n",
    "    \n",
    "    # Output layer\n",
    "    layers.Dense(6, activation='softmax')  # Assuming 6 output classes\n",
    "])\n",
    "\n",
    "model.compile(optimizer='adam', loss='categorical_crossentropy', metrics=['accuracy'])\n",
    "\n",
    "model.summary()"
   ]
  },
  {
   "cell_type": "code",
   "execution_count": 6,
   "id": "a80c2b2f",
   "metadata": {},
   "outputs": [
    {
     "name": "stdout",
     "output_type": "stream",
     "text": [
      "\u001b[1m4125/4125\u001b[0m \u001b[32m━━━━━━━━━━━━━━━━━━━━\u001b[0m\u001b[37m\u001b[0m \u001b[1m39s\u001b[0m 9ms/step - accuracy: 0.3676 - loss: 1.4879 - val_accuracy: 0.5923 - val_loss: 1.0365\n"
     ]
    },
    {
     "data": {
      "text/plain": [
       "<keras.src.callbacks.history.History at 0x71b7a81bc170>"
      ]
     },
     "execution_count": 6,
     "metadata": {},
     "output_type": "execute_result"
    }
   ],
   "source": [
    "model.fit(X_train, y_train, epochs=1, batch_size=32, validation_data=(X_test, y_test))"
   ]
  },
  {
   "cell_type": "code",
   "execution_count": 6,
   "id": "8279f362",
   "metadata": {},
   "outputs": [
    {
     "name": "stdout",
     "output_type": "stream",
     "text": [
      "[1.         0.97512039 0.95425361 0.93659711 0.9317817  0.92857143\n",
      " 0.92857143 0.92215088 0.92134831 0.91332263]\n"
     ]
    }
   ],
   "source": [
    "import numpy as np\n",
    "\n",
    "# Given array\n",
    "arr = [\n",
    "    1525.0, 1494.0, 1468.0, 1446.0, 1440.0, 1436.0, 1436.0, 1428.0, 1427.0, 1417.0, \n",
    "    1403.0, 1392.0, 1379.0, 1360.0, 1328.0, 1304.0, 1286.0, 1265.0, 1259.0, 1265.0, \n",
    "    1274.0, 1287.0, 1296.0, 1295.0, 1288.0, 1271.0, 1253.0, 1233.0, 1211.0, 1185.0, \n",
    "    1155.0, 1122.0, 1088.0, 1051.0, 1029.0, 1021.0, 1011.0, 1015.0, 1019.0, 1030.0, \n",
    "    1039.0, 1049.0, 1065.0, 1079.0, 1095.0, 1096.0, 1094.0, 1080.0, 1057.0, 1033.0, \n",
    "    1003.0, 971.0, 931.0, 888.0, 839.0, 791.0, 746.0, 708.0, 684.0, 669.0, 657.0, \n",
    "    654.0, 644.0, 635.0, 626.0, 625.0, 619.0, 617.0, 619.0, 618.0, 613.0, 613.0, \n",
    "    609.0, 614.0, 628.0, 644.0, 658.0, 672.0, 680.0, 695.0, 703.0, 709.0, 716.0, \n",
    "    711.0, 713.0, 699.0, 677.0, 656.0, 638.0, 637.0, 636.0, 642.0, 646.0, 649.0, \n",
    "    651.0, 645.0, 650.0, 655.0, 651.0, 647.0, 643.0, 623.0, 594.0, 570.0, 545.0, \n",
    "    531.0, 523.0, 523.0, 523.0, 520.0, 521.0, 514.0, 506.0, 495.0, 481.0, 460.0, \n",
    "    439.0, 402.0, 366.0, 334.0, 308.0, 286.0, 279.0, 279.0, 284.0, 311.0, 337.0, \n",
    "    373.0, 412.0, 450.0, 473.0, 493.0, 503.0, 512.0, 515.0, 511.0, 503.0, 495.0, \n",
    "    477.0, 465.0, 447.0, 434.0, 443.0, 435.0, 440.0, 451.0, 461.0, 485.0, 507.0, \n",
    "    540.0, 569.0, 592.0, 613.0, 612.0, 614.0, 626.0, 622.0, 636.0, 647.0, 638.0, \n",
    "    634.0, 627.0, 617.0, 624.0, 636.0, 650.0, 664.0, 664.0, 653.0, 627.0, 597.0, \n",
    "    575.0, 562.0, 563.0, 569.0, 572.0, 578.0, 578.0, 573.0, 571.0, 580.0, 605.0, \n",
    "    645.0, 679.0, 711.0, 738.0, 750.0, 757.0, 769.0, 783.0, 804.0, 829.0, 858.0, \n",
    "    882.0, 895.0, 906.0, 913.0, 927.0, 936.0, 949.0, 955.0, 960.0, 947.0, 922.0, \n",
    "    891.0, 866.0, 842.0, 828.0, 827.0, 828.0, 824.0, 827.0, 834.0, 842.0, 858.0, \n",
    "    883.0, 909.0, 928.0, 938.0, 946.0, 937.0, 926.0, 910.0, 892.0, 874.0, 844.0, \n",
    "    818.0, 787.0, 753.0, 737.0, 727.0, 726.0, 737.0, 750.0, 757.0, 763.0, 775.0, \n",
    "    783.0, 799.0, 817.0, 834.0, 855.0, 867.0, 862.0, 857.0, 846.0, 837.0, 835.0, \n",
    "    844.0, 852.0, 865.0, 877.0, 882.0, 882.0, 881.0, 880.0\n",
    "]\n",
    "\n",
    "# Normalize the array\n",
    "arr_min = np.min(arr)\n",
    "arr_max = np.max(arr)\n",
    "normalized_arr = (arr - arr_min) / (arr_max - arr_min)\n",
    "\n",
    "print(normalized_arr[:10])  # Displaying the first 10 normalized values\n"
   ]
  },
  {
   "cell_type": "code",
   "execution_count": 9,
   "id": "33898520",
   "metadata": {},
   "outputs": [
    {
     "data": {
      "text/plain": [
       "256"
      ]
     },
     "execution_count": 9,
     "metadata": {},
     "output_type": "execute_result"
    }
   ],
   "source": [
    "len(arr)"
   ]
  },
  {
   "cell_type": "code",
   "execution_count": 7,
   "id": "3efa6a77",
   "metadata": {},
   "outputs": [
    {
     "ename": "ValueError",
     "evalue": "Exception encountered when calling Sequential.call().\n\n\u001b[1mInvalid input shape for input Tensor(\"data:0\", shape=(32,), dtype=float32). Expected shape (None, 1024), but input has incompatible shape (32,)\u001b[0m\n\nArguments received by Sequential.call():\n  • inputs=tf.Tensor(shape=(32,), dtype=float32)\n  • training=False\n  • mask=None",
     "output_type": "error",
     "traceback": [
      "\u001b[31m---------------------------------------------------------------------------\u001b[39m",
      "\u001b[31mValueError\u001b[39m                                Traceback (most recent call last)",
      "\u001b[36mCell\u001b[39m\u001b[36m \u001b[39m\u001b[32mIn[7]\u001b[39m\u001b[32m, line 1\u001b[39m\n\u001b[32m----> \u001b[39m\u001b[32m1\u001b[39m \u001b[43mmodel\u001b[49m\u001b[43m.\u001b[49m\u001b[43mpredict\u001b[49m\u001b[43m(\u001b[49m\u001b[43mnormalized_arr\u001b[49m\u001b[43m)\u001b[49m\n",
      "\u001b[36mFile \u001b[39m\u001b[32m~/MtechProject/sound_manipulation/env/lib/python3.12/site-packages/keras/src/utils/traceback_utils.py:122\u001b[39m, in \u001b[36mfilter_traceback.<locals>.error_handler\u001b[39m\u001b[34m(*args, **kwargs)\u001b[39m\n\u001b[32m    119\u001b[39m     filtered_tb = _process_traceback_frames(e.__traceback__)\n\u001b[32m    120\u001b[39m     \u001b[38;5;66;03m# To get the full stack trace, call:\u001b[39;00m\n\u001b[32m    121\u001b[39m     \u001b[38;5;66;03m# `keras.config.disable_traceback_filtering()`\u001b[39;00m\n\u001b[32m--> \u001b[39m\u001b[32m122\u001b[39m     \u001b[38;5;28;01mraise\u001b[39;00m e.with_traceback(filtered_tb) \u001b[38;5;28;01mfrom\u001b[39;00m\u001b[38;5;250m \u001b[39m\u001b[38;5;28;01mNone\u001b[39;00m\n\u001b[32m    123\u001b[39m \u001b[38;5;28;01mfinally\u001b[39;00m:\n\u001b[32m    124\u001b[39m     \u001b[38;5;28;01mdel\u001b[39;00m filtered_tb\n",
      "\u001b[36mFile \u001b[39m\u001b[32m~/MtechProject/sound_manipulation/env/lib/python3.12/site-packages/keras/src/models/functional.py:273\u001b[39m, in \u001b[36mFunctional._adjust_input_rank\u001b[39m\u001b[34m(self, flat_inputs)\u001b[39m\n\u001b[32m    271\u001b[39m             adjusted.append(ops.expand_dims(x, axis=-\u001b[32m1\u001b[39m))\n\u001b[32m    272\u001b[39m             \u001b[38;5;28;01mcontinue\u001b[39;00m\n\u001b[32m--> \u001b[39m\u001b[32m273\u001b[39m     \u001b[38;5;28;01mraise\u001b[39;00m \u001b[38;5;167;01mValueError\u001b[39;00m(\n\u001b[32m    274\u001b[39m         \u001b[33mf\u001b[39m\u001b[33m\"\u001b[39m\u001b[33mInvalid input shape for input \u001b[39m\u001b[38;5;132;01m{\u001b[39;00mx\u001b[38;5;132;01m}\u001b[39;00m\u001b[33m. Expected shape \u001b[39m\u001b[33m\"\u001b[39m\n\u001b[32m    275\u001b[39m         \u001b[33mf\u001b[39m\u001b[33m\"\u001b[39m\u001b[38;5;132;01m{\u001b[39;00mref_shape\u001b[38;5;132;01m}\u001b[39;00m\u001b[33m, but input has incompatible shape \u001b[39m\u001b[38;5;132;01m{\u001b[39;00mx.shape\u001b[38;5;132;01m}\u001b[39;00m\u001b[33m\"\u001b[39m\n\u001b[32m    276\u001b[39m     )\n\u001b[32m    277\u001b[39m \u001b[38;5;66;03m# Add back metadata.\u001b[39;00m\n\u001b[32m    278\u001b[39m \u001b[38;5;28;01mfor\u001b[39;00m i \u001b[38;5;129;01min\u001b[39;00m \u001b[38;5;28mrange\u001b[39m(\u001b[38;5;28mlen\u001b[39m(flat_inputs)):\n",
      "\u001b[31mValueError\u001b[39m: Exception encountered when calling Sequential.call().\n\n\u001b[1mInvalid input shape for input Tensor(\"data:0\", shape=(32,), dtype=float32). Expected shape (None, 1024), but input has incompatible shape (32,)\u001b[0m\n\nArguments received by Sequential.call():\n  • inputs=tf.Tensor(shape=(32,), dtype=float32)\n  • training=False\n  • mask=None"
     ]
    }
   ],
   "source": [
    "model.predict(normalized_arr)"
   ]
  },
  {
   "cell_type": "code",
   "execution_count": null,
   "id": "30028eae",
   "metadata": {},
   "outputs": [
    {
     "data": {
      "text/plain": [
       "array([[0., 0., 0., 0., 1., 0.],\n",
       "       [0., 0., 0., 1., 0., 0.],\n",
       "       [0., 0., 0., 0., 0., 1.],\n",
       "       [1., 0., 0., 0., 0., 0.],\n",
       "       [0., 0., 1., 0., 0., 0.],\n",
       "       [1., 0., 0., 0., 0., 0.],\n",
       "       [0., 0., 1., 0., 0., 0.],\n",
       "       [1., 0., 0., 0., 0., 0.],\n",
       "       [0., 0., 0., 1., 0., 0.],\n",
       "       [0., 1., 0., 0., 0., 0.]])"
      ]
     },
     "execution_count": 11,
     "metadata": {},
     "output_type": "execute_result"
    }
   ],
   "source": [
    "y_test[:10]"
   ]
  },
  {
   "cell_type": "code",
   "execution_count": 23,
   "id": "f4d8cea9",
   "metadata": {},
   "outputs": [
    {
     "name": "stdout",
     "output_type": "stream",
     "text": [
      "\u001b[1m1005/1005\u001b[0m \u001b[32m━━━━━━━━━━━━━━━━━━━━\u001b[0m\u001b[37m\u001b[0m \u001b[1m2s\u001b[0m 2ms/step\n",
      "Model Accuracy: 0.17\n"
     ]
    }
   ],
   "source": [
    "import numpy as np\n",
    "from sklearn.metrics import accuracy_score\n",
    "\n",
    "# testing the accuracy of the model\n",
    "y_pred = model.predict(X_test)\n",
    "\n",
    "# Step 1: Convert y_pred to one-hot encoded predictions\n",
    "one_hot_pred = np.zeros_like(y_pred)\n",
    "one_hot_pred[np.arange(len(y_pred)), np.argmax(y_pred, axis=1)] = 1.0\n",
    "\n",
    "# Step 2: Convert both y_true and y_pred to class indices\n",
    "y_true_labels = np.argmax(y_test, axis=1)\n",
    "y_pred_labels = np.argmax(one_hot_pred, axis=1)\n",
    "\n",
    "accuracy = accuracy_score(y_true_labels, y_pred_labels)\n",
    "print(f\"Model Accuracy: {accuracy:.2f}\")"
   ]
  },
  {
   "cell_type": "code",
   "execution_count": null,
   "id": "acd3b81b",
   "metadata": {},
   "outputs": [
    {
     "name": "stderr",
     "output_type": "stream",
     "text": [
      "2025-05-08 11:10:58.029687: E external/local_xla/xla/stream_executor/cuda/cuda_platform.cc:51] failed call to cuInit: INTERNAL: CUDA error: Failed call to cuInit: UNKNOWN ERROR (303)\n",
      "WARNING:absl:Compiled the loaded model, but the compiled metrics have yet to be built. `model.compile_metrics` will be empty until you train or evaluate the model.\n"
     ]
    },
    {
     "ename": "ValueError",
     "evalue": "Unrecognized data type: x=[1525.0, 1494.0, 1468.0, 1446.0, 1440.0, 1436.0, 1436.0, 1428.0, 1427.0, 1417.0, 1403.0, 1392.0, 1379.0, 1360.0, 1328.0, 1304.0, 1286.0, 1265.0, 1259.0, 1265.0, 1274.0, 1287.0, 1296.0, 1295.0, 1288.0, 1271.0, 1253.0, 1233.0, 1211.0, 1185.0, 1155.0, 1122.0, 1088.0, 1051.0, 1029.0, 1021.0, 1011.0, 1015.0, 1019.0, 1030.0, 1039.0, 1049.0, 1065.0, 1079.0, 1095.0, 1096.0, 1094.0, 1080.0, 1057.0, 1033.0, 1003.0, 971.0, 931.0, 888.0, 839.0, 791.0, 746.0, 708.0, 684.0, 669.0, 657.0, 654.0, 644.0, 635.0, 626.0, 625.0, 619.0, 617.0, 619.0, 618.0, 613.0, 613.0, 609.0, 614.0, 628.0, 644.0, 658.0, 672.0, 680.0, 695.0, 703.0, 709.0, 716.0, 711.0, 713.0, 699.0, 677.0, 656.0, 638.0, 637.0, 636.0, 642.0, 646.0, 649.0, 651.0, 645.0, 650.0, 655.0, 651.0, 647.0, 643.0, 623.0, 594.0, 570.0, 545.0, 531.0, 523.0, 523.0, 523.0, 520.0, 521.0, 514.0, 506.0, 495.0, 481.0, 460.0, 439.0, 402.0, 366.0, 334.0, 308.0, 286.0, 279.0, 279.0, 284.0, 311.0, 337.0, 373.0, 412.0, 450.0, 473.0, 493.0, 503.0, 512.0, 515.0, 511.0, 503.0, 495.0, 477.0, 465.0, 447.0, 434.0, 443.0, 435.0, 440.0, 451.0, 461.0, 485.0, 507.0, 540.0, 569.0, 592.0, 613.0, 612.0, 614.0, 626.0, 622.0, 636.0, 647.0, 638.0, 634.0, 627.0, 617.0, 624.0, 636.0, 650.0, 664.0, 664.0, 653.0, 627.0, 597.0, 575.0, 562.0, 563.0, 569.0, 572.0, 578.0, 578.0, 573.0, 571.0, 580.0, 605.0, 645.0, 679.0, 711.0, 738.0, 750.0, 757.0, 769.0, 783.0, 804.0, 829.0, 858.0, 882.0, 895.0, 906.0, 913.0, 927.0, 936.0, 949.0, 955.0, 960.0, 947.0, 922.0, 891.0, 866.0, 842.0, 828.0, 827.0, 828.0, 824.0, 827.0, 834.0, 842.0, 858.0, 883.0, 909.0, 928.0, 938.0, 946.0, 937.0, 926.0, 910.0, 892.0, 874.0, 844.0, 818.0, 787.0, 753.0, 737.0, 727.0, 726.0, 737.0, 750.0, 757.0, 763.0, 775.0, 783.0, 799.0, 817.0, 834.0, 855.0, 867.0, 862.0, 857.0, 846.0, 837.0, 835.0, 844.0, 852.0, 865.0, 877.0, 882.0, 882.0, 881.0, 880.0] (of type <class 'list'>)",
     "output_type": "error",
     "traceback": [
      "\u001b[31m---------------------------------------------------------------------------\u001b[39m",
      "\u001b[31mValueError\u001b[39m                                Traceback (most recent call last)",
      "\u001b[36mCell\u001b[39m\u001b[36m \u001b[39m\u001b[32mIn[13]\u001b[39m\u001b[32m, line 5\u001b[39m\n\u001b[32m      2\u001b[39m \u001b[38;5;66;03m# loading the model\u001b[39;00m\n\u001b[32m      3\u001b[39m \u001b[38;5;66;03m# Load your trained model\u001b[39;00m\n\u001b[32m      4\u001b[39m model = tf.keras.models.load_model(\u001b[33m\"\u001b[39m\u001b[33mfinal_complete.h5\u001b[39m\u001b[33m\"\u001b[39m)\n\u001b[32m----> \u001b[39m\u001b[32m5\u001b[39m \u001b[43mmodel\u001b[49m\u001b[43m.\u001b[49m\u001b[43mpredict\u001b[49m\u001b[43m(\u001b[49m\u001b[43m[\u001b[49m\n\u001b[32m      6\u001b[39m \u001b[43m    \u001b[49m\u001b[32;43m1525.0\u001b[39;49m\u001b[43m,\u001b[49m\u001b[43m \u001b[49m\u001b[32;43m1494.0\u001b[39;49m\u001b[43m,\u001b[49m\u001b[43m \u001b[49m\u001b[32;43m1468.0\u001b[39;49m\u001b[43m,\u001b[49m\u001b[43m \u001b[49m\u001b[32;43m1446.0\u001b[39;49m\u001b[43m,\u001b[49m\u001b[43m \u001b[49m\u001b[32;43m1440.0\u001b[39;49m\u001b[43m,\u001b[49m\u001b[43m \u001b[49m\u001b[32;43m1436.0\u001b[39;49m\u001b[43m,\u001b[49m\u001b[43m \u001b[49m\u001b[32;43m1436.0\u001b[39;49m\u001b[43m,\u001b[49m\u001b[43m \u001b[49m\u001b[32;43m1428.0\u001b[39;49m\u001b[43m,\u001b[49m\u001b[43m \u001b[49m\u001b[32;43m1427.0\u001b[39;49m\u001b[43m,\u001b[49m\u001b[43m \u001b[49m\u001b[32;43m1417.0\u001b[39;49m\u001b[43m,\u001b[49m\u001b[43m \u001b[49m\n\u001b[32m      7\u001b[39m \u001b[43m    \u001b[49m\u001b[32;43m1403.0\u001b[39;49m\u001b[43m,\u001b[49m\u001b[43m \u001b[49m\u001b[32;43m1392.0\u001b[39;49m\u001b[43m,\u001b[49m\u001b[43m \u001b[49m\u001b[32;43m1379.0\u001b[39;49m\u001b[43m,\u001b[49m\u001b[43m \u001b[49m\u001b[32;43m1360.0\u001b[39;49m\u001b[43m,\u001b[49m\u001b[43m \u001b[49m\u001b[32;43m1328.0\u001b[39;49m\u001b[43m,\u001b[49m\u001b[43m \u001b[49m\u001b[32;43m1304.0\u001b[39;49m\u001b[43m,\u001b[49m\u001b[43m \u001b[49m\u001b[32;43m1286.0\u001b[39;49m\u001b[43m,\u001b[49m\u001b[43m \u001b[49m\u001b[32;43m1265.0\u001b[39;49m\u001b[43m,\u001b[49m\u001b[43m \u001b[49m\u001b[32;43m1259.0\u001b[39;49m\u001b[43m,\u001b[49m\u001b[43m \u001b[49m\u001b[32;43m1265.0\u001b[39;49m\u001b[43m,\u001b[49m\u001b[43m \u001b[49m\n\u001b[32m      8\u001b[39m \u001b[43m    \u001b[49m\u001b[32;43m1274.0\u001b[39;49m\u001b[43m,\u001b[49m\u001b[43m \u001b[49m\u001b[32;43m1287.0\u001b[39;49m\u001b[43m,\u001b[49m\u001b[43m \u001b[49m\u001b[32;43m1296.0\u001b[39;49m\u001b[43m,\u001b[49m\u001b[43m \u001b[49m\u001b[32;43m1295.0\u001b[39;49m\u001b[43m,\u001b[49m\u001b[43m \u001b[49m\u001b[32;43m1288.0\u001b[39;49m\u001b[43m,\u001b[49m\u001b[43m \u001b[49m\u001b[32;43m1271.0\u001b[39;49m\u001b[43m,\u001b[49m\u001b[43m \u001b[49m\u001b[32;43m1253.0\u001b[39;49m\u001b[43m,\u001b[49m\u001b[43m \u001b[49m\u001b[32;43m1233.0\u001b[39;49m\u001b[43m,\u001b[49m\u001b[43m \u001b[49m\u001b[32;43m1211.0\u001b[39;49m\u001b[43m,\u001b[49m\u001b[43m \u001b[49m\u001b[32;43m1185.0\u001b[39;49m\u001b[43m,\u001b[49m\u001b[43m \u001b[49m\n\u001b[32m      9\u001b[39m \u001b[43m    \u001b[49m\u001b[32;43m1155.0\u001b[39;49m\u001b[43m,\u001b[49m\u001b[43m \u001b[49m\u001b[32;43m1122.0\u001b[39;49m\u001b[43m,\u001b[49m\u001b[43m \u001b[49m\u001b[32;43m1088.0\u001b[39;49m\u001b[43m,\u001b[49m\u001b[43m \u001b[49m\u001b[32;43m1051.0\u001b[39;49m\u001b[43m,\u001b[49m\u001b[43m \u001b[49m\u001b[32;43m1029.0\u001b[39;49m\u001b[43m,\u001b[49m\u001b[43m \u001b[49m\u001b[32;43m1021.0\u001b[39;49m\u001b[43m,\u001b[49m\u001b[43m \u001b[49m\u001b[32;43m1011.0\u001b[39;49m\u001b[43m,\u001b[49m\u001b[43m \u001b[49m\u001b[32;43m1015.0\u001b[39;49m\u001b[43m,\u001b[49m\u001b[43m \u001b[49m\u001b[32;43m1019.0\u001b[39;49m\u001b[43m,\u001b[49m\u001b[43m \u001b[49m\u001b[32;43m1030.0\u001b[39;49m\u001b[43m,\u001b[49m\u001b[43m \u001b[49m\n\u001b[32m     10\u001b[39m \u001b[43m    \u001b[49m\u001b[32;43m1039.0\u001b[39;49m\u001b[43m,\u001b[49m\u001b[43m \u001b[49m\u001b[32;43m1049.0\u001b[39;49m\u001b[43m,\u001b[49m\u001b[43m \u001b[49m\u001b[32;43m1065.0\u001b[39;49m\u001b[43m,\u001b[49m\u001b[43m \u001b[49m\u001b[32;43m1079.0\u001b[39;49m\u001b[43m,\u001b[49m\u001b[43m \u001b[49m\u001b[32;43m1095.0\u001b[39;49m\u001b[43m,\u001b[49m\u001b[43m \u001b[49m\u001b[32;43m1096.0\u001b[39;49m\u001b[43m,\u001b[49m\u001b[43m \u001b[49m\u001b[32;43m1094.0\u001b[39;49m\u001b[43m,\u001b[49m\u001b[43m \u001b[49m\u001b[32;43m1080.0\u001b[39;49m\u001b[43m,\u001b[49m\u001b[43m \u001b[49m\u001b[32;43m1057.0\u001b[39;49m\u001b[43m,\u001b[49m\u001b[43m \u001b[49m\u001b[32;43m1033.0\u001b[39;49m\u001b[43m,\u001b[49m\u001b[43m \u001b[49m\n\u001b[32m     11\u001b[39m \u001b[43m    \u001b[49m\u001b[32;43m1003.0\u001b[39;49m\u001b[43m,\u001b[49m\u001b[43m \u001b[49m\u001b[32;43m971.0\u001b[39;49m\u001b[43m,\u001b[49m\u001b[43m \u001b[49m\u001b[32;43m931.0\u001b[39;49m\u001b[43m,\u001b[49m\u001b[43m \u001b[49m\u001b[32;43m888.0\u001b[39;49m\u001b[43m,\u001b[49m\u001b[43m \u001b[49m\u001b[32;43m839.0\u001b[39;49m\u001b[43m,\u001b[49m\u001b[43m \u001b[49m\u001b[32;43m791.0\u001b[39;49m\u001b[43m,\u001b[49m\u001b[43m \u001b[49m\u001b[32;43m746.0\u001b[39;49m\u001b[43m,\u001b[49m\u001b[43m \u001b[49m\u001b[32;43m708.0\u001b[39;49m\u001b[43m,\u001b[49m\u001b[43m \u001b[49m\u001b[32;43m684.0\u001b[39;49m\u001b[43m,\u001b[49m\u001b[43m \u001b[49m\u001b[32;43m669.0\u001b[39;49m\u001b[43m,\u001b[49m\u001b[43m \u001b[49m\u001b[32;43m657.0\u001b[39;49m\u001b[43m,\u001b[49m\u001b[43m \u001b[49m\n\u001b[32m     12\u001b[39m \u001b[43m    \u001b[49m\u001b[32;43m654.0\u001b[39;49m\u001b[43m,\u001b[49m\u001b[43m \u001b[49m\u001b[32;43m644.0\u001b[39;49m\u001b[43m,\u001b[49m\u001b[43m \u001b[49m\u001b[32;43m635.0\u001b[39;49m\u001b[43m,\u001b[49m\u001b[43m \u001b[49m\u001b[32;43m626.0\u001b[39;49m\u001b[43m,\u001b[49m\u001b[43m \u001b[49m\u001b[32;43m625.0\u001b[39;49m\u001b[43m,\u001b[49m\u001b[43m \u001b[49m\u001b[32;43m619.0\u001b[39;49m\u001b[43m,\u001b[49m\u001b[43m \u001b[49m\u001b[32;43m617.0\u001b[39;49m\u001b[43m,\u001b[49m\u001b[43m \u001b[49m\u001b[32;43m619.0\u001b[39;49m\u001b[43m,\u001b[49m\u001b[43m \u001b[49m\u001b[32;43m618.0\u001b[39;49m\u001b[43m,\u001b[49m\u001b[43m \u001b[49m\u001b[32;43m613.0\u001b[39;49m\u001b[43m,\u001b[49m\u001b[43m \u001b[49m\u001b[32;43m613.0\u001b[39;49m\u001b[43m,\u001b[49m\u001b[43m \u001b[49m\n\u001b[32m     13\u001b[39m \u001b[43m    \u001b[49m\u001b[32;43m609.0\u001b[39;49m\u001b[43m,\u001b[49m\u001b[43m \u001b[49m\u001b[32;43m614.0\u001b[39;49m\u001b[43m,\u001b[49m\u001b[43m \u001b[49m\u001b[32;43m628.0\u001b[39;49m\u001b[43m,\u001b[49m\u001b[43m \u001b[49m\u001b[32;43m644.0\u001b[39;49m\u001b[43m,\u001b[49m\u001b[43m \u001b[49m\u001b[32;43m658.0\u001b[39;49m\u001b[43m,\u001b[49m\u001b[43m \u001b[49m\u001b[32;43m672.0\u001b[39;49m\u001b[43m,\u001b[49m\u001b[43m \u001b[49m\u001b[32;43m680.0\u001b[39;49m\u001b[43m,\u001b[49m\u001b[43m \u001b[49m\u001b[32;43m695.0\u001b[39;49m\u001b[43m,\u001b[49m\u001b[43m \u001b[49m\u001b[32;43m703.0\u001b[39;49m\u001b[43m,\u001b[49m\u001b[43m \u001b[49m\u001b[32;43m709.0\u001b[39;49m\u001b[43m,\u001b[49m\u001b[43m \u001b[49m\u001b[32;43m716.0\u001b[39;49m\u001b[43m,\u001b[49m\u001b[43m \u001b[49m\n\u001b[32m     14\u001b[39m \u001b[43m    \u001b[49m\u001b[32;43m711.0\u001b[39;49m\u001b[43m,\u001b[49m\u001b[43m \u001b[49m\u001b[32;43m713.0\u001b[39;49m\u001b[43m,\u001b[49m\u001b[43m \u001b[49m\u001b[32;43m699.0\u001b[39;49m\u001b[43m,\u001b[49m\u001b[43m \u001b[49m\u001b[32;43m677.0\u001b[39;49m\u001b[43m,\u001b[49m\u001b[43m \u001b[49m\u001b[32;43m656.0\u001b[39;49m\u001b[43m,\u001b[49m\u001b[43m \u001b[49m\u001b[32;43m638.0\u001b[39;49m\u001b[43m,\u001b[49m\u001b[43m \u001b[49m\u001b[32;43m637.0\u001b[39;49m\u001b[43m,\u001b[49m\u001b[43m \u001b[49m\u001b[32;43m636.0\u001b[39;49m\u001b[43m,\u001b[49m\u001b[43m \u001b[49m\u001b[32;43m642.0\u001b[39;49m\u001b[43m,\u001b[49m\u001b[43m \u001b[49m\u001b[32;43m646.0\u001b[39;49m\u001b[43m,\u001b[49m\u001b[43m \u001b[49m\u001b[32;43m649.0\u001b[39;49m\u001b[43m,\u001b[49m\u001b[43m \u001b[49m\n\u001b[32m     15\u001b[39m \u001b[43m    \u001b[49m\u001b[32;43m651.0\u001b[39;49m\u001b[43m,\u001b[49m\u001b[43m \u001b[49m\u001b[32;43m645.0\u001b[39;49m\u001b[43m,\u001b[49m\u001b[43m \u001b[49m\u001b[32;43m650.0\u001b[39;49m\u001b[43m,\u001b[49m\u001b[43m \u001b[49m\u001b[32;43m655.0\u001b[39;49m\u001b[43m,\u001b[49m\u001b[43m \u001b[49m\u001b[32;43m651.0\u001b[39;49m\u001b[43m,\u001b[49m\u001b[43m \u001b[49m\u001b[32;43m647.0\u001b[39;49m\u001b[43m,\u001b[49m\u001b[43m \u001b[49m\u001b[32;43m643.0\u001b[39;49m\u001b[43m,\u001b[49m\u001b[43m \u001b[49m\u001b[32;43m623.0\u001b[39;49m\u001b[43m,\u001b[49m\u001b[43m \u001b[49m\u001b[32;43m594.0\u001b[39;49m\u001b[43m,\u001b[49m\u001b[43m \u001b[49m\u001b[32;43m570.0\u001b[39;49m\u001b[43m,\u001b[49m\u001b[43m \u001b[49m\u001b[32;43m545.0\u001b[39;49m\u001b[43m,\u001b[49m\u001b[43m \u001b[49m\n\u001b[32m     16\u001b[39m \u001b[43m    \u001b[49m\u001b[32;43m531.0\u001b[39;49m\u001b[43m,\u001b[49m\u001b[43m \u001b[49m\u001b[32;43m523.0\u001b[39;49m\u001b[43m,\u001b[49m\u001b[43m \u001b[49m\u001b[32;43m523.0\u001b[39;49m\u001b[43m,\u001b[49m\u001b[43m \u001b[49m\u001b[32;43m523.0\u001b[39;49m\u001b[43m,\u001b[49m\u001b[43m \u001b[49m\u001b[32;43m520.0\u001b[39;49m\u001b[43m,\u001b[49m\u001b[43m \u001b[49m\u001b[32;43m521.0\u001b[39;49m\u001b[43m,\u001b[49m\u001b[43m \u001b[49m\u001b[32;43m514.0\u001b[39;49m\u001b[43m,\u001b[49m\u001b[43m \u001b[49m\u001b[32;43m506.0\u001b[39;49m\u001b[43m,\u001b[49m\u001b[43m \u001b[49m\u001b[32;43m495.0\u001b[39;49m\u001b[43m,\u001b[49m\u001b[43m \u001b[49m\u001b[32;43m481.0\u001b[39;49m\u001b[43m,\u001b[49m\u001b[43m \u001b[49m\u001b[32;43m460.0\u001b[39;49m\u001b[43m,\u001b[49m\u001b[43m \u001b[49m\n\u001b[32m     17\u001b[39m \u001b[43m    \u001b[49m\u001b[32;43m439.0\u001b[39;49m\u001b[43m,\u001b[49m\u001b[43m \u001b[49m\u001b[32;43m402.0\u001b[39;49m\u001b[43m,\u001b[49m\u001b[43m \u001b[49m\u001b[32;43m366.0\u001b[39;49m\u001b[43m,\u001b[49m\u001b[43m \u001b[49m\u001b[32;43m334.0\u001b[39;49m\u001b[43m,\u001b[49m\u001b[43m \u001b[49m\u001b[32;43m308.0\u001b[39;49m\u001b[43m,\u001b[49m\u001b[43m \u001b[49m\u001b[32;43m286.0\u001b[39;49m\u001b[43m,\u001b[49m\u001b[43m \u001b[49m\u001b[32;43m279.0\u001b[39;49m\u001b[43m,\u001b[49m\u001b[43m \u001b[49m\u001b[32;43m279.0\u001b[39;49m\u001b[43m,\u001b[49m\u001b[43m \u001b[49m\u001b[32;43m284.0\u001b[39;49m\u001b[43m,\u001b[49m\u001b[43m \u001b[49m\u001b[32;43m311.0\u001b[39;49m\u001b[43m,\u001b[49m\u001b[43m \u001b[49m\u001b[32;43m337.0\u001b[39;49m\u001b[43m,\u001b[49m\u001b[43m \u001b[49m\n\u001b[32m     18\u001b[39m \u001b[43m    \u001b[49m\u001b[32;43m373.0\u001b[39;49m\u001b[43m,\u001b[49m\u001b[43m \u001b[49m\u001b[32;43m412.0\u001b[39;49m\u001b[43m,\u001b[49m\u001b[43m \u001b[49m\u001b[32;43m450.0\u001b[39;49m\u001b[43m,\u001b[49m\u001b[43m \u001b[49m\u001b[32;43m473.0\u001b[39;49m\u001b[43m,\u001b[49m\u001b[43m \u001b[49m\u001b[32;43m493.0\u001b[39;49m\u001b[43m,\u001b[49m\u001b[43m \u001b[49m\u001b[32;43m503.0\u001b[39;49m\u001b[43m,\u001b[49m\u001b[43m \u001b[49m\u001b[32;43m512.0\u001b[39;49m\u001b[43m,\u001b[49m\u001b[43m \u001b[49m\u001b[32;43m515.0\u001b[39;49m\u001b[43m,\u001b[49m\u001b[43m \u001b[49m\u001b[32;43m511.0\u001b[39;49m\u001b[43m,\u001b[49m\u001b[43m \u001b[49m\u001b[32;43m503.0\u001b[39;49m\u001b[43m,\u001b[49m\u001b[43m \u001b[49m\u001b[32;43m495.0\u001b[39;49m\u001b[43m,\u001b[49m\u001b[43m \u001b[49m\n\u001b[32m     19\u001b[39m \u001b[43m    \u001b[49m\u001b[32;43m477.0\u001b[39;49m\u001b[43m,\u001b[49m\u001b[43m \u001b[49m\u001b[32;43m465.0\u001b[39;49m\u001b[43m,\u001b[49m\u001b[43m \u001b[49m\u001b[32;43m447.0\u001b[39;49m\u001b[43m,\u001b[49m\u001b[43m \u001b[49m\u001b[32;43m434.0\u001b[39;49m\u001b[43m,\u001b[49m\u001b[43m \u001b[49m\u001b[32;43m443.0\u001b[39;49m\u001b[43m,\u001b[49m\u001b[43m \u001b[49m\u001b[32;43m435.0\u001b[39;49m\u001b[43m,\u001b[49m\u001b[43m \u001b[49m\u001b[32;43m440.0\u001b[39;49m\u001b[43m,\u001b[49m\u001b[43m \u001b[49m\u001b[32;43m451.0\u001b[39;49m\u001b[43m,\u001b[49m\u001b[43m \u001b[49m\u001b[32;43m461.0\u001b[39;49m\u001b[43m,\u001b[49m\u001b[43m \u001b[49m\u001b[32;43m485.0\u001b[39;49m\u001b[43m,\u001b[49m\u001b[43m \u001b[49m\u001b[32;43m507.0\u001b[39;49m\u001b[43m,\u001b[49m\u001b[43m \u001b[49m\n\u001b[32m     20\u001b[39m \u001b[43m    \u001b[49m\u001b[32;43m540.0\u001b[39;49m\u001b[43m,\u001b[49m\u001b[43m \u001b[49m\u001b[32;43m569.0\u001b[39;49m\u001b[43m,\u001b[49m\u001b[43m \u001b[49m\u001b[32;43m592.0\u001b[39;49m\u001b[43m,\u001b[49m\u001b[43m \u001b[49m\u001b[32;43m613.0\u001b[39;49m\u001b[43m,\u001b[49m\u001b[43m \u001b[49m\u001b[32;43m612.0\u001b[39;49m\u001b[43m,\u001b[49m\u001b[43m \u001b[49m\u001b[32;43m614.0\u001b[39;49m\u001b[43m,\u001b[49m\u001b[43m \u001b[49m\u001b[32;43m626.0\u001b[39;49m\u001b[43m,\u001b[49m\u001b[43m \u001b[49m\u001b[32;43m622.0\u001b[39;49m\u001b[43m,\u001b[49m\u001b[43m \u001b[49m\u001b[32;43m636.0\u001b[39;49m\u001b[43m,\u001b[49m\u001b[43m \u001b[49m\u001b[32;43m647.0\u001b[39;49m\u001b[43m,\u001b[49m\u001b[43m \u001b[49m\u001b[32;43m638.0\u001b[39;49m\u001b[43m,\u001b[49m\u001b[43m \u001b[49m\n\u001b[32m     21\u001b[39m \u001b[43m    \u001b[49m\u001b[32;43m634.0\u001b[39;49m\u001b[43m,\u001b[49m\u001b[43m \u001b[49m\u001b[32;43m627.0\u001b[39;49m\u001b[43m,\u001b[49m\u001b[43m \u001b[49m\u001b[32;43m617.0\u001b[39;49m\u001b[43m,\u001b[49m\u001b[43m \u001b[49m\u001b[32;43m624.0\u001b[39;49m\u001b[43m,\u001b[49m\u001b[43m \u001b[49m\u001b[32;43m636.0\u001b[39;49m\u001b[43m,\u001b[49m\u001b[43m \u001b[49m\u001b[32;43m650.0\u001b[39;49m\u001b[43m,\u001b[49m\u001b[43m \u001b[49m\u001b[32;43m664.0\u001b[39;49m\u001b[43m,\u001b[49m\u001b[43m \u001b[49m\u001b[32;43m664.0\u001b[39;49m\u001b[43m,\u001b[49m\u001b[43m \u001b[49m\u001b[32;43m653.0\u001b[39;49m\u001b[43m,\u001b[49m\u001b[43m \u001b[49m\u001b[32;43m627.0\u001b[39;49m\u001b[43m,\u001b[49m\u001b[43m \u001b[49m\u001b[32;43m597.0\u001b[39;49m\u001b[43m,\u001b[49m\u001b[43m \u001b[49m\n\u001b[32m     22\u001b[39m \u001b[43m    \u001b[49m\u001b[32;43m575.0\u001b[39;49m\u001b[43m,\u001b[49m\u001b[43m \u001b[49m\u001b[32;43m562.0\u001b[39;49m\u001b[43m,\u001b[49m\u001b[43m \u001b[49m\u001b[32;43m563.0\u001b[39;49m\u001b[43m,\u001b[49m\u001b[43m \u001b[49m\u001b[32;43m569.0\u001b[39;49m\u001b[43m,\u001b[49m\u001b[43m \u001b[49m\u001b[32;43m572.0\u001b[39;49m\u001b[43m,\u001b[49m\u001b[43m \u001b[49m\u001b[32;43m578.0\u001b[39;49m\u001b[43m,\u001b[49m\u001b[43m \u001b[49m\u001b[32;43m578.0\u001b[39;49m\u001b[43m,\u001b[49m\u001b[43m \u001b[49m\u001b[32;43m573.0\u001b[39;49m\u001b[43m,\u001b[49m\u001b[43m \u001b[49m\u001b[32;43m571.0\u001b[39;49m\u001b[43m,\u001b[49m\u001b[43m \u001b[49m\u001b[32;43m580.0\u001b[39;49m\u001b[43m,\u001b[49m\u001b[43m \u001b[49m\u001b[32;43m605.0\u001b[39;49m\u001b[43m,\u001b[49m\u001b[43m \u001b[49m\n\u001b[32m     23\u001b[39m \u001b[43m    \u001b[49m\u001b[32;43m645.0\u001b[39;49m\u001b[43m,\u001b[49m\u001b[43m \u001b[49m\u001b[32;43m679.0\u001b[39;49m\u001b[43m,\u001b[49m\u001b[43m \u001b[49m\u001b[32;43m711.0\u001b[39;49m\u001b[43m,\u001b[49m\u001b[43m \u001b[49m\u001b[32;43m738.0\u001b[39;49m\u001b[43m,\u001b[49m\u001b[43m \u001b[49m\u001b[32;43m750.0\u001b[39;49m\u001b[43m,\u001b[49m\u001b[43m \u001b[49m\u001b[32;43m757.0\u001b[39;49m\u001b[43m,\u001b[49m\u001b[43m \u001b[49m\u001b[32;43m769.0\u001b[39;49m\u001b[43m,\u001b[49m\u001b[43m \u001b[49m\u001b[32;43m783.0\u001b[39;49m\u001b[43m,\u001b[49m\u001b[43m \u001b[49m\u001b[32;43m804.0\u001b[39;49m\u001b[43m,\u001b[49m\u001b[43m \u001b[49m\u001b[32;43m829.0\u001b[39;49m\u001b[43m,\u001b[49m\u001b[43m \u001b[49m\u001b[32;43m858.0\u001b[39;49m\u001b[43m,\u001b[49m\u001b[43m \u001b[49m\n\u001b[32m     24\u001b[39m \u001b[43m    \u001b[49m\u001b[32;43m882.0\u001b[39;49m\u001b[43m,\u001b[49m\u001b[43m \u001b[49m\u001b[32;43m895.0\u001b[39;49m\u001b[43m,\u001b[49m\u001b[43m \u001b[49m\u001b[32;43m906.0\u001b[39;49m\u001b[43m,\u001b[49m\u001b[43m \u001b[49m\u001b[32;43m913.0\u001b[39;49m\u001b[43m,\u001b[49m\u001b[43m \u001b[49m\u001b[32;43m927.0\u001b[39;49m\u001b[43m,\u001b[49m\u001b[43m \u001b[49m\u001b[32;43m936.0\u001b[39;49m\u001b[43m,\u001b[49m\u001b[43m \u001b[49m\u001b[32;43m949.0\u001b[39;49m\u001b[43m,\u001b[49m\u001b[43m \u001b[49m\u001b[32;43m955.0\u001b[39;49m\u001b[43m,\u001b[49m\u001b[43m \u001b[49m\u001b[32;43m960.0\u001b[39;49m\u001b[43m,\u001b[49m\u001b[43m \u001b[49m\u001b[32;43m947.0\u001b[39;49m\u001b[43m,\u001b[49m\u001b[43m \u001b[49m\u001b[32;43m922.0\u001b[39;49m\u001b[43m,\u001b[49m\u001b[43m \u001b[49m\n\u001b[32m     25\u001b[39m \u001b[43m    \u001b[49m\u001b[32;43m891.0\u001b[39;49m\u001b[43m,\u001b[49m\u001b[43m \u001b[49m\u001b[32;43m866.0\u001b[39;49m\u001b[43m,\u001b[49m\u001b[43m \u001b[49m\u001b[32;43m842.0\u001b[39;49m\u001b[43m,\u001b[49m\u001b[43m \u001b[49m\u001b[32;43m828.0\u001b[39;49m\u001b[43m,\u001b[49m\u001b[43m \u001b[49m\u001b[32;43m827.0\u001b[39;49m\u001b[43m,\u001b[49m\u001b[43m \u001b[49m\u001b[32;43m828.0\u001b[39;49m\u001b[43m,\u001b[49m\u001b[43m \u001b[49m\u001b[32;43m824.0\u001b[39;49m\u001b[43m,\u001b[49m\u001b[43m \u001b[49m\u001b[32;43m827.0\u001b[39;49m\u001b[43m,\u001b[49m\u001b[43m \u001b[49m\u001b[32;43m834.0\u001b[39;49m\u001b[43m,\u001b[49m\u001b[43m \u001b[49m\u001b[32;43m842.0\u001b[39;49m\u001b[43m,\u001b[49m\u001b[43m \u001b[49m\u001b[32;43m858.0\u001b[39;49m\u001b[43m,\u001b[49m\u001b[43m \u001b[49m\n\u001b[32m     26\u001b[39m \u001b[43m    \u001b[49m\u001b[32;43m883.0\u001b[39;49m\u001b[43m,\u001b[49m\u001b[43m \u001b[49m\u001b[32;43m909.0\u001b[39;49m\u001b[43m,\u001b[49m\u001b[43m \u001b[49m\u001b[32;43m928.0\u001b[39;49m\u001b[43m,\u001b[49m\u001b[43m \u001b[49m\u001b[32;43m938.0\u001b[39;49m\u001b[43m,\u001b[49m\u001b[43m \u001b[49m\u001b[32;43m946.0\u001b[39;49m\u001b[43m,\u001b[49m\u001b[43m \u001b[49m\u001b[32;43m937.0\u001b[39;49m\u001b[43m,\u001b[49m\u001b[43m \u001b[49m\u001b[32;43m926.0\u001b[39;49m\u001b[43m,\u001b[49m\u001b[43m \u001b[49m\u001b[32;43m910.0\u001b[39;49m\u001b[43m,\u001b[49m\u001b[43m \u001b[49m\u001b[32;43m892.0\u001b[39;49m\u001b[43m,\u001b[49m\u001b[43m \u001b[49m\u001b[32;43m874.0\u001b[39;49m\u001b[43m,\u001b[49m\u001b[43m \u001b[49m\u001b[32;43m844.0\u001b[39;49m\u001b[43m,\u001b[49m\u001b[43m \u001b[49m\n\u001b[32m     27\u001b[39m \u001b[43m    \u001b[49m\u001b[32;43m818.0\u001b[39;49m\u001b[43m,\u001b[49m\u001b[43m \u001b[49m\u001b[32;43m787.0\u001b[39;49m\u001b[43m,\u001b[49m\u001b[43m \u001b[49m\u001b[32;43m753.0\u001b[39;49m\u001b[43m,\u001b[49m\u001b[43m \u001b[49m\u001b[32;43m737.0\u001b[39;49m\u001b[43m,\u001b[49m\u001b[43m \u001b[49m\u001b[32;43m727.0\u001b[39;49m\u001b[43m,\u001b[49m\u001b[43m \u001b[49m\u001b[32;43m726.0\u001b[39;49m\u001b[43m,\u001b[49m\u001b[43m \u001b[49m\u001b[32;43m737.0\u001b[39;49m\u001b[43m,\u001b[49m\u001b[43m \u001b[49m\u001b[32;43m750.0\u001b[39;49m\u001b[43m,\u001b[49m\u001b[43m \u001b[49m\u001b[32;43m757.0\u001b[39;49m\u001b[43m,\u001b[49m\u001b[43m \u001b[49m\u001b[32;43m763.0\u001b[39;49m\u001b[43m,\u001b[49m\u001b[43m \u001b[49m\u001b[32;43m775.0\u001b[39;49m\u001b[43m,\u001b[49m\u001b[43m \u001b[49m\n\u001b[32m     28\u001b[39m \u001b[43m    \u001b[49m\u001b[32;43m783.0\u001b[39;49m\u001b[43m,\u001b[49m\u001b[43m \u001b[49m\u001b[32;43m799.0\u001b[39;49m\u001b[43m,\u001b[49m\u001b[43m \u001b[49m\u001b[32;43m817.0\u001b[39;49m\u001b[43m,\u001b[49m\u001b[43m \u001b[49m\u001b[32;43m834.0\u001b[39;49m\u001b[43m,\u001b[49m\u001b[43m \u001b[49m\u001b[32;43m855.0\u001b[39;49m\u001b[43m,\u001b[49m\u001b[43m \u001b[49m\u001b[32;43m867.0\u001b[39;49m\u001b[43m,\u001b[49m\u001b[43m \u001b[49m\u001b[32;43m862.0\u001b[39;49m\u001b[43m,\u001b[49m\u001b[43m \u001b[49m\u001b[32;43m857.0\u001b[39;49m\u001b[43m,\u001b[49m\u001b[43m \u001b[49m\u001b[32;43m846.0\u001b[39;49m\u001b[43m,\u001b[49m\u001b[43m \u001b[49m\u001b[32;43m837.0\u001b[39;49m\u001b[43m,\u001b[49m\u001b[43m \u001b[49m\u001b[32;43m835.0\u001b[39;49m\u001b[43m,\u001b[49m\u001b[43m \u001b[49m\n\u001b[32m     29\u001b[39m \u001b[43m    \u001b[49m\u001b[32;43m844.0\u001b[39;49m\u001b[43m,\u001b[49m\u001b[43m \u001b[49m\u001b[32;43m852.0\u001b[39;49m\u001b[43m,\u001b[49m\u001b[43m \u001b[49m\u001b[32;43m865.0\u001b[39;49m\u001b[43m,\u001b[49m\u001b[43m \u001b[49m\u001b[32;43m877.0\u001b[39;49m\u001b[43m,\u001b[49m\u001b[43m \u001b[49m\u001b[32;43m882.0\u001b[39;49m\u001b[43m,\u001b[49m\u001b[43m \u001b[49m\u001b[32;43m882.0\u001b[39;49m\u001b[43m,\u001b[49m\u001b[43m \u001b[49m\u001b[32;43m881.0\u001b[39;49m\u001b[43m,\u001b[49m\u001b[43m \u001b[49m\u001b[32;43m880.0\u001b[39;49m\n\u001b[32m     30\u001b[39m \u001b[43m]\u001b[49m\n\u001b[32m     31\u001b[39m \u001b[43m)\u001b[49m\n",
      "\u001b[36mFile \u001b[39m\u001b[32m~/MtechProject/sound_manipulation/env/lib/python3.12/site-packages/keras/src/utils/traceback_utils.py:122\u001b[39m, in \u001b[36mfilter_traceback.<locals>.error_handler\u001b[39m\u001b[34m(*args, **kwargs)\u001b[39m\n\u001b[32m    119\u001b[39m     filtered_tb = _process_traceback_frames(e.__traceback__)\n\u001b[32m    120\u001b[39m     \u001b[38;5;66;03m# To get the full stack trace, call:\u001b[39;00m\n\u001b[32m    121\u001b[39m     \u001b[38;5;66;03m# `keras.config.disable_traceback_filtering()`\u001b[39;00m\n\u001b[32m--> \u001b[39m\u001b[32m122\u001b[39m     \u001b[38;5;28;01mraise\u001b[39;00m e.with_traceback(filtered_tb) \u001b[38;5;28;01mfrom\u001b[39;00m\u001b[38;5;250m \u001b[39m\u001b[38;5;28;01mNone\u001b[39;00m\n\u001b[32m    123\u001b[39m \u001b[38;5;28;01mfinally\u001b[39;00m:\n\u001b[32m    124\u001b[39m     \u001b[38;5;28;01mdel\u001b[39;00m filtered_tb\n",
      "\u001b[36mFile \u001b[39m\u001b[32m~/MtechProject/sound_manipulation/env/lib/python3.12/site-packages/keras/src/trainers/data_adapters/__init__.py:125\u001b[39m, in \u001b[36mget_data_adapter\u001b[39m\u001b[34m(x, y, sample_weight, batch_size, steps_per_epoch, shuffle, class_weight)\u001b[39m\n\u001b[32m    117\u001b[39m     \u001b[38;5;28;01mreturn\u001b[39;00m GeneratorDataAdapter(x)\n\u001b[32m    118\u001b[39m     \u001b[38;5;66;03m# TODO: should we warn or not?\u001b[39;00m\n\u001b[32m    119\u001b[39m     \u001b[38;5;66;03m# warnings.warn(\u001b[39;00m\n\u001b[32m    120\u001b[39m     \u001b[38;5;66;03m#     \"`shuffle=True` was passed, but will be ignored since the \"\u001b[39;00m\n\u001b[32m   (...)\u001b[39m\u001b[32m    123\u001b[39m     \u001b[38;5;66;03m# )\u001b[39;00m\n\u001b[32m    124\u001b[39m \u001b[38;5;28;01melse\u001b[39;00m:\n\u001b[32m--> \u001b[39m\u001b[32m125\u001b[39m     \u001b[38;5;28;01mraise\u001b[39;00m \u001b[38;5;167;01mValueError\u001b[39;00m(\u001b[33mf\u001b[39m\u001b[33m\"\u001b[39m\u001b[33mUnrecognized data type: x=\u001b[39m\u001b[38;5;132;01m{\u001b[39;00mx\u001b[38;5;132;01m}\u001b[39;00m\u001b[33m (of type \u001b[39m\u001b[38;5;132;01m{\u001b[39;00m\u001b[38;5;28mtype\u001b[39m(x)\u001b[38;5;132;01m}\u001b[39;00m\u001b[33m)\u001b[39m\u001b[33m\"\u001b[39m)\n",
      "\u001b[31mValueError\u001b[39m: Unrecognized data type: x=[1525.0, 1494.0, 1468.0, 1446.0, 1440.0, 1436.0, 1436.0, 1428.0, 1427.0, 1417.0, 1403.0, 1392.0, 1379.0, 1360.0, 1328.0, 1304.0, 1286.0, 1265.0, 1259.0, 1265.0, 1274.0, 1287.0, 1296.0, 1295.0, 1288.0, 1271.0, 1253.0, 1233.0, 1211.0, 1185.0, 1155.0, 1122.0, 1088.0, 1051.0, 1029.0, 1021.0, 1011.0, 1015.0, 1019.0, 1030.0, 1039.0, 1049.0, 1065.0, 1079.0, 1095.0, 1096.0, 1094.0, 1080.0, 1057.0, 1033.0, 1003.0, 971.0, 931.0, 888.0, 839.0, 791.0, 746.0, 708.0, 684.0, 669.0, 657.0, 654.0, 644.0, 635.0, 626.0, 625.0, 619.0, 617.0, 619.0, 618.0, 613.0, 613.0, 609.0, 614.0, 628.0, 644.0, 658.0, 672.0, 680.0, 695.0, 703.0, 709.0, 716.0, 711.0, 713.0, 699.0, 677.0, 656.0, 638.0, 637.0, 636.0, 642.0, 646.0, 649.0, 651.0, 645.0, 650.0, 655.0, 651.0, 647.0, 643.0, 623.0, 594.0, 570.0, 545.0, 531.0, 523.0, 523.0, 523.0, 520.0, 521.0, 514.0, 506.0, 495.0, 481.0, 460.0, 439.0, 402.0, 366.0, 334.0, 308.0, 286.0, 279.0, 279.0, 284.0, 311.0, 337.0, 373.0, 412.0, 450.0, 473.0, 493.0, 503.0, 512.0, 515.0, 511.0, 503.0, 495.0, 477.0, 465.0, 447.0, 434.0, 443.0, 435.0, 440.0, 451.0, 461.0, 485.0, 507.0, 540.0, 569.0, 592.0, 613.0, 612.0, 614.0, 626.0, 622.0, 636.0, 647.0, 638.0, 634.0, 627.0, 617.0, 624.0, 636.0, 650.0, 664.0, 664.0, 653.0, 627.0, 597.0, 575.0, 562.0, 563.0, 569.0, 572.0, 578.0, 578.0, 573.0, 571.0, 580.0, 605.0, 645.0, 679.0, 711.0, 738.0, 750.0, 757.0, 769.0, 783.0, 804.0, 829.0, 858.0, 882.0, 895.0, 906.0, 913.0, 927.0, 936.0, 949.0, 955.0, 960.0, 947.0, 922.0, 891.0, 866.0, 842.0, 828.0, 827.0, 828.0, 824.0, 827.0, 834.0, 842.0, 858.0, 883.0, 909.0, 928.0, 938.0, 946.0, 937.0, 926.0, 910.0, 892.0, 874.0, 844.0, 818.0, 787.0, 753.0, 737.0, 727.0, 726.0, 737.0, 750.0, 757.0, 763.0, 775.0, 783.0, 799.0, 817.0, 834.0, 855.0, 867.0, 862.0, 857.0, 846.0, 837.0, 835.0, 844.0, 852.0, 865.0, 877.0, 882.0, 882.0, 881.0, 880.0] (of type <class 'list'>)"
     ]
    }
   ],
   "source": [
    "import tensorflow as tf\n",
    "# loading the model\n",
    "# Load your trained model\n",
    "model.predict([\n",
    "    1525.0, 1494.0, 1468.0, 1446.0, 1440.0, 1436.0, 1436.0, 1428.0, 1427.0, 1417.0, \n",
    "    1403.0, 1392.0, 1379.0, 1360.0, 1328.0, 1304.0, 1286.0, 1265.0, 1259.0, 1265.0, \n",
    "    1274.0, 1287.0, 1296.0, 1295.0, 1288.0, 1271.0, 1253.0, 1233.0, 1211.0, 1185.0, \n",
    "    1155.0, 1122.0, 1088.0, 1051.0, 1029.0, 1021.0, 1011.0, 1015.0, 1019.0, 1030.0, \n",
    "    1039.0, 1049.0, 1065.0, 1079.0, 1095.0, 1096.0, 1094.0, 1080.0, 1057.0, 1033.0, \n",
    "    1003.0, 971.0, 931.0, 888.0, 839.0, 791.0, 746.0, 708.0, 684.0, 669.0, 657.0, \n",
    "    654.0, 644.0, 635.0, 626.0, 625.0, 619.0, 617.0, 619.0, 618.0, 613.0, 613.0, \n",
    "    609.0, 614.0, 628.0, 644.0, 658.0, 672.0, 680.0, 695.0, 703.0, 709.0, 716.0, \n",
    "    711.0, 713.0, 699.0, 677.0, 656.0, 638.0, 637.0, 636.0, 642.0, 646.0, 649.0, \n",
    "    651.0, 645.0, 650.0, 655.0, 651.0, 647.0, 643.0, 623.0, 594.0, 570.0, 545.0, \n",
    "    531.0, 523.0, 523.0, 523.0, 520.0, 521.0, 514.0, 506.0, 495.0, 481.0, 460.0, \n",
    "    439.0, 402.0, 366.0, 334.0, 308.0, 286.0, 279.0, 279.0, 284.0, 311.0, 337.0, \n",
    "    373.0, 412.0, 450.0, 473.0, 493.0, 503.0, 512.0, 515.0, 511.0, 503.0, 495.0, \n",
    "    477.0, 465.0, 447.0, 434.0, 443.0, 435.0, 440.0, 451.0, 461.0, 485.0, 507.0, \n",
    "    540.0, 569.0, 592.0, 613.0, 612.0, 614.0, 626.0, 622.0, 636.0, 647.0, 638.0, \n",
    "    634.0, 627.0, 617.0, 624.0, 636.0, 650.0, 664.0, 664.0, 653.0, 627.0, 597.0, \n",
    "    575.0, 562.0, 563.0, 569.0, 572.0, 578.0, 578.0, 573.0, 571.0, 580.0, 605.0, \n",
    "    645.0, 679.0, 711.0, 738.0, 750.0, 757.0, 769.0, 783.0, 804.0, 829.0, 858.0, \n",
    "    882.0, 895.0, 906.0, 913.0, 927.0, 936.0, 949.0, 955.0, 960.0, 947.0, 922.0, \n",
    "    891.0, 866.0, 842.0, 828.0, 827.0, 828.0, 824.0, 827.0, 834.0, 842.0, 858.0, \n",
    "    883.0, 909.0, 928.0, 938.0, 946.0, 937.0, 926.0, 910.0, 892.0, 874.0, 844.0, \n",
    "    818.0, 787.0, 753.0, 737.0, 727.0, 726.0, 737.0, 750.0, 757.0, 763.0, 775.0, \n",
    "    783.0, 799.0, 817.0, 834.0, 855.0, 867.0, 862.0, 857.0, 846.0, 837.0, 835.0, \n",
    "    844.0, 852.0, 865.0, 877.0, 882.0, 882.0, 881.0, 880.0\n",
    "]\n",
    ")"
   ]
  },
  {
   "cell_type": "code",
   "execution_count": 15,
   "id": "19cc50bc",
   "metadata": {},
   "outputs": [
    {
     "name": "stderr",
     "output_type": "stream",
     "text": [
      "WARNING:absl:You are saving your model as an HDF5 file via `model.save()` or `keras.saving.save_model(model)`. This file format is considered legacy. We recommend using instead the native Keras format, e.g. `model.save('my_model.keras')` or `keras.saving.save_model(model, 'my_model.keras')`. \n"
     ]
    }
   ],
   "source": [
    "# saving the model\n",
    "model.save('final_complete.h5')"
   ]
  },
  {
   "cell_type": "code",
   "execution_count": null,
   "id": "673992d6",
   "metadata": {},
   "outputs": [],
   "source": []
  },
  {
   "cell_type": "code",
   "execution_count": 7,
   "id": "d21d82d7",
   "metadata": {},
   "outputs": [
    {
     "name": "stdout",
     "output_type": "stream",
     "text": [
      "INFO:tensorflow:Assets written to: /tmp/tmpt1jfas4u/assets\n"
     ]
    },
    {
     "name": "stderr",
     "output_type": "stream",
     "text": [
      "INFO:tensorflow:Assets written to: /tmp/tmpt1jfas4u/assets\n"
     ]
    },
    {
     "name": "stdout",
     "output_type": "stream",
     "text": [
      "Saved artifact at '/tmp/tmpt1jfas4u'. The following endpoints are available:\n",
      "\n",
      "* Endpoint 'serve'\n",
      "  args_0 (POSITIONAL_ONLY): TensorSpec(shape=(None, 1024), dtype=tf.float32, name='keras_tensor_12')\n",
      "Output Type:\n",
      "  TensorSpec(shape=(None, 6), dtype=tf.float32, name=None)\n",
      "Captures:\n",
      "  125040671764368: TensorSpec(shape=(), dtype=tf.resource, name=None)\n",
      "  125032157215248: TensorSpec(shape=(), dtype=tf.resource, name=None)\n",
      "  125032157214672: TensorSpec(shape=(), dtype=tf.resource, name=None)\n",
      "  125032157216016: TensorSpec(shape=(), dtype=tf.resource, name=None)\n",
      "  125032157215440: TensorSpec(shape=(), dtype=tf.resource, name=None)\n",
      "  125032157216400: TensorSpec(shape=(), dtype=tf.resource, name=None)\n",
      "  125032157213904: TensorSpec(shape=(), dtype=tf.resource, name=None)\n",
      "  125032157213712: TensorSpec(shape=(), dtype=tf.resource, name=None)\n",
      "  125032157216592: TensorSpec(shape=(), dtype=tf.resource, name=None)\n",
      "  125032156120656: TensorSpec(shape=(), dtype=tf.resource, name=None)\n"
     ]
    },
    {
     "name": "stderr",
     "output_type": "stream",
     "text": [
      "/home/sumanshu/MtechProject/sound_manipulation/env/lib/python3.12/site-packages/tensorflow/lite/python/convert.py:854: UserWarning: Statistics for quantized inputs were expected, but not specified; continuing anyway.\n",
      "  warnings.warn(\n",
      "WARNING: All log messages before absl::InitializeLog() is called are written to STDERR\n",
      "W0000 00:00:1746709293.793508   23304 tf_tfl_flatbuffer_helpers.cc:365] Ignored output_format.\n",
      "W0000 00:00:1746709293.793539   23304 tf_tfl_flatbuffer_helpers.cc:368] Ignored drop_control_dependency.\n"
     ]
    },
    {
     "name": "stdout",
     "output_type": "stream",
     "text": [
      "✅ Fully INT8 model saved as model_int8.tflite\n"
     ]
    },
    {
     "name": "stderr",
     "output_type": "stream",
     "text": [
      "2025-05-08 18:31:33.793939: I tensorflow/cc/saved_model/reader.cc:83] Reading SavedModel from: /tmp/tmpt1jfas4u\n",
      "2025-05-08 18:31:33.794812: I tensorflow/cc/saved_model/reader.cc:52] Reading meta graph with tags { serve }\n",
      "2025-05-08 18:31:33.794823: I tensorflow/cc/saved_model/reader.cc:147] Reading SavedModel debug info (if present) from: /tmp/tmpt1jfas4u\n",
      "I0000 00:00:1746709293.803431   23304 mlir_graph_optimization_pass.cc:425] MLIR V1 optimization pass is not enabled\n",
      "2025-05-08 18:31:33.804847: I tensorflow/cc/saved_model/loader.cc:236] Restoring SavedModel bundle.\n",
      "2025-05-08 18:31:33.841033: I tensorflow/cc/saved_model/loader.cc:220] Running initialization op on SavedModel bundle at path: /tmp/tmpt1jfas4u\n",
      "2025-05-08 18:31:33.853179: I tensorflow/cc/saved_model/loader.cc:471] SavedModel load for tags { serve }; Status: success: OK. Took 59241 microseconds.\n",
      "2025-05-08 18:31:33.888855: I tensorflow/compiler/mlir/tensorflow/utils/dump_mlir_util.cc:269] disabling MLIR crash reproducer, set env var `MLIR_CRASH_REPRODUCER_DIRECTORY` to enable.\n",
      "fully_quantize: 0, inference_type: 6, input_inference_type: INT8, output_inference_type: INT8\n"
     ]
    }
   ],
   "source": [
    "import tensorflow as tf\n",
    "import numpy as np\n",
    "\n",
    "\n",
    "\n",
    "# Representative dataset generator for calibration\n",
    "def representative_data_gen():\n",
    "    for _ in range(100):  # More = better calibration\n",
    "        # Simulate normalized input data (mean 0.0, std 1.0 or between -1 and 1)\n",
    "        data = np.random.uniform(0, 1, size=(1, 1024)).astype(np.float32)\n",
    "        yield [data]\n",
    "\n",
    "# Configure converter\n",
    "converter = tf.lite.TFLiteConverter.from_keras_model(model)\n",
    "converter.optimizations = [tf.lite.Optimize.DEFAULT]\n",
    "converter.representative_dataset = representative_data_gen\n",
    "converter.target_spec.supported_ops = [tf.lite.OpsSet.TFLITE_BUILTINS_INT8]\n",
    "converter.inference_input_type = tf.int8\n",
    "converter.inference_output_type = tf.int8\n",
    "\n",
    "# Convert and save\n",
    "tflite_model = converter.convert()\n",
    "with open(\"model_int8.tflite\", \"wb\") as f:\n",
    "    f.write(tflite_model)\n",
    "\n",
    "print(\"✅ Fully INT8 model saved as model_int8.tflite\")\n"
   ]
  },
  {
   "cell_type": "code",
   "execution_count": 8,
   "id": "c692f468",
   "metadata": {},
   "outputs": [
    {
     "name": "stdout",
     "output_type": "stream",
     "text": [
      "1024\n"
     ]
    }
   ],
   "source": [
    "import numpy as np\n",
    "from sklearn.preprocessing import MinMaxScaler\n",
    "\n",
    "\n",
    "data = \"0.714286 0.751880 0.759399 0.804511 0.759399 0.781955 0.789474 0.759399 0.789474 0.736842 0.714286 0.691729 0.646617 0.601504 0.593985 0.548872 0.518797 0.526316 0.451128 0.443609 0.398496 0.368421 0.360902 0.375940 0.345865 0.375940 0.360902 0.375940 0.375940 0.375940 0.368421 0.368421 0.368421 0.353383 0.413534 0.413534 0.421053 0.421053 0.436090 0.406015 0.428571 0.406015 0.428571 0.421053 0.398496 0.428571 0.406015 0.390977 0.421053 0.390977 0.406015 0.421053 0.443609 0.428571 0.436090 0.443609 0.421053 0.458647 0.451128 0.481203 0.511278 0.526316 0.548872 0.548872 0.578947 0.563910 0.563910 0.541353 0.541353 0.488722 0.481203 0.503759 0.458647 0.458647 0.473684 0.466165 0.458647 0.488722 0.496241 0.488722 0.511278 0.511278 0.496241 0.518797 0.511278 0.481203 0.488722 0.458647 0.436090 0.421053 0.443609 0.428571 0.473684 0.458647 0.451128 0.466165 0.481203 0.488722 0.518797 0.518797 0.488722 0.526316 0.533835 0.563910 0.571429 0.601504 0.609023 0.616541 0.646617 0.624060 0.593985 0.563910 0.526316 0.518797 0.511278 0.481203 0.466165 0.443609 0.406015 0.383459 0.338346 0.353383 0.345865 0.360902 0.390977 0.398496 0.398496 0.428571 0.481203 0.481203 0.533835 0.541353 0.526316 0.548872 0.518797 0.533835 0.556391 0.548872 0.609023 0.601504 0.639098 0.669173 0.601504 0.639098 0.676692 0.669173 0.676692 0.631579 0.616541 0.578947 0.526316 0.541353 0.518797 0.443609 0.481203 0.458647 0.466165 0.458647 0.406015 0.413534 0.398496 0.345865 0.375940 0.345865 0.308271 0.278196 0.240602 0.210526 0.203008 0.157895 0.172932 0.135338 0.127820 0.142857 0.142857 0.157895 0.172932 0.180451 0.233083 0.225564 0.248120 0.240602 0.240602 0.225564 0.218045 0.248120 0.270677 0.248120 0.308271 0.285714 0.338346 0.375940 0.345865 0.383459 0.413534 0.390977 0.466165 0.436090 0.428571 0.458647 0.436090 0.451128 0.443609 0.436090 0.473684 0.458647 0.451128 0.518797 0.481203 0.518797 0.533835 0.526316 0.571429 0.548872 0.503759 0.526316 0.458647 0.481203 0.421053 0.368421 0.383459 0.368421 0.345865 0.390977 0.368421 0.353383 0.368421 0.330827 0.345865 0.300752 0.278196 0.270677 0.278196 0.270677 0.293233 0.300752 0.308271 0.315789 0.338346 0.345865 0.360902 0.360902 0.375940 0.383459 0.406015 0.413534 0.398496 0.413534 0.428571 0.428571 0.466165 0.466165 0.473684 0.556391 0.541353 0.578947 0.563910 0.533835 0.578947 0.526316 0.518797 0.518797 0.481203 0.511278 0.518797 0.511278 0.556391 0.571429 0.571429 0.616541 0.593985 0.616541 0.639098 0.646617 0.699248 0.684211 0.706767 0.691729 0.676692 0.699248 0.721804 0.714286 0.781955 0.781955 0.796992 0.827068 0.796992 0.819549 0.827068 0.827068 0.857143 0.827068 0.827068 0.827068 0.812030 0.796992 0.781955 0.781955 0.834586 0.812030 0.804511 0.834586 0.834586 0.812030 0.827068 0.774436 0.781955 0.759399 0.721804 0.751880 0.744361 0.736842 0.729323 0.699248 0.721804 0.706767 0.714286 0.751880 0.736842 0.789474 0.827068 0.812030 0.842105 0.827068 0.842105 0.834586 0.804511 0.812030 0.759399 0.751880 0.774436 0.751880 0.736842 0.714286 0.676692 0.646617 0.601504 0.601504 0.616541 0.624060 0.639098 0.691729 0.751880 0.736842 0.781955 0.812030 0.834586 0.842105 0.872180 0.879699 0.842105 0.864662 0.879699 0.849624 0.894737 0.872180 0.894737 0.932331 0.969925 0.947368 0.992481 0.962406 1.000000 0.969925 0.932331 0.962406 0.947368 0.924812 0.909774 0.902256 0.909774 0.909774 0.864662 0.857143 0.842105 0.827068 0.857143 0.834586 0.789474 0.842105 0.819549 0.834586 0.834586 0.789474 0.827068 0.789474 0.766917 0.766917 0.729323 0.721804 0.774436 0.759399 0.766917 0.774436 0.789474 0.796992 0.804511 0.804511 0.819549 0.812030 0.812030 0.827068 0.804511 0.827068 0.842105 0.804511 0.796992 0.804511 0.774436 0.789474 0.789474 0.789474 0.774436 0.781955 0.774436 0.789474 0.781955 0.781955 0.781955 0.766917 0.804511 0.796992 0.789474 0.781955 0.774436 0.766917 0.729323 0.706767 0.706767 0.684211 0.646617 0.661654 0.646617 0.676692 0.676692 0.729323 0.699248 0.714286 0.759399 0.744361 0.744361 0.699248 0.684211 0.699248 0.699248 0.691729 0.714286 0.691729 0.669173 0.669173 0.639098 0.699248 0.691729 0.684211 0.706767 0.714286 0.736842 0.736842 0.721804 0.736842 0.729323 0.736842 0.744361 0.744361 0.781955 0.759399 0.766917 0.796992 0.774436 0.759399 0.751880 0.721804 0.751880 0.729323 0.729323 0.759399 0.706767 0.706767 0.684211 0.661654 0.646617 0.593985 0.586466 0.548872 0.541353 0.541353 0.563910 0.578947 0.578947 0.601504 0.571429 0.586466 0.556391 0.548872 0.541353 0.541353 0.541353 0.518797 0.533835 0.556391 0.533835 0.556391 0.586466 0.526316 0.571429 0.586466 0.563910 0.624060 0.593985 0.586466 0.593985 0.556391 0.578947 0.578947 0.578947 0.609023 0.616541 0.601504 0.639098 0.639098 0.654135 0.654135 0.616541 0.601504 0.586466 0.541353 0.526316 0.511278 0.458647 0.443609 0.428571 0.436090 0.428571 0.436090 0.436090 0.451128 0.488722 0.496241 0.496241 0.541353 0.541353 0.556391 0.571429 0.571429 0.518797 0.503759 0.503759 0.496241 0.481203 0.511278 0.496241 0.548872 0.541353 0.548872 0.563910 0.609023 0.586466 0.601504 0.556391 0.548872 0.609023 0.586466 0.609023 0.654135 0.616541 0.654135 0.639098 0.631579 0.654135 0.624060 0.601504 0.624060 0.593985 0.601504 0.616541 0.578947 0.616541 0.593985 0.571429 0.586466 0.563910 0.563910 0.586466 0.586466 0.578947 0.571429 0.571429 0.556391 0.563910 0.541353 0.511278 0.518797 0.503759 0.496241 0.503759 0.466165 0.503759 0.526316 0.518797 0.518797 0.533835 0.488722 0.533835 0.488722 0.488722 0.488722 0.488722 0.496241 0.488722 0.496241 0.533835 0.533835 0.563910 0.571429 0.541353 0.601504 0.609023 0.601504 0.609023 0.661654 0.624060 0.684211 0.729323 0.714286 0.721804 0.729323 0.729323 0.729323 0.729323 0.736842 0.736842 0.766917 0.729323 0.729323 0.759399 0.751880 0.744361 0.759399 0.714286 0.729323 0.729323 0.691729 0.684211 0.669173 0.601504 0.616541 0.571429 0.556391 0.533835 0.496241 0.496241 0.481203 0.488722 0.451128 0.458647 0.436090 0.443609 0.436090 0.451128 0.473684 0.466165 0.473684 0.496241 0.511278 0.518797 0.586466 0.586466 0.601504 0.616541 0.631579 0.639098 0.654135 0.646617 0.646617 0.639098 0.639098 0.631579 0.609023 0.631579 0.616541 0.601504 0.609023 0.616541 0.616541 0.616541 0.586466 0.586466 0.526316 0.518797 0.496241 0.496241 0.488722 0.481203 0.488722 0.496241 0.518797 0.533835 0.488722 0.526316 0.488722 0.481203 0.496241 0.443609 0.481203 0.518797 0.466165 0.518797 0.571429 0.571429 0.631579 0.646617 0.646617 0.684211 0.684211 0.714286 0.714286 0.706767 0.766917 0.774436 0.789474 0.827068 0.804511 0.812030 0.864662 0.849624 0.849624 0.902256 0.902256 0.917293 0.924812 0.894737 0.962406 0.947368 0.939850 0.932331 0.932331 0.932331 0.932331 0.932331 0.909774 0.894737 0.902256 0.879699 0.857143 0.879699 0.894737 0.872180 0.872180 0.857143 0.849624 0.864662 0.864662 0.812030 0.781955 0.759399 0.774436 0.729323 0.736842 0.736842 0.714286 0.699248 0.691729 0.669173 0.661654 0.654135 0.646617 0.593985 0.609023 0.609023 0.593985 0.609023 0.586466 0.548872 0.578947 0.578947 0.563910 0.586466 0.578947 0.578947 0.593985 0.586466 0.578947 0.571429 0.624060 0.624060 0.639098 0.676692 0.676692 0.684211 0.706767 0.714286 0.766917 0.781955 0.812030 0.834586 0.849624 0.842105 0.872180 0.872180 0.849624 0.842105 0.872180 0.879699 0.902256 0.924812 0.924812 0.917293 0.932331 0.894737 0.872180 0.902256 0.842105 0.834586 0.857143 0.804511 0.819549 0.872180 0.827068 0.894737 0.879699 0.842105 0.909774 0.917293 0.909774 0.924812 0.917293 0.902256 0.939850 0.909774 0.909774 0.954887 0.917293 0.954887 0.924812 0.887218 0.909774 0.857143 0.827068 0.827068 0.804511 0.774436 0.766917 0.751880 0.751880 0.721804 0.721804 0.729323 0.684211 0.714286 0.721804 0.706767 0.751880 0.766917 0.751880 0.774436 0.789474 0.781955 0.812030 0.729323 0.751880 0.751880 0.744361 0.759399 0.751880 0.744361 0.751880 0.751880 0.751880 0.721804 0.751880 0.729323 0.706767 0.706767 0.654135 0.624060 0.631579 0.571429 0.541353 0.541353 0.503759 0.518797 0.496241 0.503759 0.481203 0.458647 0.466165 0.443609 0.443609 0.451128 0.428571 0.443609 0.428571 0.428571 0.443609 0.451128 0.443609 0.436090 0.436090 0.458647 0.488722 0.473684 0.481203 0.511278 0.496241 0.488722 0.481203 0.458647 0.436090 0.473684 0.466165 0.503759 0.503759 0.503759 0.518797 0.526316 0.496241 0.473684 0.443609 0.421053 0.398496 0.360902 0.390977 0.368421 0.338346 0.338346 0.315789 0.315789 0.308271 0.270677 0.255639 0.218045 0.195489 0.203008 0.150376 0.142857 0.112782 0.105263 0.097744 0.060150 0.060150 0.037594 0.030075 0.037594 0.037594 0.000000 0.037594 0.052632 0.052632 0.067669 0.075188 0.112782 0.127820 0.105263 0.150376 0.135338 0.135338 0.150376 0.120301 0.127820 0.127820 0.082707 0.082707 0.112782 0.090226 0.120301 0.097744 0.105263 0.127820 0.127820 0.142857 0.127820 0.112782 0.120301 0.060150 0.082707 0.090226 0.052632 0.067669 0.105263 0.082707 0.112782 0.142857 0.142857 0.135338 0.150376 0.157895 0.172932 0.172932 0.187970 0.210526 0.195489 0.233083 0.233083 0.240602 0.278196 0.255639 0.278196 0.255639 0.270677 0.255639 0.270677 0.263158 0.293233 0.263158 0.300752 0.293233 0.270677 0.308271 0.248120 0.248120 0.255639 0.240602 0.240602 0.240602 0.203008 0.195489 0.187970 0.180451 0.180451 0.150376 0.135338 0.120301 0.127820 0.067669\"\n",
    "data = data.split(' ')\n",
    "for i in range(len(data)):\n",
    "    data[i]=float(data[i])\n",
    "\n",
    "print(len(data))"
   ]
  },
  {
   "cell_type": "code",
   "execution_count": 25,
   "id": "01e2758a",
   "metadata": {},
   "outputs": [
    {
     "name": "stderr",
     "output_type": "stream",
     "text": [
      "/home/sumanshu/MtechProject/sound_manipulation/env/lib/python3.12/site-packages/tensorflow/lite/python/interpreter.py:457: UserWarning:     Warning: tf.lite.Interpreter is deprecated and is scheduled for deletion in\n",
      "    TF 2.20. Please use the LiteRT interpreter from the ai_edge_litert package.\n",
      "    See the [migration guide](https://ai.google.dev/edge/litert/migration)\n",
      "    for details.\n",
      "    \n",
      "  warnings.warn(_INTERPRETER_DELETION_WARNING)\n"
     ]
    },
    {
     "name": "stdout",
     "output_type": "stream",
     "text": [
      "✅ Quantized model accuracy: 17.15%\n"
     ]
    }
   ],
   "source": [
    "import numpy as np\n",
    "import tensorflow as tf\n",
    "\n",
    "# === Step 1: Load test data ===\n",
    "# Replace with actual test dataset paths\n",
    "x_test = X_test  # shape: (N, 1024)\n",
    "y_test = y_test  # shape: (N, 6) for one-hot encoding\n",
    "\n",
    "# Ensure x_test and y_test have the same length\n",
    "assert len(x_test) == len(y_test), \"Mismatch between x_test and y_test lengths\"\n",
    "\n",
    "# === Step 2: Load the quantized model ===\n",
    "interpreter = tf.lite.Interpreter(model_path=\"model_int8.tflite\")\n",
    "interpreter.allocate_tensors()\n",
    "\n",
    "input_details = interpreter.get_input_details()\n",
    "output_details = interpreter.get_output_details()\n",
    "\n",
    "input_scale, input_zero_point = input_details[0]['quantization']\n",
    "output_scale, output_zero_point = output_details[0]['quantization']\n",
    "\n",
    "# === Step 3: Run inference and calculate accuracy ===\n",
    "correct = 0\n",
    "total = len(x_test)\n",
    "\n",
    "for i in range(total):\n",
    "    # Prepare input (normalize and quantize)\n",
    "    input_data = x_test[i].astype(np.float32)  # ensure float32\n",
    "    input_data = np.expand_dims(input_data, axis=0)  # shape: (1, 1024)\n",
    "    \n",
    "    # Quantize input data (to int8)\n",
    "    input_int8 = (input_data / input_scale + input_zero_point).astype(np.int8)\n",
    "\n",
    "    # Run inference\n",
    "    interpreter.set_tensor(input_details[0]['index'], input_int8)\n",
    "    interpreter.invoke()\n",
    "\n",
    "    # Get prediction (dequantized output not needed for argmax)\n",
    "    output = interpreter.get_tensor(output_details[0]['index'])  # shape: (1, num_classes)\n",
    "    \n",
    "    # Extract predicted label (class index)\n",
    "    pred_label = np.argmax(output[0])  # classification assumption\n",
    "\n",
    "    # Extract true label from one-hot encoded vector\n",
    "    true_label = np.argmax(y_test[i])  # Find index of 1 in one-hot encoding\n",
    "\n",
    "    # Compare with ground truth\n",
    "    if pred_label == true_label:\n",
    "        correct += 1\n",
    "\n",
    "accuracy = correct / total\n",
    "print(f\"✅ Quantized model accuracy: {accuracy * 100:.2f}%\")\n"
   ]
  },
  {
   "cell_type": "code",
   "execution_count": 9,
   "id": "518c0bfb",
   "metadata": {},
   "outputs": [
    {
     "name": "stdout",
     "output_type": "stream",
     "text": [
      "✅ Predicted class index: 5\n"
     ]
    }
   ],
   "source": [
    "import numpy as np\n",
    "import tensorflow as tf\n",
    "\n",
    "# === Step 1: Load the quantized TFLite model ===\n",
    "interpreter = tf.lite.Interpreter(model_path=\"model_int8.tflite\")\n",
    "interpreter.allocate_tensors()\n",
    "\n",
    "# Get model input and output details\n",
    "input_details = interpreter.get_input_details()\n",
    "output_details = interpreter.get_output_details()\n",
    "\n",
    "# input_scale, input_zero_point = input_details[0]['quantization']\n",
    "# output_scale, output_zero_point = output_details[0]['quantization']\n",
    "input_scale = 0.003922\n",
    "input_zero_point = -128\n",
    "output_scale = 0.003906\n",
    "output_zero_point = -128\n",
    "\n",
    "# === Step 2: Prepare your sample ===\n",
    "# Replace this with your actual 1024-point sample\n",
    "sample = np.array(data, dtype=np.float32)\n",
    "sample = np.expand_dims(sample, axis=0)  # shape: (1, 1024)\n",
    "\n",
    "# === Step 3: Quantize the input ===\n",
    "sample_quantized = (sample / input_scale + input_zero_point).astype(np.int8)\n",
    "\n",
    "# === Step 4: Run inference ===\n",
    "interpreter.set_tensor(input_details[0]['index'], sample_quantized)\n",
    "interpreter.invoke()\n",
    "\n",
    "# === Step 5: Get the output ===\n",
    "output = interpreter.get_tensor(output_details[0]['index'])  # shape: (1, num_classes)\n",
    "\n",
    "# === Step 6: Extract the predicted class ===\n",
    "predicted_class = np.argmax(output[0])\n",
    "print(f\"✅ Predicted class index: {predicted_class}\")\n"
   ]
  },
  {
   "cell_type": "code",
   "execution_count": 5,
   "id": "6869ef5d",
   "metadata": {},
   "outputs": [
    {
     "data": {
      "text/plain": [
       "0.00390625"
      ]
     },
     "execution_count": 5,
     "metadata": {},
     "output_type": "execute_result"
    }
   ],
   "source": [
    "output_scale"
   ]
  },
  {
   "cell_type": "code",
   "execution_count": 6,
   "id": "e60cc733",
   "metadata": {},
   "outputs": [
    {
     "data": {
      "text/plain": [
       "-128"
      ]
     },
     "execution_count": 6,
     "metadata": {},
     "output_type": "execute_result"
    }
   ],
   "source": [
    "output_zero_point"
   ]
  },
  {
   "cell_type": "code",
   "execution_count": 8,
   "id": "29ee8f19",
   "metadata": {},
   "outputs": [
    {
     "name": "stdout",
     "output_type": "stream",
     "text": [
      "Collecting seaborn\n",
      "  Using cached seaborn-0.13.2-py3-none-any.whl.metadata (5.4 kB)\n",
      "Requirement already satisfied: numpy!=1.24.0,>=1.20 in ./env/lib/python3.12/site-packages (from seaborn) (2.1.3)\n",
      "Requirement already satisfied: pandas>=1.2 in ./env/lib/python3.12/site-packages (from seaborn) (2.2.3)\n",
      "Requirement already satisfied: matplotlib!=3.6.1,>=3.4 in ./env/lib/python3.12/site-packages (from seaborn) (3.10.1)\n",
      "Requirement already satisfied: contourpy>=1.0.1 in ./env/lib/python3.12/site-packages (from matplotlib!=3.6.1,>=3.4->seaborn) (1.3.2)\n",
      "Requirement already satisfied: cycler>=0.10 in ./env/lib/python3.12/site-packages (from matplotlib!=3.6.1,>=3.4->seaborn) (0.12.1)\n",
      "Requirement already satisfied: fonttools>=4.22.0 in ./env/lib/python3.12/site-packages (from matplotlib!=3.6.1,>=3.4->seaborn) (4.57.0)\n",
      "Requirement already satisfied: kiwisolver>=1.3.1 in ./env/lib/python3.12/site-packages (from matplotlib!=3.6.1,>=3.4->seaborn) (1.4.8)\n",
      "Requirement already satisfied: packaging>=20.0 in ./env/lib/python3.12/site-packages (from matplotlib!=3.6.1,>=3.4->seaborn) (25.0)\n",
      "Requirement already satisfied: pillow>=8 in ./env/lib/python3.12/site-packages (from matplotlib!=3.6.1,>=3.4->seaborn) (11.2.1)\n",
      "Requirement already satisfied: pyparsing>=2.3.1 in ./env/lib/python3.12/site-packages (from matplotlib!=3.6.1,>=3.4->seaborn) (3.2.3)\n",
      "Requirement already satisfied: python-dateutil>=2.7 in ./env/lib/python3.12/site-packages (from matplotlib!=3.6.1,>=3.4->seaborn) (2.9.0.post0)\n",
      "Requirement already satisfied: pytz>=2020.1 in ./env/lib/python3.12/site-packages (from pandas>=1.2->seaborn) (2025.2)\n",
      "Requirement already satisfied: tzdata>=2022.7 in ./env/lib/python3.12/site-packages (from pandas>=1.2->seaborn) (2025.2)\n",
      "Requirement already satisfied: six>=1.5 in ./env/lib/python3.12/site-packages (from python-dateutil>=2.7->matplotlib!=3.6.1,>=3.4->seaborn) (1.17.0)\n",
      "Using cached seaborn-0.13.2-py3-none-any.whl (294 kB)\n",
      "Installing collected packages: seaborn\n",
      "Successfully installed seaborn-0.13.2\n",
      "Note: you may need to restart the kernel to use updated packages.\n"
     ]
    }
   ],
   "source": [
    "pip install seaborn"
   ]
  },
  {
   "cell_type": "code",
   "execution_count": 11,
   "id": "b7bdc251",
   "metadata": {},
   "outputs": [
    {
     "data": {
      "image/png": "[encoded data removed]",
      "text/plain": [
       "<Figure size 800x600 with 2 Axes>"
      ]
     },
     "metadata": {},
     "output_type": "display_data"
    }
   ],
   "source": [
    "from sklearn.metrics import confusion_matrix\n",
    "import matplotlib.pyplot as plt\n",
    "import seaborn as sns\n",
    "\n",
    "class_names = ['ALARM','BELL','CRYING_BABY','NOISE','RAIN','ROOSTER']\n",
    "\n",
    "# Compute confusion matrix\n",
    "y_pred = np.array([np.argmax(interpreter.get_tensor(output_details[0]['index'])[0]) for x in x_test])\n",
    "y_true = np.array([np.argmax(label) for label in y_test])\n",
    "\n",
    "cm = confusion_matrix(y_true, y_pred)\n",
    "\n",
    "# Visualize the confusion matrix\n",
    "plt.figure(figsize=(8, 6))\n",
    "sns.heatmap(cm, annot=True, fmt=\"d\", cmap=\"Blues\", xticklabels=class_names, yticklabels=class_names)\n",
    "plt.xlabel('Predicted')\n",
    "plt.ylabel('True')\n",
    "plt.title('Confusion Matrix')\n",
    "plt.show()\n"
   ]
  },
  {
   "cell_type": "code",
   "execution_count": 12,
   "id": "336218c8",
   "metadata": {},
   "outputs": [
    {
     "data": {
      "image/png": "[encoded data removed]",
      "text/plain": [
       "<Figure size 800x600 with 2 Axes>"
      ]
     },
     "metadata": {},
     "output_type": "display_data"
    }
   ],
   "source": [
    "import numpy as np\n",
    "import matplotlib.pyplot as plt\n",
    "import seaborn as sns\n",
    "from sklearn.metrics import confusion_matrix\n",
    "\n",
    "# Define the class names based on your dataset\n",
    "class_names = ['ALARM', 'BELL', 'CRYING_BABY', 'NOISE', 'RAIN', 'ROOSTER']\n",
    "\n",
    "# Assuming y_true and y_pred are already defined\n",
    "# y_true: true labels (one-hot encoded converted to indices)\n",
    "# y_pred: predicted labels from the model\n",
    "\n",
    "# Compute confusion matrix\n",
    "cm = confusion_matrix(y_true, y_pred)\n",
    "\n",
    "# Define the index for the \"NOISE\" class\n",
    "noise_class_index = class_names.index('NOISE')\n",
    "\n",
    "# Visualize the confusion matrix\n",
    "plt.figure(figsize=(8, 6))\n",
    "sns.heatmap(cm, annot=True, fmt=\"d\", cmap=\"Blues\", xticklabels=class_names, yticklabels=class_names)\n",
    "\n",
    "# Highlight the \"NOISE\" row and column with a red color border\n",
    "plt.gca().add_patch(plt.Rectangle((noise_class_index-0.5, noise_class_index-0.5), 1, 1, fill=False, color=\"red\", lw=2))\n",
    "\n",
    "# Add labels and title\n",
    "plt.xlabel('Predicted')\n",
    "plt.ylabel('True')\n",
    "plt.title('Confusion Matrix')\n",
    "\n",
    "# Show the plot\n",
    "plt.show()\n"
   ]
  },
  {
   "cell_type": "code",
   "execution_count": null,
   "id": "4afd3b7a",
   "metadata": {},
   "outputs": [],
   "source": [
    "import numpy as np\n",
    "\n",
    "# Define class names\n",
    "class_names = ['ALARM', 'BELL', 'CRYING_BABY', 'NOISE', 'RAIN', 'ROOSTER']\n",
    "\n",
    "# Sample true labels and predictions (indices of the class names)\n",
    "y_true = np.array([0, 1, 3, 4, 5, 3, 2, 4, 0, 3])  # Example true labels (e.g., 3 corresponds to 'NOISE')\n",
    "y_pred = np.array([3, 3, 3, 3, 3, 3, 3, 3, 3, 3])  # Example predictions, all misclassified as 'NOISE'\n",
    "\n",
    "# Define similar classes that you want to label as \"NOISE\" when predicted\n",
    "similar_classes = [4, 5]  # For example, 'RAIN' (4) and 'ROOSTER' (5)\n",
    "\n",
    "# Replace predictions of similar classes with \"NOISE\" (i.e., the index for 'NOISE' which is 3)\n",
    "for i in range(len(y_pred)):\n",
    "    if y_pred[i] in similar_classes:  # If the predicted class is 'RAIN' or 'ROOSTER'\n",
    "        y_pred[i] = 3  # Set the prediction to \"NOISE\" (which is index 3)\n",
    "\n",
    "# Now y_pred will have the predictions of 'RAIN' and 'ROOSTER' replaced by 'NOISE'\n",
    "print(\"Updated predictions:\", y_pred)\n",
    "\n",
    "# Optionally, you could print a classification report or confusion matrix after the labeling\n",
    "from sklearn.metrics import classification_report\n",
    "print(classification_report(y_true, y_pred, target_names=class_names))\n"
   ]
  },
  {
   "cell_type": "code",
   "execution_count": 5,
   "id": "e7b7c32c",
   "metadata": {},
   "outputs": [
    {
     "data": {
      "text/plain": [
       "array([0., 0., 0., 1., 0., 0.])"
      ]
     },
     "execution_count": 5,
     "metadata": {},
     "output_type": "execute_result"
    }
   ],
   "source": [
    "y_test[0]"
   ]
  },
  {
   "cell_type": "code",
   "execution_count": 31,
   "id": "72024376",
   "metadata": {},
   "outputs": [
    {
     "data": {
      "text/plain": [
       "(32141, 1024)"
      ]
     },
     "execution_count": 31,
     "metadata": {},
     "output_type": "execute_result"
    }
   ],
   "source": [
    "X_test.shape"
   ]
  },
  {
   "cell_type": "code",
   "execution_count": 32,
   "id": "e956b608",
   "metadata": {},
   "outputs": [
    {
     "data": {
      "text/plain": [
       "'BELL'"
      ]
     },
     "execution_count": 32,
     "metadata": {},
     "output_type": "execute_result"
    }
   ],
   "source": [
    "y_test"
   ]
  },
  {
   "cell_type": "code",
   "execution_count": 27,
   "id": "4355ba4e",
   "metadata": {},
   "outputs": [
    {
     "name": "stdout",
     "output_type": "stream",
     "text": [
      "2\n"
     ]
    }
   ],
   "source": [
    "print(pred_label)"
   ]
  },
  {
   "cell_type": "code",
   "execution_count": 27,
   "id": "82633ad1",
   "metadata": {},
   "outputs": [
    {
     "name": "stdout",
     "output_type": "stream",
     "text": [
      "INFO:tensorflow:Assets written to: /tmp/tmpjb4x6cqa/assets\n"
     ]
    },
    {
     "name": "stderr",
     "output_type": "stream",
     "text": [
      "INFO:tensorflow:Assets written to: /tmp/tmpjb4x6cqa/assets\n"
     ]
    },
    {
     "name": "stdout",
     "output_type": "stream",
     "text": [
      "Saved artifact at '/tmp/tmpjb4x6cqa'. The following endpoints are available:\n",
      "\n",
      "* Endpoint 'serve'\n",
      "  args_0 (POSITIONAL_ONLY): TensorSpec(shape=(None, 1024), dtype=tf.float32, name='keras_tensor_72')\n",
      "Output Type:\n",
      "  TensorSpec(shape=(None, 6), dtype=tf.float32, name=None)\n",
      "Captures:\n",
      "  124548992855184: TensorSpec(shape=(), dtype=tf.resource, name=None)\n",
      "  124548992852112: TensorSpec(shape=(), dtype=tf.resource, name=None)\n",
      "  124548992856144: TensorSpec(shape=(), dtype=tf.resource, name=None)\n",
      "  124548992854992: TensorSpec(shape=(), dtype=tf.resource, name=None)\n",
      "  124548992854608: TensorSpec(shape=(), dtype=tf.resource, name=None)\n",
      "  124548992854032: TensorSpec(shape=(), dtype=tf.resource, name=None)\n",
      "  124548992854800: TensorSpec(shape=(), dtype=tf.resource, name=None)\n",
      "  124548992852496: TensorSpec(shape=(), dtype=tf.resource, name=None)\n",
      "  124548991884112: TensorSpec(shape=(), dtype=tf.resource, name=None)\n",
      "  124548991887760: TensorSpec(shape=(), dtype=tf.resource, name=None)\n"
     ]
    },
    {
     "name": "stderr",
     "output_type": "stream",
     "text": [
      "WARNING: All log messages before absl::InitializeLog() is called are written to STDERR\n",
      "W0000 00:00:1746671095.834976   71083 tf_tfl_flatbuffer_helpers.cc:365] Ignored output_format.\n",
      "W0000 00:00:1746671095.836074   71083 tf_tfl_flatbuffer_helpers.cc:368] Ignored drop_control_dependency.\n",
      "2025-05-08 07:54:55.838377: I tensorflow/cc/saved_model/reader.cc:83] Reading SavedModel from: /tmp/tmpjb4x6cqa\n",
      "2025-05-08 07:54:55.839695: I tensorflow/cc/saved_model/reader.cc:52] Reading meta graph with tags { serve }\n",
      "2025-05-08 07:54:55.839730: I tensorflow/cc/saved_model/reader.cc:147] Reading SavedModel debug info (if present) from: /tmp/tmpjb4x6cqa\n",
      "I0000 00:00:1746671095.849687   71083 mlir_graph_optimization_pass.cc:425] MLIR V1 optimization pass is not enabled\n",
      "2025-05-08 07:54:55.851823: I tensorflow/cc/saved_model/loader.cc:236] Restoring SavedModel bundle.\n",
      "2025-05-08 07:54:55.893252: I tensorflow/cc/saved_model/loader.cc:220] Running initialization op on SavedModel bundle at path: /tmp/tmpjb4x6cqa\n",
      "2025-05-08 07:54:55.905719: I tensorflow/cc/saved_model/loader.cc:471] SavedModel load for tags { serve }; Status: success: OK. Took 67337 microseconds.\n",
      "2025-05-08 07:54:55.966886: I tensorflow/compiler/mlir/tensorflow/utils/dump_mlir_util.cc:269] disabling MLIR crash reproducer, set env var `MLIR_CRASH_REPRODUCER_DIRECTORY` to enable.\n"
     ]
    }
   ],
   "source": [
    "# converting the model to tflite\n",
    "import tensorflow as tf\n",
    "\n",
    "converter = tf.lite.TFLiteConverter.from_keras_model(model)\n",
    "converter.optimizations = [tf.lite.Optimize.DEFAULT]\n",
    "tflite_model = converter.convert()\n",
    "\n",
    "# saving the converted model\n",
    "with open('model.tflite', 'wb') as f:\n",
    "    f.write(tflite_model)"
   ]
  },
  {
   "cell_type": "code",
   "execution_count": 24,
   "id": "52078360",
   "metadata": {},
   "outputs": [
    {
     "name": "stderr",
     "output_type": "stream",
     "text": [
      "/home/sumanshu/MtechProject/sound_manipulation/env/lib/python3.12/site-packages/tensorflow/lite/python/interpreter.py:457: UserWarning:     Warning: tf.lite.Interpreter is deprecated and is scheduled for deletion in\n",
      "    TF 2.20. Please use the LiteRT interpreter from the ai_edge_litert package.\n",
      "    See the [migration guide](https://ai.google.dev/edge/litert/migration)\n",
      "    for details.\n",
      "    \n",
      "  warnings.warn(_INTERPRETER_DELETION_WARNING)\n",
      "INFO: Created TensorFlow Lite XNNPACK delegate for CPU.\n"
     ]
    },
    {
     "ename": "ValueError",
     "evalue": "Classification metrics can't handle a mix of multilabel-indicator and multiclass targets",
     "output_type": "error",
     "traceback": [
      "\u001b[31m---------------------------------------------------------------------------\u001b[39m",
      "\u001b[31mValueError\u001b[39m                                Traceback (most recent call last)",
      "\u001b[36mCell\u001b[39m\u001b[36m \u001b[39m\u001b[32mIn[24]\u001b[39m\u001b[32m, line 32\u001b[39m\n\u001b[32m     30\u001b[39m \u001b[38;5;66;03m# Convert to numpy and compute accuracy\u001b[39;00m\n\u001b[32m     31\u001b[39m y_pred = np.array(y_pred)\n\u001b[32m---> \u001b[39m\u001b[32m32\u001b[39m accuracy = \u001b[43maccuracy_score\u001b[49m\u001b[43m(\u001b[49m\u001b[43my_test\u001b[49m\u001b[43m,\u001b[49m\u001b[43m \u001b[49m\u001b[43my_pred\u001b[49m\u001b[43m)\u001b[49m\n\u001b[32m     34\u001b[39m \u001b[38;5;28mprint\u001b[39m(\u001b[33mf\u001b[39m\u001b[33m\"\u001b[39m\u001b[33m✅ TFLite Model Accuracy: \u001b[39m\u001b[38;5;132;01m{\u001b[39;00maccuracy\u001b[38;5;132;01m:\u001b[39;00m\u001b[33m.2f\u001b[39m\u001b[38;5;132;01m}\u001b[39;00m\u001b[33m\"\u001b[39m)\n",
      "\u001b[36mFile \u001b[39m\u001b[32m~/MtechProject/sound_manipulation/env/lib/python3.12/site-packages/sklearn/utils/_param_validation.py:216\u001b[39m, in \u001b[36mvalidate_params.<locals>.decorator.<locals>.wrapper\u001b[39m\u001b[34m(*args, **kwargs)\u001b[39m\n\u001b[32m    210\u001b[39m \u001b[38;5;28;01mtry\u001b[39;00m:\n\u001b[32m    211\u001b[39m     \u001b[38;5;28;01mwith\u001b[39;00m config_context(\n\u001b[32m    212\u001b[39m         skip_parameter_validation=(\n\u001b[32m    213\u001b[39m             prefer_skip_nested_validation \u001b[38;5;129;01mor\u001b[39;00m global_skip_validation\n\u001b[32m    214\u001b[39m         )\n\u001b[32m    215\u001b[39m     ):\n\u001b[32m--> \u001b[39m\u001b[32m216\u001b[39m         \u001b[38;5;28;01mreturn\u001b[39;00m \u001b[43mfunc\u001b[49m\u001b[43m(\u001b[49m\u001b[43m*\u001b[49m\u001b[43margs\u001b[49m\u001b[43m,\u001b[49m\u001b[43m \u001b[49m\u001b[43m*\u001b[49m\u001b[43m*\u001b[49m\u001b[43mkwargs\u001b[49m\u001b[43m)\u001b[49m\n\u001b[32m    217\u001b[39m \u001b[38;5;28;01mexcept\u001b[39;00m InvalidParameterError \u001b[38;5;28;01mas\u001b[39;00m e:\n\u001b[32m    218\u001b[39m     \u001b[38;5;66;03m# When the function is just a wrapper around an estimator, we allow\u001b[39;00m\n\u001b[32m    219\u001b[39m     \u001b[38;5;66;03m# the function to delegate validation to the estimator, but we replace\u001b[39;00m\n\u001b[32m    220\u001b[39m     \u001b[38;5;66;03m# the name of the estimator by the name of the function in the error\u001b[39;00m\n\u001b[32m    221\u001b[39m     \u001b[38;5;66;03m# message to avoid confusion.\u001b[39;00m\n\u001b[32m    222\u001b[39m     msg = re.sub(\n\u001b[32m    223\u001b[39m         \u001b[33mr\u001b[39m\u001b[33m\"\u001b[39m\u001b[33mparameter of \u001b[39m\u001b[33m\\\u001b[39m\u001b[33mw+ must be\u001b[39m\u001b[33m\"\u001b[39m,\n\u001b[32m    224\u001b[39m         \u001b[33mf\u001b[39m\u001b[33m\"\u001b[39m\u001b[33mparameter of \u001b[39m\u001b[38;5;132;01m{\u001b[39;00mfunc.\u001b[34m__qualname__\u001b[39m\u001b[38;5;132;01m}\u001b[39;00m\u001b[33m must be\u001b[39m\u001b[33m\"\u001b[39m,\n\u001b[32m    225\u001b[39m         \u001b[38;5;28mstr\u001b[39m(e),\n\u001b[32m    226\u001b[39m     )\n",
      "\u001b[36mFile \u001b[39m\u001b[32m~/MtechProject/sound_manipulation/env/lib/python3.12/site-packages/sklearn/metrics/_classification.py:227\u001b[39m, in \u001b[36maccuracy_score\u001b[39m\u001b[34m(y_true, y_pred, normalize, sample_weight)\u001b[39m\n\u001b[32m    225\u001b[39m \u001b[38;5;66;03m# Compute accuracy for each possible representation\u001b[39;00m\n\u001b[32m    226\u001b[39m y_true, y_pred = attach_unique(y_true, y_pred)\n\u001b[32m--> \u001b[39m\u001b[32m227\u001b[39m y_type, y_true, y_pred = \u001b[43m_check_targets\u001b[49m\u001b[43m(\u001b[49m\u001b[43my_true\u001b[49m\u001b[43m,\u001b[49m\u001b[43m \u001b[49m\u001b[43my_pred\u001b[49m\u001b[43m)\u001b[49m\n\u001b[32m    228\u001b[39m check_consistent_length(y_true, y_pred, sample_weight)\n\u001b[32m    230\u001b[39m \u001b[38;5;28;01mif\u001b[39;00m y_type.startswith(\u001b[33m\"\u001b[39m\u001b[33mmultilabel\u001b[39m\u001b[33m\"\u001b[39m):\n",
      "\u001b[36mFile \u001b[39m\u001b[32m~/MtechProject/sound_manipulation/env/lib/python3.12/site-packages/sklearn/metrics/_classification.py:107\u001b[39m, in \u001b[36m_check_targets\u001b[39m\u001b[34m(y_true, y_pred)\u001b[39m\n\u001b[32m    104\u001b[39m     y_type = {\u001b[33m\"\u001b[39m\u001b[33mmulticlass\u001b[39m\u001b[33m\"\u001b[39m}\n\u001b[32m    106\u001b[39m \u001b[38;5;28;01mif\u001b[39;00m \u001b[38;5;28mlen\u001b[39m(y_type) > \u001b[32m1\u001b[39m:\n\u001b[32m--> \u001b[39m\u001b[32m107\u001b[39m     \u001b[38;5;28;01mraise\u001b[39;00m \u001b[38;5;167;01mValueError\u001b[39;00m(\n\u001b[32m    108\u001b[39m         \u001b[33m\"\u001b[39m\u001b[33mClassification metrics can\u001b[39m\u001b[33m'\u001b[39m\u001b[33mt handle a mix of \u001b[39m\u001b[38;5;132;01m{0}\u001b[39;00m\u001b[33m and \u001b[39m\u001b[38;5;132;01m{1}\u001b[39;00m\u001b[33m targets\u001b[39m\u001b[33m\"\u001b[39m.format(\n\u001b[32m    109\u001b[39m             type_true, type_pred\n\u001b[32m    110\u001b[39m         )\n\u001b[32m    111\u001b[39m     )\n\u001b[32m    113\u001b[39m \u001b[38;5;66;03m# We can't have more than one value on y_type => The set is no more needed\u001b[39;00m\n\u001b[32m    114\u001b[39m y_type = y_type.pop()\n",
      "\u001b[31mValueError\u001b[39m: Classification metrics can't handle a mix of multilabel-indicator and multiclass targets"
     ]
    }
   ],
   "source": [
    "# quantized model accuracy\n",
    "import numpy as np\n",
    "import tensorflow as tf\n",
    "from sklearn.metrics import accuracy_score\n",
    "\n",
    "# Load TFLite model and allocate tensors\n",
    "interpreter = tf.lite.Interpreter(model_path=\"model.tflite\")\n",
    "interpreter.allocate_tensors()\n",
    "\n",
    "# Get input and output details\n",
    "input_details = interpreter.get_input_details()\n",
    "output_details = interpreter.get_output_details()\n",
    "\n",
    "# Prepare test data and labels\n",
    "# X_test: shape (num_samples, height, width, channels)\n",
    "# y_true: true class labels (not one-hot), shape (num_samples,)\n",
    "# If using one-hot, convert to labels: y_true = np.argmax(y_true_onehot, axis=1)\n",
    "\n",
    "y_pred = []\n",
    "\n",
    "for x in X_test:  # loop over test samples\n",
    "    x_input = np.expand_dims(x, axis=0).astype(np.float32)  # Make batch of 1 and cast to int8\n",
    "\n",
    "    interpreter.set_tensor(input_details[0]['index'], x_input)\n",
    "    interpreter.invoke()\n",
    "    output = interpreter.get_tensor(output_details[0]['index'])\n",
    "\n",
    "    y_pred.append(np.argmax(output))\n",
    "\n",
    "# Convert to numpy and compute accuracy\n",
    "y_pred = np.array(y_pred)\n",
    "accuracy = accuracy_score(y_test, y_pred)\n",
    "\n",
    "print(f\"✅ TFLite Model Accuracy: {accuracy:.2f}\")\n"
   ]
  },
  {
   "cell_type": "code",
   "execution_count": 19,
   "id": "7a1a19b1",
   "metadata": {},
   "outputs": [],
   "source": [
    "test_data_point = X_scaled[2000]"
   ]
  },
  {
   "cell_type": "code",
   "execution_count": 20,
   "id": "e161b8ed",
   "metadata": {},
   "outputs": [
    {
     "name": "stdout",
     "output_type": "stream",
     "text": [
      "[0.5006788866259334, 0.5139784946236559, 0.5236285525446134, 0.49218120264388193, 0.4857048964837332, 0.5084855341845805, 0.5229513247073321, 0.5346336968207649, 0.5442997777072086, 0.553238015138772, 0.5599740301899042, 0.5311572700296736, 0.5593062867760916, 0.5378178835110746, 0.5043067049484884, 0.45493197278911557, 0.4630006788866259, 0.46917562724014333, 0.48727693324520815, 0.4646138965016927, 0.4636871508379889, 0.4855341845805721, 0.5066235366605053, 0.5278759023191523, 0.5336614798348682, 0.5406223717409587, 0.5421197857490667, 0.5220806423459592, 0.5557448126354909, 0.5296144380639869, 0.4980577605134268, 0.46088435374149656, 0.4747114731839782, 0.4758064516129032, 0.49124256444150693, 0.4736417862324681, 0.477817942819586, 0.5026668821722967, 0.5175600739371534, 0.5220396252495777, 0.5122261035249285, 0.4980656013456686, 0.49456257101119944, 0.46762087624367255, 0.5205946113347786, 0.5153404429860541, 0.5000844451950684, 0.47925170068027206, 0.5125594025797691, 0.5222222222222221, 0.5214805023132849, 0.4878284700951152, 0.4807755504436412, 0.5007273315015355, 0.5192544670363525, 0.52572569497773, 0.5152429342648459, 0.5086627417998317, 0.5034896932316182, 0.4650026182579857, 0.501858160421183, 0.48974569319114025, 0.4815065022800203, 0.4649659863945578, 0.5039035980991173, 0.5310035842293906, 0.5424653007270324, 0.5199097211026922, 0.5195530726256984, 0.5380636819136899, 0.5542205791743685, 0.5593610812471204, 0.549063194664973, 0.535407905803196, 0.5203700697938646, 0.4911851981148543, 0.5373180551254259, 0.5296144380639869, 0.5149467995271069, 0.4914965986394557, 0.5147657841140529, 0.5093189964157706, 0.5094183740912095, 0.4865387715621473, 0.49211304633585284, 0.524486827218361, 0.5483672211953173, 0.5615112885885425, 0.5509685614480787, 0.536080740117746, 0.5265378996916085, 0.48612323267585966, 0.5199752245277176, 0.5130434782608695, 0.5046444857287621, 0.48044217687074825, 0.5015274949083502, 0.5086021505376344, 0.5120621282220753, 0.47509269708205704, 0.465494577719356, 0.489898173589785, 0.511090573012939, 0.5278759023191523, 0.5335026992696094, 0.5343986543313708, 0.5325434182762538, 0.5016582300576017, 0.5277175596159802, 0.5000820344544709, 0.47525755784495866, 0.4702922077922078, 0.46571622539035973, 0.47311827956989244, 0.49355584930601454, 0.4805739158471707, 0.4855405849490635, 0.5180216583158235, 0.5437461491065928, 0.5521425280294886, 0.5360431883137504, 0.5179142136248949, 0.5088459665638695, 0.48978879385582125, 0.5456797770207494, 0.5456931911402789, 0.5358892079040702, 0.5238636363636364, 0.5022063815342838, 0.48100358422939066, 0.46662260409781886, 0.4251168789295502, 0.42836017088399614, 0.4706642961047357, 0.511090573012939, 0.5367839041621871, 0.5430295331851381, 0.5409587888982338, 0.5356273332251258, 0.5046255891080468, 0.5371632084236606, 0.5097621000820345, 0.47863536564769465, 0.474025974025974, 0.47844534962661234, 0.49569892473118277, 0.5110707204230006, 0.4883121070449782, 0.488333881038449, 0.5070308711815096, 0.5158656808379545, 0.5180463830440794, 0.503334391870435, 0.5000841042893187, 0.5111183249472488, 0.5009600279280851, 0.5486218643542893, 0.5414273995077933, 0.5298091538591454, 0.5185064935064935, 0.5027155465037338, 0.5025089605734767, 0.5166886979510905, 0.5049169756569402, 0.5192244495563589, 0.5480846937126231, 0.5603820086260013, 0.5526032867455076, 0.5277865989202921, 0.4994112699747687, 0.435206122803966, 0.4313143655088148, 0.49458036543821615, 0.5064807219031993, 0.4958226221079691, 0.5461038961038961, 0.5592328581126951, 0.5654121863799283, 0.5575016523463318, 0.5218442689021441, 0.5085441998028262, 0.5207693550994019, 0.5429759704251387, 0.5555214252802949, 0.5442997777072086, 0.5305298570227082, 0.4738215341798574, 0.46046430441612846, 0.48900588417466706, 0.4589007383100902, 0.41789845758354754, 0.4487012987012987, 0.465376782077393, 0.5008960573476702, 0.536186384666226, 0.5245848782847009, 0.5182385803483405, 0.5298205915629546, 0.4916342741254014, 0.5318691445246506, 0.5138139091775167, 0.5128679562657695, 0.47747434336406336, 0.4761738523302496, 0.5125425828429855, 0.49187858900738307, 0.44553341902313626, 0.45584415584415583, 0.4582484725050916, 0.4883512544802867, 0.5047918043621943, 0.4813799774302756, 0.4916201117318436, 0.5235170518829804, 0.49856346121345274, 0.5373982491168792, 0.5209590346141633, 0.49621530698065597, 0.4400765350495739, 0.4580205969628207, 0.5212139981418396, 0.5253486464315011, 0.49807197943444725, 0.5272727272727272, 0.5241004752206381, 0.5023297491039427, 0.4614443084455324, 0.45719812993712716, 0.43526125534012494, 0.4693712623242282, 0.4667906033462903, 0.5380125940715712, 0.5404890441409971, 0.5327165685449957, 0.4828665854931293, 0.46692267411415606, 0.4886961907711366, 0.4776045939294503, 0.4497107969151671, 0.48457792207792205, 0.5140868974881194, 0.5451612903225806, 0.5303374715859415, 0.5145897146541996, 0.5001643115346698, 0.5078390172943268, 0.45191820179144837, 0.4953156197204731, 0.4992060971737059, 0.5091673675357442, 0.4821708123151853, 0.5002618257985687, 0.5430473830907402, 0.5260049220672682, 0.47183327906219474, 0.4954545454545455, 0.48642226748133055, 0.4912186379928315, 0.48050358454275216, 0.5013703046912783, 0.5172527111403221, 0.5500242443833845, 0.5205340544194693, 0.5638150821686377, 0.5382661162273737, 0.5052985702270816, 0.4534701687249957, 0.4454529586315238, 0.4869928770517188, 0.4813781788351107, 0.44643438619342235, 0.4896103896103896, 0.49983027834351657, 0.5127240143369175, 0.4925686308795243, 0.4826696759632435, 0.4707525468287874, 0.49054469048003874, 0.462396484705087, 0.5214252802948857, 0.521117815179422, 0.52026913372582, 0.4781168265039233, 0.47512654913597485, 0.501858160421183, 0.4725184577522559, 0.41354607619667866, 0.44951298701298703, 0.4687712152070604, 0.48853046594982075, 0.47403392201433814, 0.4883121070449782, 0.4889911271771279, 0.5007273315015355, 0.45986141625823895, 0.5080632775303333, 0.49904731660844714, 0.4987384356602186, 0.4648648648648649, 0.47407924594170014, 0.5226076184577269, 0.5077932731747333, 0.4498534679257571, 0.4702922077922078, 0.4645281737949762, 0.4818996415770609, 0.4899457947193565, 0.5058842495566661, 0.5101873151495235, 0.5356392435752384, 0.5009295250971776, 0.5364767316848411, 0.5122261035249285, 0.4958788898233809, 0.4442894507410637, 0.4468493628905568, 0.5009290802105915, 0.4984413453650533, 0.45522631064799746, 0.49724025974025976, 0.5100135777325187, 0.5161290322580645, 0.4859241126070991, 0.4834757375463485, 0.46943805455142956, 0.4874737352513334, 0.4664525942200439, 0.5377054215942252, 0.547316608447126, 0.5465096719932716, 0.5044463818657368, 0.4967708151509862, 0.5148652833694642, 0.4863002461033634, 0.4321068056007815, 0.4642857142857143, 0.47403258655804476, 0.49480286738351253, 0.49029550620737883, 0.4931484765436079, 0.4804469273743017, 0.4900598028123484, 0.44769308771336824, 0.4966978958685302, 0.4950778024769768, 0.5009251471825062, 0.4768962510897995, 0.5070692965613546, 0.5645710746361102, 0.5599671862182116, 0.5034190817323347, 0.5238632699129313, 0.5086558044806517, 0.5008960573476702, 0.469312816926036, 0.46832177978397543, 0.46023660860992444, 0.4816550832390496, 0.4610444482001014, 0.5278759023191523, 0.5263575738329629, 0.5310344827586206, 0.48979947689625114, 0.48158491883400245, 0.5113038092288634, 0.4995898277276456, 0.45522631064799746, 0.48693969687197675, 0.4915139171758316, 0.5265232974910394, 0.5123273299527888, 0.49056907947767203, 0.4687808084127506, 0.4756748020042023, 0.42453946256548925, 0.48241437567193984, 0.4850746268656716, 0.4825904121110176, 0.4631211857018309, 0.5513307984790875, 0.5323629606689377, 0.511402789171452, 0.45262129599479, 0.48726217349242174, 0.4821792260692464, 0.4901433691756272, 0.48085329603077454, 0.491052716427535, 0.48931975024646734, 0.5088087926297074, 0.47659286800743617, 0.5241898325909999, 0.5088917116544935, 0.5036164844407064, 0.4687009590235397, 0.5403802281368821, 0.5207494580365438, 0.5118949958982772, 0.4539238033213937, 0.48258626249596903, 0.47539035980991173, 0.48100358422939066, 0.4652911348137786, 0.4781557310978558, 0.4863621426224122, 0.5146274446419912, 0.4948453608247423, 0.5572948328267477, 0.5447761194029851, 0.5372582001682085, 0.4908456843940715, 0.5466159695817491, 0.5100650356147414, 0.48744872846595566, 0.43682839465972, 0.4785553047404063, 0.5013577732518669, 0.5232974910394265, 0.5028851197761846, 0.4971787844591326, 0.48093986197831096, 0.49232261192823656, 0.4468480648977522, 0.5004559270516717, 0.4984121943474119, 0.5121951219512195, 0.48596338273757633, 0.5666920152091255, 0.5382471353360173, 0.5087776866283839, 0.4467600130250733, 0.47662044501773615, 0.4733536999321113, 0.5, 0.5091799265605874, 0.5537781840341256, 0.5280972724285246, 0.541781154032649, 0.50211255703904, 0.5311550151975685, 0.49857097491267066, 0.48494533221194275, 0.4373147340889277, 0.5207604562737642, 0.5082068751935583, 0.5022149302707137, 0.46190166069684147, 0.4998387616897775, 0.5057705363204344, 0.5057347670250896, 0.46791397097394644, 0.5009140767824498, 0.4765034505422281, 0.5007273315015355, 0.47828291363866826, 0.5417933130699089, 0.533820260400127, 0.5264928511354079, 0.48352223190932875, 0.5411406844106464, 0.4908640445958501, 0.4605156478028215, 0.414034516444155, 0.4863595028796605, 0.4764086897488119, 0.5157706093189964, 0.5086553593285539, 0.5364107251675808, 0.493263227078541, 0.49442379182156126, 0.4487071150921075, 0.5083586626139818, 0.5100031756113051, 0.5179142136248949, 0.49485614646904974, 0.5758174904942965, 0.5455249303189842, 0.5200259445435382, 0.46092478020188865, 0.5125795695665354, 0.4752206381534283, 0.4818996415770609, 0.4724602203182374, 0.5208714198659354, 0.49079855405849493, 0.5018587360594795, 0.4666215987831671, 0.5162613981762918, 0.5009526833915529, 0.5021026072329688, 0.48404533565823893, 0.5698859315589354, 0.5531124187054816, 0.542727420139452, 0.49397590361445787, 0.5341012428008487, 0.49983027834351657, 0.507168458781362, 0.48050358454275216, 0.5117306520414382, 0.48652645415708184, 0.5149507030871181, 0.48673314179482846, 0.5468085106382979, 0.5373134328358209, 0.5172413793103448, 0.4660854402789887, 0.542661596958175, 0.5078971817900279, 0.48564942435544023, 0.4540866167372192, 0.5394058805698697, 0.5259674134419552, 0.557168458781362, 0.5432767966427696, 0.5542352224253504, 0.507394019060138, 0.5126878939712299, 0.46459354402568864, 0.5138297872340426, 0.5084153699587171, 0.520605550883095, 0.48979947689625114, 0.554828897338403, 0.5297305667389285, 0.49635154856494246, 0.43161836535330517, 0.483176720218248, 0.43482688391038693, 0.45340501792114696, 0.4628431543976219, 0.5210237659963437, 0.516102530397634, 0.5529335703895264, 0.5372655061686665, 0.5750759878419454, 0.5346141632264211, 0.4987384356602186, 0.42859633827375765, 0.4976425855513308, 0.4769278414369774, 0.469596238041187, 0.4417127971344839, 0.5101545923006972, 0.4879497623896809, 0.5034050179211469, 0.4696625284140583, 0.5018281535648995, 0.465494577719356, 0.4900598028123484, 0.4605374345107318, 0.523404255319149, 0.527945379485551, 0.5303616484440706, 0.4887532693984307, 0.5577186311787072, 0.514710436667699, 0.47559591373439275, 0.4291761641159232, 0.49196726280691117, 0.45790902919212484, 0.4862007168458781, 0.5007868508480503, 0.546617915904936, 0.5131449227735787, 0.5246484564409245, 0.48690214635795165, 0.5373860182370821, 0.5196887900920928, 0.5143818334735071, 0.4870095902353967, 0.55787072243346, 0.530040260142459, 0.5075401329657856, 0.4405731032237057, 0.49060321309487726, 0.4641887304820095, 0.4869175627240143, 0.47997901731071857, 0.5205667276051189, 0.5072297075254684, 0.5345078390172943, 0.49400033800912624, 0.5424012158054712, 0.5200063512226103, 0.5009251471825062, 0.4671316477768091, 0.5542205323193916, 0.5340662743883555, 0.5234311658829253, 0.4804623901009444, 0.5330403152470445, 0.49694501018329934, 0.4946236559139785, 0.46004546249344286, 0.4836989640463133, 0.44643443969766683, 0.4824632293518668, 0.46003042082136214, 0.5299392097264438, 0.5376309939663385, 0.5401177460050461, 0.5067131647776809, 0.5762737642585551, 0.5391762155466089, 0.4991081563158748, 0.45245848257896454, 0.5206123067596241, 0.4928716904276985, 0.5023297491039427, 0.491344640671446, 0.5195003046922608, 0.46976667762076907, 0.48133182479392267, 0.43670779111035996, 0.4928571428571429, 0.48142267386471893, 0.49301934398654323, 0.49503051438535317, 0.5908745247148289, 0.5653453081449364, 0.5469434084644074, 0.4874633669814393, 0.5242497726583814, 0.46520706042090965, 0.4639784946236559, 0.4530512327329952, 0.4940585009140768, 0.48652645415708184, 0.5202844674317116, 0.4914652695622782, 0.5366261398176293, 0.4973007303906002, 0.47502102607232966, 0.41761115954664346, 0.49095057034220535, 0.4835862496128832, 0.48256850981028054, 0.46011071312276136, 0.5459230069718096, 0.5280040733197555, 0.5485663082437275, 0.5208952614093372, 0.537020109689214, 0.5026289845547158, 0.5057378374010021, 0.4666215987831671, 0.5250759878419453, 0.509209272785011, 0.47587443946188335, 0.4685265911072363, 0.5309505703422053, 0.4927222050170331, 0.45970488081725314, 0.4080104200586129, 0.4699909063352531, 0.4443312966734555, 0.4876344086021505, 0.4971148802238153, 0.5443327239488117, 0.5356556030233323, 0.5585905931792468, 0.5296603008281223, 0.56838905775076, 0.5368370911400444, 0.4925560538116592, 0.4805579773321709, 0.5586311787072243, 0.531898420563642, 0.5005675368898979, 0.4540866167372192, 0.5087905425886632, 0.46588594704684316, 0.4747311827956989, 0.4532260884770064, 0.5039609993906156, 0.5013144922773579, 0.5453369969290447, 0.5244211593713031, 0.5679331306990882, 0.5476341695776437, 0.503677130044843, 0.4788142981691369, 0.5481368821292776, 0.5253948590895015, 0.5046213718177396, 0.4640182351025725, 0.5219763564716581, 0.48133061778682956, 0.4888888888888889, 0.4759573351984612, 0.5118829981718465, 0.4840617811370359, 0.5042831743979311, 0.46932567179313844, 0.5133738601823709, 0.49904731660844714, 0.4674439461883408, 0.4718395815170009, 0.5612167300380229, 0.5388665221430784, 0.5153234960272418, 0.46694887658743084, 0.5197029402849349, 0.48438560760353017, 0.4960573476702509, 0.47858017135862907, 0.5202620353443024, 0.4896483733158068, 0.502020365282043, 0.4525942200439412, 0.4893617021276596, 0.46601031411157995, 0.44071748878923767, 0.45074106364428945, 0.5543726235741445, 0.5455249303189842, 0.5328360629155181, 0.484532725496581, 0.5348590481964232, 0.4981330617786829, 0.49336917562724014, 0.4722853645742262, 0.5207190737355272, 0.4924416694051923, 0.5151123323096816, 0.48622612810545884, 0.5355623100303952, 0.5078918581028286, 0.4545291479820628, 0.4390584132519617, 0.5154372623574145, 0.4951997522452772, 0.49521647478514674, 0.46304135460761975, 0.531221582297666, 0.5139171758316361, 0.5365591397849462, 0.5175730022731246, 0.537020109689214, 0.4973710154452843, 0.5081622757394537, 0.46932567179313844, 0.5252279635258359, 0.5069542115955619, 0.5005277973258269, 0.49485614646904974, 0.5727756653992395, 0.5462991638278105, 0.5140262688503324, 0.4507158137238769, 0.5106092755380418, 0.48285811269517986, 0.5100358422939067, 0.5114530512327329, 0.5723910999686619, 0.531547814656589, 0.5362857604654921, 0.4836910596586108, 0.5205167173252281, 0.4875761837787155, 0.4604152005629838, 0.45841325196163907, 0.5482889733840304, 0.5229173118612573, 0.5013783038754662, 0.4459437222313642, 0.509093664746893, 0.47912423625254574, 0.49587813620071686, 0.4932680538555691, 0.5487308053901598, 0.5108445612882024, 0.5440439631485372, 0.5185059996619908, 0.5650455927051672, 0.545397718393499, 0.523926812104152, 0.48666085440278994, 0.547680608365019, 0.5068132548776711, 0.4670017836873683, 0.41369096593714005, 0.4965827896862379, 0.4607942973523421, 0.48458781362007164, 0.4822521419828641, 0.5443434659981197, 0.5039434768320736, 0.5254566025537417, 0.4967044110190975, 0.5387537993920973, 0.5152367557430848, 0.5052779732582688, 0.4915431560592851, 0.568212927756654, 0.5438216165995664, 0.5226203988973569, 0.4574625637650157, 0.5170860515688102, 0.4536659877800407, 0.45770609318996414, 0.4346913796118202, 0.4951425885302413, 0.47387446598751237, 0.521900759657346, 0.5098867669427074, 0.5635258358662615, 0.5280512580090639, 0.4839901477832512, 0.45370531822144733, 0.5276045627376427, 0.5063487147723753, 0.5023512242581483, 0.47309527727497125, 0.5655483069276173, 0.530040733197556, 0.5326164874551971, 0.4981640146878824, 0.5324349733625822, 0.46779493920473225, 0.4714724422175529, 0.42655319148936177, 0.4962006079027356, 0.49195186747929365, 0.4975369458128079, 0.49956408020924153, 0.5885931558935361, 0.5690616289873025, 0.5428895735365656, 0.4800065821951621, 0.5433364398881639, 0.49372029871011536, 0.49874551971326164, 0.4843504109109984, 0.539486054528361, 0.495070653959908, 0.5130111524163569, 0.47591489361702133, 0.5217325227963526, 0.4978902953586498, 0.48469387755102045, 0.4699215344376635, 0.5507224334600761, 0.5274078662124497, 0.50640505918599, 0.46075366134605894, 0.5461323392357875, 0.5079769178547182, 0.5304659498207885, 0.5173981465291134, 0.5670636164211845, 0.5138021689122577, 0.5231937934378535, 0.4805106382978724, 0.5317629179331308, 0.509767151117362, 0.48856439127375084, 0.4744551002615519, 0.5572623574144486, 0.5442861567048622, 0.527971461002108, 0.46782952114530196, 0.5403852127990059, 0.48710115410726407, 0.4869175627240143, 0.4665151250218569, 0.5115951112503917, 0.47913243509694387, 0.51786002909326, 0.49668085106382986, 0.5667173252279636, 0.5469604625722769, 0.5330752990851513, 0.5239755884917175, 0.5840304182509506, 0.5514091049860638, 0.5180801037781742, 0.44298173440842525, 0.5159987573780677, 0.47131704005431085, 0.4874551971326164, 0.4817275747508305, 0.5382325289877781, 0.4926059809398621, 0.5050913205107483, 0.45327659574468093, 0.5021276595744681, 0.48523206751054854, 0.4903237156931738, 0.49938971229293816, 0.5867680608365019, 0.5641065345308145, 0.5278093076049943, 0.448741155175251, 0.5041938490214352, 0.44976238968092325, 0.45878136200716846, 0.4551495016611295, 0.5329050454403008, 0.5110088728228722, 0.5404881202521415, 0.5227234042553192, 0.5750759878419454, 0.5414908579465542, 0.5049261083743842, 0.4571926765475153, 0.5207604562737642, 0.49380613192938994, 0.47510945354305173, 0.44166529537600796, 0.5358807082945014, 0.5042430414120842, 0.5360215053763441, 0.5126770414408113, 0.5463804450015669, 0.48586920801840294, 0.4918377242605463, 0.4539574468085107, 0.5278115501519758, 0.5288326300984529, 0.5248064743138635, 0.5220575414123801, 0.5922433460076046, 0.5475379374419325, 0.5089995135398087, 0.44001974658548626, 0.5170860515688102, 0.47114731839782753, 0.48028673835125446, 0.47735618115055073, 0.5352554058288937, 0.505586592178771, 0.5367706481331824, 0.4961702127659575, 0.55, 0.5288326300984529, 0.5059817030260381, 0.4812554489973845, 0.5490494296577947, 0.5198203778259523, 0.49586508837360144, 0.4515385881191378, 0.5318421870146008, 0.47606924643584514, 0.47726471624955935, 0.47001223990208074, 0.5164525227201504, 0.4620440354912916, 0.4900598028123484, 0.45463829787234045, 0.5071428571428572, 0.4832005000781372, 0.4690928086366011, 0.47724498692240636, 0.554828897338403, 0.5368535150201301, 0.5347819036808821, 0.486917887115353, 0.5616651133892513, 0.5168024439918533, 0.50475854776172, 0.4867983913271551, 0.532748354747728, 0.4842260926717056, 0.5002424438338451, 0.4621276595744681, 0.523404255319149, 0.5002344116268167, 0.4664809333101167, 0.4551002615518745, 0.5374904942965779, 0.5083617218953236, 0.48548727095832656, 0.4441336185617904, 0.5365020192606399, 0.5061099796334012, 0.5200916461050404, 0.5254415107536282, 0.573331244124099, 0.5192244495563589, 0.5225472765475998, 0.46348936170212773, 0.507598784194529, 0.48226285357087045, 0.4628243078530385, 0.45841325196163907, 0.544638783269962, 0.5289563332301022, 0.5122425814820821, 0.4549942405792332, 0.5225225225225225, 0.46062457569585874, 0.4592879802608389, 0.46336772162965545, 0.5230335318082106, 0.4952349654945778, 0.5348310974624212, 0.5188085106382979, 0.5758358662613983, 0.5464916393186435, 0.5188925648615706, 0.498866608544028, 0.5511787072243346, 0.5111489625270982, 0.48191989622182585, 0.41961494158301793, 0.5060577819198508, 0.470468431771894, 0.49295029961226644, 0.49746459171183766, 0.5496709495455969, 0.5118304304962209, 0.5186681752060772, 0.47710638297872343, 0.5378419452887538, 0.5138302859821847, 0.4927738115967265, 0.4877070619006103, 0.5587832699619772, 0.5233818519665531, 0.4875952651208043, 0.4220832647688004, 0.4886610748679714]\n"
     ]
    }
   ],
   "source": [
    "test_data_point = list(test_data_point)\n",
    "for i in range(len(test_data_point)):\n",
    "    test_data_point[i] = float(test_data_point[i])\n",
    "print(test_data_point)"
   ]
  },
  {
   "cell_type": "code",
   "execution_count": 21,
   "id": "bb8eba97",
   "metadata": {},
   "outputs": [
    {
     "name": "stdout",
     "output_type": "stream",
     "text": [
      "{'ALARM': 0, 'BELL': 1, 'CRYING_BABY': 2, 'NOISE': 3, 'RAIN': 4, 'ROOSTER': 5}\n"
     ]
    }
   ],
   "source": [
    "# Print the mapping of labels to encoded numbers\n",
    "label_mapping = dict(zip(encoder.classes_, range(len(encoder.classes_))))\n",
    "print(label_mapping)"
   ]
  },
  {
   "cell_type": "code",
   "execution_count": 23,
   "id": "174cabd3",
   "metadata": {},
   "outputs": [
    {
     "data": {
      "text/plain": [
       "'BELL'"
      ]
     },
     "execution_count": 23,
     "metadata": {},
     "output_type": "execute_result"
    }
   ],
   "source": [
    "y[2000]"
   ]
  },
  {
   "cell_type": "code",
   "execution_count": 32,
   "id": "5225802c",
   "metadata": {},
   "outputs": [
    {
     "name": "stdout",
     "output_type": "stream",
     "text": [
      "[0.4854039375424304, 0.49713261648745516, 0.511731658955717, 0.490891504110914, 0.49112717712783444, 0.5118797478584127, 0.5243376463339495, 0.526032867455076, 0.51603683709114, 0.5091673675357442, 0.5067359194935886, 0.4782684587187991, 0.519046144317126, 0.5050041017227235, 0.4835331869616619, 0.45527210884353736, 0.48404616429056346, 0.4989247311827957, 0.5160277594183741, 0.49862969530872153, 0.49983568846533033, 0.5194763213188944, 0.5320394331484904, 0.5344801105820919, 0.5246109876151159, 0.5204373423044575, 0.5180977114104852, 0.4899633443882004, 0.5284917931248064, 0.5128794093519278, 0.48927546022631313, 0.4585034013605441, 0.4850644942294636, 0.4991039426523297, 0.5125578321216127, 0.49459938739319675, 0.49572790009858697, 0.51786002909326, 0.5308071472581639, 0.5327906619566887, 0.522864401397269, 0.5160639192598822, 0.5132283720175296, 0.4833304241577937, 0.5221430783524311, 0.5041837571780148, 0.4820131734504307, 0.4532312925170068, 0.48031228784792934, 0.4931899641577061, 0.5077660277594184, 0.4850878607125584, 0.48439040420637536, 0.5073541296266364, 0.5229513247073321, 0.5271079711257872, 0.5195300095268339, 0.5153910849453321, 0.5153384190878104, 0.48751963693489264, 0.5272530195106844, 0.511402789171452, 0.48944435061645, 0.45901360544217684, 0.4855736591989137, 0.4994623655913978, 0.5155320555188367, 0.49572787360954373, 0.4952349654945778, 0.5143041861968644, 0.5254158964879853, 0.5263400399324221, 0.5158780565258813, 0.5101766190075694, 0.5081967213114753, 0.4794903124454529, 0.519665531124187, 0.503363412633306, 0.4804931599391995, 0.44965986394557816, 0.4758995247793618, 0.48655913978494625, 0.5013218770654329, 0.4818636143801386, 0.48258297732500827, 0.5037982867302409, 0.5178681454097351, 0.5208109353401935, 0.5123848840901873, 0.5068124474348191, 0.5068982308066872, 0.4789666608483156, 0.5210591514400743, 0.5054963084495487, 0.4843776389123459, 0.4537414965986394, 0.482009504412763, 0.49498207885304657, 0.5107402511566425, 0.49137514106077695, 0.49211304633585284, 0.5143041861968644, 0.5291127541589649, 0.5323299032406696, 0.5239758653540807, 0.5184188393608073, 0.5163122869664015, 0.48943969279106303, 0.5297305667389285, 0.5141919606234618, 0.49180881607836513, 0.4847402597402597, 0.4854039375424304, 0.49731182795698925, 0.5114011896893589, 0.49121392874415604, 0.4909628655931647, 0.5125262647486666, 0.5263401109057302, 0.5278759023191523, 0.5168307399174341, 0.5115222876366694, 0.5103067683817561, 0.4843777273520684, 0.5250851656859709, 0.5077932731747333, 0.4842087485222091, 0.4771103896103896, 0.47674813306177866, 0.4883512544802867, 0.5051222736285526, 0.48557149766242136, 0.48603351955307267, 0.5076773880717633, 0.5226432532347505, 0.525264936261711, 0.5161956176563989, 0.5106812447434819, 0.5098198344424606, 0.48263222202827716, 0.5233818519665531, 0.5068088597210828, 0.4857287620334403, 0.48116883116883113, 0.4835369993211133, 0.49551971326164873, 0.5120621282220753, 0.4941157504433338, 0.495070653959908, 0.5180216583158235, 0.5317313616759088, 0.5334050069113808, 0.523658304223563, 0.5177460050462573, 0.5138776172699236, 0.48525048001396404, 0.5255497057912666, 0.5104183757178015, 0.4870798851545347, 0.4810064935064935, 0.48150033944331294, 0.4944444444444444, 0.5104097818902842, 0.491052716427535, 0.49112717712783444, 0.5125262647486666, 0.5271102895871842, 0.5292581784672094, 0.5196887900920928, 0.5137089991589571, 0.47660462689163335, 0.48350497469017284, 0.5240012387736142, 0.5095980311730927, 0.46433161953727503, 0.4829545454545454, 0.4826883910386965, 0.4922939068100358, 0.5071050892267019, 0.48750604546187326, 0.4880052579691095, 0.5092936802973977, 0.5226432532347505, 0.524804177545692, 0.51603683709114, 0.5100084104289319, 0.4738215341798574, 0.48228312096351894, 0.5238463920718488, 0.5099261689909762, 0.4640102827763496, 0.4810064935064935, 0.4835369993211133, 0.49569892473118277, 0.5107402511566425, 0.49008544252780906, 0.49030561945448575, 0.5130111524163569, 0.48115599121176267, 0.5294117647058825, 0.5196887900920928, 0.5132043734230445, 0.47660462689163335, 0.4854250305463432, 0.5277175596159802, 0.5123872026251025, 0.46609897172236503, 0.48376623376623373, 0.4848947725729803, 0.4985663082437276, 0.5168539325842696, 0.4979848460422376, 0.4973710154452843, 0.5162437368676256, 0.4820010140273787, 0.5287974197511903, 0.5184185455700222, 0.5128679562657695, 0.4750391372412594, 0.48001396404259034, 0.5210591514400743, 0.5059885151763741, 0.4606362467866324, 0.47824675324675325, 0.4808214528173794, 0.4937275985663082, 0.48050358454275216, 0.4894405932613251, 0.49129148866250416, 0.5120413770809762, 0.47828291363866826, 0.5271079711257872, 0.5184185455700222, 0.5125315391084945, 0.47643068359714735, 0.4842031768196893, 0.5250851656859709, 0.5099261689909762, 0.4635282776349614, 0.48165584415584417, 0.48404616429056346, 0.4962365591397849, 0.48260185347088647, 0.49169756569401896, 0.49194873480118306, 0.5149507030871181, 0.48250802771674833, 0.5304868683765935, 0.5220704985709749, 0.5182506307821698, 0.4826926421986433, 0.4903124454529586, 0.5291111799318674, 0.5138638228055783, 0.46190166069684147, 0.48896103896103893, 0.49117447386286484, 0.5043010752688172, 0.49047036195139004, 0.4992745445752055, 0.5, 0.5215775012122191, 0.48893020111543006, 0.5349408692981109, 0.5244522070498571, 0.5192598822539949, 0.4840841885545313, 0.49258160237388726, 0.5336017342830598, 0.5182936833470058, 0.46450667535004886, 0.4910714285714286, 0.4932111337406653, 0.5050179211469534, 0.49064521769540126, 0.49830727067547953, 0.4985211961879724, 0.5186681752060772, 0.485550109852966, 0.5321763170019966, 0.5219117180057161, 0.5162321278385197, 0.47933740191804713, 0.48647233374061793, 0.5263239393000929, 0.5128794093519278, 0.4615760338651905, 0.487012987012987, 0.4896469789545146, 0.5021505376344085, 0.487672670047211, 0.49572787360954373, 0.49638514623726593, 0.5176983998706965, 0.4852121007267196, 0.5332514206727078, 0.5233407430930455, 0.5160639192598822, 0.4770706190061029, 0.4847268284168267, 0.5255497057912666, 0.5102543068088596, 0.4581569521328558, 0.48376623376623373, 0.48472505091649687, 0.49498207885304657, 0.4813778632628081, 0.49137514106077695, 0.4929346040092015, 0.5139809277517375, 0.48166300490113234, 0.5289510059898633, 0.5169895204826929, 0.5083263246425567, 0.4692240627724499, 0.4761738523302496, 0.5154846701765252, 0.4994257588187038, 0.44855096059915345, 0.47564935064935066, 0.4782756279701289, 0.49175627240143366, 0.4791047385906626, 0.4899242302111881, 0.49211304633585284, 0.5149507030871181, 0.4826770322798716, 0.5297189371832285, 0.5182597650047635, 0.5111858704793943, 0.47271142109851794, 0.48158491883400245, 0.5236915453700837, 0.5084495488105004, 0.455063497232172, 0.48003246753246753, 0.48099117447386286, 0.493010752688172, 0.47962930582269625, 0.48863453167822013, 0.48849819257311866, 0.5091320510748343, 0.477268886259929, 0.52572569497773, 0.5161956176563989, 0.5106812447434819, 0.47393199651264173, 0.4798394135102112, 0.5213688448436048, 0.5076292042657916, 0.4563660045587757, 0.4862947436310867, 0.48591310251188047, 0.5, 0.4881972372792446, 0.49701757214251163, 0.49753532697995406, 0.5196379505414579, 0.48605712354233566, 0.5334050069113808, 0.5230231819625277, 0.5150546677880572, 0.47654751525719274, 0.4857741316111014, 0.5264787860018582, 0.5099261689909762, 0.4563660045587757, 0.4837149306675266, 0.4804820095044127, 0.493010752688172, 0.48050358454275216, 0.49056907947767203, 0.4924416694051923, 0.5149507030871181, 0.48250802771674833, 0.5287974197511903, 0.5181009844395046, 0.5121951219512195, 0.4775937227550131, 0.5519391634980989, 0.5261690925983277, 0.5117309269893355, 0.4597850862911104, 0.4879071267333118, 0.4862525458248472, 0.5, 0.487672670047211, 0.4973399967757536, 0.49819257311863296, 0.5196379505414579, 0.48622612810545884, 0.5332514206727078, 0.5230231819625277, 0.5165685449957947, 0.4768962510897995, 0.5493536121673004, 0.52152369154537, 0.5059885151763741, 0.45424943015304464, 0.4848435988390841, 0.48336727766462995, 0.4944444444444444, 0.480328728798741, 0.491052716427535, 0.4930989155438712, 0.5157588491999353, 0.4833530505323643, 0.5346504559270517, 0.5169895204826929, 0.5093355761143818, 0.4723626852659111, 0.5482889733840304, 0.5226076184577269, 0.5082854799015586, 0.455063497232172, 0.4837149306675266, 0.4835369993211133, 0.4974910394265233, 0.48452526665500956, 0.4931484765436079, 0.4924416694051923, 0.5136576693066106, 0.4803109683961467, 0.5329787234042553, 0.5176246427437281, 0.513372582001682, 0.47654751525719274, 0.5526996197718631, 0.5274078662124497, 0.5130434782608695, 0.46027352653858683, 0.4896807481457594, 0.48913781398506445, 0.5041218637992831, 0.4899457947193565, 0.5260511882998172, 0.49967137693066055, 0.5217391304347826, 0.49045124218353897, 0.5424012158054712, 0.5298507462686567, 0.5236333052985702, 0.4845684394071491, 0.555893536121673, 0.5277175596159802, 0.5097621000820345, 0.4570172582220775, 0.48839084166397934, 0.48761031907671415, 0.5003584229390681, 0.487672670047211, 0.5236136502132847, 0.49572790009858697, 0.5165669953127525, 0.48436707791110356, 0.5352583586626141, 0.5192124483963163, 0.512699747687132, 0.47462946817785534, 0.549809885931559, 0.5227624651594921, 0.5028376844494893, 0.45571475089547386, 0.5150045468323734, 0.4821792260692464, 0.4960573476702509, 0.48102815177478575, 0.51691042047532, 0.488333881038449, 0.5084855341845805, 0.4732127767449721, 0.5261398176291794, 0.510955859002858, 0.504121110176619, 0.4659110723626853, 0.5429657794676807, 0.5192009910188913, 0.4982973893303065, 0.45294692282644095, 0.5143983025159139, 0.480142566191446, 0.4921146953405018, 0.4815527190068193, 0.520109689213894, 0.4930989155438712, 0.5141425569743009, 0.4813249957748859, 0.5340425531914894, 0.5196887900920928, 0.5155592935239697, 0.4807323452484743, 0.5560456273764258, 0.5320532672654072, 0.5128911950705367, 0.46662324975577996, 0.524704455895726, 0.49219280380176506, 0.5051971326164875, 0.4916943521594684, 0.5257464960390007, 0.49753532697995406, 0.518991433651204, 0.4872401554841981, 0.5414893617021277, 0.5282629406160686, 0.5224558452481076, 0.48474280732345254, 0.5583269961977186, 0.5331371941777641, 0.5135398086589914, 0.4672745034190818, 0.52606850560776, 0.4927019687712152, 0.5030465949820788, 0.48749781430319983, 0.5239183424741012, 0.4973710154452843, 0.5183449167609504, 0.48757816461044445, 0.540273556231003, 0.5260400127024452, 0.5204373423044575, 0.48282476024411514, 0.5561977186311787, 0.5297305667389285, 0.5080265931571266, 0.4597850862911104, 0.5180357684146711, 0.4837067209775967, 0.49569892473118277, 0.4827767092148977, 0.5214808043875686, 0.4952349654945778, 0.5180216583158235, 0.485550109852966, 0.5375379939209727, 0.5227056208320102, 0.5167367535744323, 0.47898866608544033, 0.5531558935361217, 0.5253948590895015, 0.5041349116263986, 0.4591338326278086, 0.5203091846013944, 0.4882892057026476, 0.4994623655913978, 0.48644867983913265, 0.5230042656916515, 0.4958922116332567, 0.5175367706481331, 0.485550109852966, 0.5382978723404256, 0.5233407430930455, 0.5174095878889823, 0.4807323452484743, 0.5555893536121673, 0.5315887271601115, 0.5101345873196044, 0.46304135460761975, 0.5230372840254622, 0.4928716904276985, 0.5051971326164875, 0.49239377513551313, 0.5266605728214504, 0.49802826158396324, 0.5176983998706965, 0.48605712354233566, 0.5386018237082068, 0.5238170847888218, 0.5190916736753574, 0.48282476024411514, 0.5555893536121673, 0.5283369464230412, 0.5080265931571266, 0.4628785411917943, 0.5227341618672325, 0.49083503054989813, 0.5057347670250896, 0.49239377513551313, 0.5263558805606339, 0.49901413079198165, 0.5207693550994019, 0.48774716917356764, 0.5407294832826748, 0.5269926960939981, 0.5211101766190075, 0.48160418482999134, 0.5549809885931559, 0.529420873335398, 0.5081887465542403, 0.4622272875284924, 0.5230372840254622, 0.4910047522063815, 0.5019713261648745, 0.48942122748732286, 0.5278793418647167, 0.5029576076240553, 0.5240019395506708, 0.49062024674666216, 0.5430091185410335, 0.5274690377897745, 0.5216148023549201, 0.48631211857018314, 0.5601520912547528, 0.5331371941777641, 0.5117561212907411, 0.4640182351025725, 0.5231888451045772, 0.4910047522063815, 0.5032258064516129, 0.4887218045112781, 0.5242230347349178, 0.4967137693066054, 0.5175367706481331, 0.4833530505323643, 0.5352583586626141, 0.5188948872657987, 0.5113540790580319, 0.4730601569311247, 0.5479847908745248, 0.5219882316506659, 0.4995946165072158, 0.45262129599479, 0.5131858138829949, 0.4804820095044127, 0.4921146953405018, 0.4792795943346738, 0.5166057282145033, 0.48767663489977, 0.5091320510748343, 0.47524083150245056, 0.5279635258358664, 0.5128612257859638, 0.5066442388561816, 0.4700959023539669, 0.5447908745247149, 0.5174976772994735, 0.49635154856494246, 0.4495278410941062, 0.5101545923006972, 0.4775967413441955, 0.49103942652329746, 0.47892988284665144, 0.5176721511273614, 0.4914558001971739, 0.5136576693066106, 0.48183200946425553, 0.5348024316109423, 0.5192124483963163, 0.4810762331838565, 0.4763731473408893, 0.5508745247148289, 0.5250851656859709, 0.5034862980379439, 0.45587756431129933, 0.5160654743861777, 0.4835369993211133, 0.4962365591397849, 0.4817275747508305, 0.5182815356489946, 0.4914558001971739, 0.5139809277517375, 0.4820010140273787, 0.5357142857142858, 0.5208002540489044, 0.48412556053811656, 0.4786399302528335, 0.5534600760456274, 0.5280272530195107, 0.5077022863628993, 0.4604363399544123, 0.5193998181267051, 0.48659198913781393, 0.4996415770609319, 0.4871481028151774, 0.524832419256551, 0.4986855077226422, 0.5191530628737675, 0.4858881189792124, 0.5369300911854104, 0.5227056208320102, 0.4850224215246637, 0.4788142981691369, 0.5530038022813688, 0.5277175596159802, 0.5067293659802173, 0.45945945945945954, 0.5193998181267051, 0.4862525458248472, 0.4982078853046595, 0.4853995453750655, 0.521176112126752, 0.4934275386132107, 0.5143041861968644, 0.4809869866486395, 0.5337386018237082, 0.5190536678310574, 0.4814349775784753, 0.4767218831734961, 0.5516349809885932, 0.5267884794053886, 0.5046213718177396, 0.4553891240638229, 0.5127311306456502, 0.4796334012219959, 0.49390681003584225, 0.48347613219094243, 0.5214808043875686, 0.49408478475188966, 0.5139809277517375, 0.4808179820855163, 0.5338905775075988, 0.5110173464603844, 0.48071748878923765, 0.47532693984306895, 0.5495057034220532, 0.5230721585630226, 0.5010539970812389, 0.4545750569846956, 0.5153076689906032, 0.48387644263408003, 0.4976702508960573, 0.48347613219094243, 0.520109689213894, 0.4926059809398621, 0.5136576693066106, 0.48233902315362515, 0.5355623100303952, 0.5135177371464291, 0.48412556053811656, 0.4775937227550131, 0.5514828897338403, 0.5264787860018582, 0.5067293659802173, 0.4612504070335396, 0.5212185510760836, 0.488458927359131, 0.5003584229390681, 0.48609896835111027, 0.5216331505179769, 0.49129148866250416, 0.509778567965088, 0.4760858543180666, 0.5293313069908815, 0.5058602906704173, 0.48346235045742436, 0.46765475152571934, 0.5431178707224334, 0.5185816042118303, 0.4991081563158748, 0.4469310515056772, 0.5131858138829949, 0.4811608961303462, 0.4937275985663082, 0.48050358454275216, 0.5324349733625822, 0.48882681564245817, 0.509778567965088, 0.4760858543180666, 0.5287234042553193, 0.503828723238006, 0.4822308233638283, 0.4674803836094159, 0.5434220532319392, 0.5167234437906473, 0.49586508837360144, 0.44396906368273825, 0.5107608366171568, 0.4774270196877121, 0.4905017921146953, 0.4787550271026403, 0.5313381385145722, 0.48866250410778844, 0.5110716017455956, 0.4792969410174075, 0.5317629179331308, 0.5078918581028286, 0.4861013370865588, 0.47044463818657367, 0.5472243346007605, 0.5232270052647878, 0.502999837846603, 0.45038670396577263, 0.5293569431500466, 0.48455532926001355, 0.49677419354838703, 0.4843504109109984, 0.5365089313694766, 0.4934275386132107, 0.5136576693066106, 0.4794659455805307, 0.5314589665653496, 0.5086732301922176, 0.48856439127375084, 0.4737576285963383, 0.5484410646387833, 0.5221430783524311, 0.5020269174639209, 0.45005759420766833, 0.5287356321839081, 0.4826883910386965, 0.49498207885304657, 0.4806784402867633, 0.5318082105922908, 0.4896483733158068, 0.5096169387425247, 0.4749028223762042, 0.5293313069908815, 0.5074230348491953, 0.48680506685432795, 0.4716652136006975, 0.5470722433460076, 0.52152369154537, 0.5015404572725799, 0.4492348198124075, 0.5268716992854924, 0.48031228784792934, 0.4926523297491039, 0.48050358454275216, 0.5343152616734566, 0.4939204732172199, 0.5157588491999353, 0.4803404255319149, 0.5373860182370821, 0.5153930301609626, 0.4943701618578466, 0.4768962510897995, 0.5507224334600761, 0.5240012387736142, 0.5028376844494893, 0.4502221490867204, 0.5279589934762348, 0.4811608961303462, 0.4915770609318996, 0.4778807483825843, 0.5314948292071451, 0.49129148866250416, 0.5147890738645546, 0.4788085106382979, 0.53419452887538, 0.5103922487888732, 0.4897959183673469, 0.4744551002615519, 0.5484410646387833, 0.5219882316506659, 0.5007296902870115, 0.4469310515056772, 0.5242311276794035, 0.4765784114052953, 0.48602150537634403, 0.4724602203182374, 0.5253838921968035, 0.4838974696023661, 0.5062227250686924, 0.4709787234042554, 0.5293313069908815, 0.5053914674167839, 0.48311048557353975, 0.46573670444638193, 0.5408365019011407, 0.51532982347476, 0.4953786281822604, 0.44347539904558175, 0.5232991612301957, 0.47725729803122874, 0.4905017921146953, 0.4792795943346738, 0.532748354747728, 0.4917844232665134, 0.5136576693066106, 0.476936170212766, 0.532370820668693, 0.5086732301922176, 0.4871569317382125, 0.4692240627724499, 0.5441825095057035, 0.5198203778259523, 0.5008918436841252, 0.4497284844495639, 0.5296675986331159, 0.4855736591989137, 0.4989247311827957, 0.48609896835111027, 0.5376057662174867, 0.49408478475188966, 0.5131727816389202, 0.47523404255319157, 0.5317629179331308, 0.5092983278637288, 0.4894440534834623, 0.47462946817785534, 0.5492015209125476, 0.5226076184577269, 0.5020269174639209, 0.44989303932861613, 0.5282696489593041, 0.4821792260692464, 0.4931899641577061, 0.480328728798741, 0.532748354747728, 0.4909628655931647, 0.5123646355261031, 0.4757446808510639, 0.5343465045592706, 0.5147679324894515, 0.4980647431386348, 0.4814298169136879, 0.5531558935361217, 0.5250851656859709, 0.5012161504783526, 0.44561461247325984, 0.5239204721963342, 0.47912423625254574, 0.493010752688172, 0.48085329603077454, 0.5350987151363209, 0.4952349654945778, 0.5202844674317116, 0.48612765957446813, 0.5411854103343465, 0.5155493045788404, 0.4922589725545391, 0.4751525719267655, 0.5488973384030418, 0.5232270052647878, 0.5034862980379439, 0.4517031429981899, 0.5312208760484622, 0.48811948404616423, 0.5023297491039427, 0.4908200734394124, 0.5434033218426826, 0.5013144922773579, 0.5223856473250363, 0.4844255319148937, 0.5379939209726444, 0.512111267385529, 0.4887403237156932, 0.4697471665213601, 0.5449429657794677, 0.5202849179312481, 0.5028376844494893, 0.4518676978772421, 0.530444237340789, 0.48455532926001355, 0.48836799436023964, 0.48400069942297597, 0.5376057662174867, 0.49556358856391725, 0.5160821076450621, 0.4782978723404256, 0.5340425531914894, 0.5107047976246288, 0.48441581055197636, 0.4732345248474281, 0.545703422053232, 0.5188912976153608, 0.49570293497648776, 0.44248806977126875, 0.5229885057471264, 0.4781059063136456, 0.48272823405005283, 0.47840531561461785, 0.5307113757442807, 0.4881695695037792, 0.510101826410215, 0.47523404255319157, 0.5344984802431612, 0.5125800906391624, 0.487375935921992, 0.4760244115082825, 0.5495057034220532, 0.5224527717559616, 0.5004053834927842, 0.44676649662662504, 0.5248524386455421, 0.4789545145960624, 0.4830807190694395, 0.4778807483825843, 0.5299279222814164, 0.4875123233651003, 0.5104250848553418, 0.47455319148936176, 0.531306990881459, 0.5078918581028286, 0.4821521852690232, 0.4725370531822145, 0.5485931558935362, 0.5230721585630226, 0.5023512242581483, 0.44907026493335533, 0.527027027027027, 0.48183978275627964, 0.48484314416637286, 0.4782304598706067, 0.5302413036665622, 0.4873480118304305, 0.5099401971876515, 0.47387234042553195, 0.5306990881458967, 0.5088295046100954, 0.4840675605084451, 0.4748038360941587, 0.5513307984790875, 0.5267884794053886, 0.5062429057888763, 0.4535132466677637, 0.5316868592730661, 0.48591310251188047, 0.49154035953471975, 0.4873229585591886, 0.5391726731432153, 0.4993427538613211, 0.5217391304347826, 0.48476595744680856, 0.5390577507598785, 0.515861853414596, 0.49120668640083587, 0.47968613775065394, 0.5519391634980989, 0.5243109321771446, 0.5020269174639209, 0.44989303932861613, 0.5290462876669773]\n"
     ]
    }
   ],
   "source": [
    "test_data_point=list(test_data_point)\n",
    "for i in range(len(test_data_point)):\n",
    "    test_data_point[i] = float(test_data_point[i])\n",
    "print(test_data_point)"
   ]
  },
  {
   "cell_type": "code",
   "execution_count": 1,
   "id": "d54d4dcc",
   "metadata": {},
   "outputs": [
    {
     "ename": "KeyboardInterrupt",
     "evalue": "",
     "output_type": "error",
     "traceback": [
      "\u001b[31m---------------------------------------------------------------------------\u001b[39m",
      "\u001b[31mKeyboardInterrupt\u001b[39m                         Traceback (most recent call last)",
      "\u001b[36mCell\u001b[39m\u001b[36m \u001b[39m\u001b[32mIn[1]\u001b[39m\u001b[32m, line 3\u001b[39m\n\u001b[32m      1\u001b[39m \u001b[38;5;28;01mimport\u001b[39;00m\u001b[38;5;250m \u001b[39m\u001b[34;01mpandas\u001b[39;00m\u001b[38;5;250m \u001b[39m\u001b[38;5;28;01mas\u001b[39;00m\u001b[38;5;250m \u001b[39m\u001b[34;01mpd\u001b[39;00m\n\u001b[32m----> \u001b[39m\u001b[32m3\u001b[39m \u001b[43mpd\u001b[49m\u001b[43m.\u001b[49m\u001b[43mread_csv\u001b[49m\u001b[43m(\u001b[49m\u001b[33;43m'\u001b[39;49m\u001b[33;43mrecorded/all_data.csv\u001b[39;49m\u001b[33;43m'\u001b[39;49m\u001b[43m)\u001b[49m\n",
      "\u001b[36mFile \u001b[39m\u001b[32m~/MtechProject/sound_manipulation/env/lib/python3.12/site-packages/pandas/io/parsers/readers.py:1026\u001b[39m, in \u001b[36mread_csv\u001b[39m\u001b[34m(filepath_or_buffer, sep, delimiter, header, names, index_col, usecols, dtype, engine, converters, true_values, false_values, skipinitialspace, skiprows, skipfooter, nrows, na_values, keep_default_na, na_filter, verbose, skip_blank_lines, parse_dates, infer_datetime_format, keep_date_col, date_parser, date_format, dayfirst, cache_dates, iterator, chunksize, compression, thousands, decimal, lineterminator, quotechar, quoting, doublequote, escapechar, comment, encoding, encoding_errors, dialect, on_bad_lines, delim_whitespace, low_memory, memory_map, float_precision, storage_options, dtype_backend)\u001b[39m\n\u001b[32m   1013\u001b[39m kwds_defaults = _refine_defaults_read(\n\u001b[32m   1014\u001b[39m     dialect,\n\u001b[32m   1015\u001b[39m     delimiter,\n\u001b[32m   (...)\u001b[39m\u001b[32m   1022\u001b[39m     dtype_backend=dtype_backend,\n\u001b[32m   1023\u001b[39m )\n\u001b[32m   1024\u001b[39m kwds.update(kwds_defaults)\n\u001b[32m-> \u001b[39m\u001b[32m1026\u001b[39m \u001b[38;5;28;01mreturn\u001b[39;00m \u001b[43m_read\u001b[49m\u001b[43m(\u001b[49m\u001b[43mfilepath_or_buffer\u001b[49m\u001b[43m,\u001b[49m\u001b[43m \u001b[49m\u001b[43mkwds\u001b[49m\u001b[43m)\u001b[49m\n",
      "\u001b[36mFile \u001b[39m\u001b[32m~/MtechProject/sound_manipulation/env/lib/python3.12/site-packages/pandas/io/parsers/readers.py:626\u001b[39m, in \u001b[36m_read\u001b[39m\u001b[34m(filepath_or_buffer, kwds)\u001b[39m\n\u001b[32m    623\u001b[39m     \u001b[38;5;28;01mreturn\u001b[39;00m parser\n\u001b[32m    625\u001b[39m \u001b[38;5;28;01mwith\u001b[39;00m parser:\n\u001b[32m--> \u001b[39m\u001b[32m626\u001b[39m     \u001b[38;5;28;01mreturn\u001b[39;00m \u001b[43mparser\u001b[49m\u001b[43m.\u001b[49m\u001b[43mread\u001b[49m\u001b[43m(\u001b[49m\u001b[43mnrows\u001b[49m\u001b[43m)\u001b[49m\n",
      "\u001b[36mFile \u001b[39m\u001b[32m~/MtechProject/sound_manipulation/env/lib/python3.12/site-packages/pandas/io/parsers/readers.py:1923\u001b[39m, in \u001b[36mTextFileReader.read\u001b[39m\u001b[34m(self, nrows)\u001b[39m\n\u001b[32m   1916\u001b[39m nrows = validate_integer(\u001b[33m\"\u001b[39m\u001b[33mnrows\u001b[39m\u001b[33m\"\u001b[39m, nrows)\n\u001b[32m   1917\u001b[39m \u001b[38;5;28;01mtry\u001b[39;00m:\n\u001b[32m   1918\u001b[39m     \u001b[38;5;66;03m# error: \"ParserBase\" has no attribute \"read\"\u001b[39;00m\n\u001b[32m   1919\u001b[39m     (\n\u001b[32m   1920\u001b[39m         index,\n\u001b[32m   1921\u001b[39m         columns,\n\u001b[32m   1922\u001b[39m         col_dict,\n\u001b[32m-> \u001b[39m\u001b[32m1923\u001b[39m     ) = \u001b[38;5;28;43mself\u001b[39;49m\u001b[43m.\u001b[49m\u001b[43m_engine\u001b[49m\u001b[43m.\u001b[49m\u001b[43mread\u001b[49m\u001b[43m(\u001b[49m\u001b[43m  \u001b[49m\u001b[38;5;66;43;03m# type: ignore[attr-defined]\u001b[39;49;00m\n\u001b[32m   1924\u001b[39m \u001b[43m        \u001b[49m\u001b[43mnrows\u001b[49m\n\u001b[32m   1925\u001b[39m \u001b[43m    \u001b[49m\u001b[43m)\u001b[49m\n\u001b[32m   1926\u001b[39m \u001b[38;5;28;01mexcept\u001b[39;00m \u001b[38;5;167;01mException\u001b[39;00m:\n\u001b[32m   1927\u001b[39m     \u001b[38;5;28mself\u001b[39m.close()\n",
      "\u001b[36mFile \u001b[39m\u001b[32m~/MtechProject/sound_manipulation/env/lib/python3.12/site-packages/pandas/io/parsers/c_parser_wrapper.py:234\u001b[39m, in \u001b[36mCParserWrapper.read\u001b[39m\u001b[34m(self, nrows)\u001b[39m\n\u001b[32m    232\u001b[39m \u001b[38;5;28;01mtry\u001b[39;00m:\n\u001b[32m    233\u001b[39m     \u001b[38;5;28;01mif\u001b[39;00m \u001b[38;5;28mself\u001b[39m.low_memory:\n\u001b[32m--> \u001b[39m\u001b[32m234\u001b[39m         chunks = \u001b[38;5;28;43mself\u001b[39;49m\u001b[43m.\u001b[49m\u001b[43m_reader\u001b[49m\u001b[43m.\u001b[49m\u001b[43mread_low_memory\u001b[49m\u001b[43m(\u001b[49m\u001b[43mnrows\u001b[49m\u001b[43m)\u001b[49m\n\u001b[32m    235\u001b[39m         \u001b[38;5;66;03m# destructive to chunks\u001b[39;00m\n\u001b[32m    236\u001b[39m         data = _concatenate_chunks(chunks)\n",
      "\u001b[36mFile \u001b[39m\u001b[32mparsers.pyx:838\u001b[39m, in \u001b[36mpandas._libs.parsers.TextReader.read_low_memory\u001b[39m\u001b[34m()\u001b[39m\n",
      "\u001b[36mFile \u001b[39m\u001b[32mparsers.pyx:905\u001b[39m, in \u001b[36mpandas._libs.parsers.TextReader._read_rows\u001b[39m\u001b[34m()\u001b[39m\n",
      "\u001b[36mFile \u001b[39m\u001b[32mparsers.pyx:874\u001b[39m, in \u001b[36mpandas._libs.parsers.TextReader._tokenize_rows\u001b[39m\u001b[34m()\u001b[39m\n",
      "\u001b[36mFile \u001b[39m\u001b[32mparsers.pyx:891\u001b[39m, in \u001b[36mpandas._libs.parsers.TextReader._check_tokenize_status\u001b[39m\u001b[34m()\u001b[39m\n",
      "\u001b[36mFile \u001b[39m\u001b[32mparsers.pyx:2053\u001b[39m, in \u001b[36mpandas._libs.parsers.raise_parser_error\u001b[39m\u001b[34m()\u001b[39m\n",
      "\u001b[36mFile \u001b[39m\u001b[32m<frozen codecs>:331\u001b[39m, in \u001b[36mgetstate\u001b[39m\u001b[34m(self)\u001b[39m\n",
      "\u001b[31mKeyboardInterrupt\u001b[39m: "
     ]
    }
   ],
   "source": [
    "import pandas as pd\n",
    "\n",
    "pd.read_csv('recorded/all_data.csv')"
   ]
  },
  {
   "cell_type": "code",
   "execution_count": null,
   "id": "216aefd1",
   "metadata": {},
   "outputs": [],
   "source": []
  }
 ],
 "metadata": {
  "kernelspec": {
   "display_name": "env",
   "language": "python",
   "name": "python3"
  },
  "language_info": {
   "codemirror_mode": {
    "name": "ipython",
    "version": 3
   },
   "file_extension": ".py",
   "mimetype": "text/x-python",
   "name": "python",
   "nbconvert_exporter": "python",
   "pygments_lexer": "ipython3",
   "version": "3.12.3"
  }
 },
 "nbformat": 4,
 "nbformat_minor": 5
}
